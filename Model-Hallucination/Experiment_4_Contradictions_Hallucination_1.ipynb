{
 "cells": [
  {
   "cell_type": "code",
   "execution_count": 1,
   "id": "c46b72bd",
   "metadata": {},
   "outputs": [],
   "source": [
    "!python -m venv venv"
   ]
  },
  {
   "cell_type": "code",
   "execution_count": 2,
   "id": "8d1b4d31",
   "metadata": {},
   "outputs": [],
   "source": [
    "!source venv/bin/activate"
   ]
  },
  {
   "cell_type": "code",
   "execution_count": 3,
   "id": "86d2c1b9",
   "metadata": {},
   "outputs": [
    {
     "name": "stdout",
     "output_type": "stream",
     "text": [
      "/home/ec2-user/SageMaker/sagemaker/Model-Hallucination\r\n"
     ]
    }
   ],
   "source": [
    "!pwd"
   ]
  },
  {
   "cell_type": "code",
   "execution_count": 4,
   "id": "6ff904ea",
   "metadata": {},
   "outputs": [
    {
     "name": "stdout",
     "output_type": "stream",
     "text": [
      "Looking in indexes: https://pypi.org/simple, https://pip.repos.neuron.amazonaws.com\n",
      "Requirement already satisfied: wordcloud in /home/ec2-user/anaconda3/envs/pytorch_p39/lib/python3.9/site-packages (1.9.2)\n",
      "Requirement already satisfied: matplotlib in /home/ec2-user/anaconda3/envs/pytorch_p39/lib/python3.9/site-packages (from wordcloud) (3.5.3)\n",
      "Requirement already satisfied: numpy>=1.6.1 in /home/ec2-user/anaconda3/envs/pytorch_p39/lib/python3.9/site-packages (from wordcloud) (1.23.5)\n",
      "Requirement already satisfied: pillow in /home/ec2-user/anaconda3/envs/pytorch_p39/lib/python3.9/site-packages (from wordcloud) (9.2.0)\n",
      "Requirement already satisfied: kiwisolver>=1.0.1 in /home/ec2-user/anaconda3/envs/pytorch_p39/lib/python3.9/site-packages (from matplotlib->wordcloud) (1.4.4)\n",
      "Requirement already satisfied: cycler>=0.10 in /home/ec2-user/anaconda3/envs/pytorch_p39/lib/python3.9/site-packages (from matplotlib->wordcloud) (0.11.0)\n",
      "Requirement already satisfied: pyparsing>=2.2.1 in /home/ec2-user/anaconda3/envs/pytorch_p39/lib/python3.9/site-packages (from matplotlib->wordcloud) (3.0.9)\n",
      "Requirement already satisfied: python-dateutil>=2.7 in /home/ec2-user/anaconda3/envs/pytorch_p39/lib/python3.9/site-packages (from matplotlib->wordcloud) (2.8.2)\n",
      "Requirement already satisfied: packaging>=20.0 in /home/ec2-user/anaconda3/envs/pytorch_p39/lib/python3.9/site-packages (from matplotlib->wordcloud) (21.3)\n",
      "Requirement already satisfied: fonttools>=4.22.0 in /home/ec2-user/anaconda3/envs/pytorch_p39/lib/python3.9/site-packages (from matplotlib->wordcloud) (4.38.0)\n",
      "Requirement already satisfied: six>=1.5 in /home/ec2-user/anaconda3/envs/pytorch_p39/lib/python3.9/site-packages (from python-dateutil>=2.7->matplotlib->wordcloud) (1.16.0)\n"
     ]
    }
   ],
   "source": [
    "!pip install wordcloud"
   ]
  },
  {
   "cell_type": "code",
   "execution_count": 5,
   "id": "a9df17a7",
   "metadata": {},
   "outputs": [
    {
     "name": "stdout",
     "output_type": "stream",
     "text": [
      "Looking in indexes: https://pypi.org/simple, https://pip.repos.neuron.amazonaws.com\n",
      "Requirement already satisfied: spacy in /home/ec2-user/anaconda3/envs/pytorch_p39/lib/python3.9/site-packages (3.5.3)\n",
      "Requirement already satisfied: typer<0.8.0,>=0.3.0 in /home/ec2-user/anaconda3/envs/pytorch_p39/lib/python3.9/site-packages (from spacy) (0.4.2)\n",
      "Requirement already satisfied: spacy-legacy<3.1.0,>=3.0.11 in /home/ec2-user/anaconda3/envs/pytorch_p39/lib/python3.9/site-packages (from spacy) (3.0.11)\n",
      "Requirement already satisfied: thinc<8.2.0,>=8.1.8 in /home/ec2-user/anaconda3/envs/pytorch_p39/lib/python3.9/site-packages (from spacy) (8.1.10)\n",
      "Requirement already satisfied: srsly<3.0.0,>=2.4.3 in /home/ec2-user/anaconda3/envs/pytorch_p39/lib/python3.9/site-packages (from spacy) (2.4.5)\n",
      "Requirement already satisfied: langcodes<4.0.0,>=3.2.0 in /home/ec2-user/anaconda3/envs/pytorch_p39/lib/python3.9/site-packages (from spacy) (3.3.0)\n",
      "Requirement already satisfied: smart-open<7.0.0,>=5.2.1 in /home/ec2-user/anaconda3/envs/pytorch_p39/lib/python3.9/site-packages (from spacy) (5.2.1)\n",
      "Requirement already satisfied: tqdm<5.0.0,>=4.38.0 in /home/ec2-user/anaconda3/envs/pytorch_p39/lib/python3.9/site-packages (from spacy) (4.63.2)\n",
      "Requirement already satisfied: murmurhash<1.1.0,>=0.28.0 in /home/ec2-user/anaconda3/envs/pytorch_p39/lib/python3.9/site-packages (from spacy) (1.0.9)\n",
      "Requirement already satisfied: requests<3.0.0,>=2.13.0 in /home/ec2-user/anaconda3/envs/pytorch_p39/lib/python3.9/site-packages (from spacy) (2.28.1)\n",
      "Requirement already satisfied: packaging>=20.0 in /home/ec2-user/anaconda3/envs/pytorch_p39/lib/python3.9/site-packages (from spacy) (21.3)\n",
      "Requirement already satisfied: numpy>=1.15.0 in /home/ec2-user/anaconda3/envs/pytorch_p39/lib/python3.9/site-packages (from spacy) (1.23.5)\n",
      "Requirement already satisfied: jinja2 in /home/ec2-user/anaconda3/envs/pytorch_p39/lib/python3.9/site-packages (from spacy) (3.1.2)\n",
      "Requirement already satisfied: wasabi<1.2.0,>=0.9.1 in /home/ec2-user/anaconda3/envs/pytorch_p39/lib/python3.9/site-packages (from spacy) (0.10.1)\n",
      "Requirement already satisfied: pathy>=0.10.0 in /home/ec2-user/anaconda3/envs/pytorch_p39/lib/python3.9/site-packages (from spacy) (0.10.1)\n",
      "Requirement already satisfied: preshed<3.1.0,>=3.0.2 in /home/ec2-user/anaconda3/envs/pytorch_p39/lib/python3.9/site-packages (from spacy) (3.0.8)\n",
      "Requirement already satisfied: cymem<2.1.0,>=2.0.2 in /home/ec2-user/anaconda3/envs/pytorch_p39/lib/python3.9/site-packages (from spacy) (2.0.7)\n",
      "Requirement already satisfied: catalogue<2.1.0,>=2.0.6 in /home/ec2-user/anaconda3/envs/pytorch_p39/lib/python3.9/site-packages (from spacy) (2.0.8)\n",
      "Requirement already satisfied: spacy-loggers<2.0.0,>=1.0.0 in /home/ec2-user/anaconda3/envs/pytorch_p39/lib/python3.9/site-packages (from spacy) (1.0.4)\n",
      "Requirement already satisfied: pydantic!=1.8,!=1.8.1,<1.11.0,>=1.7.4 in /home/ec2-user/anaconda3/envs/pytorch_p39/lib/python3.9/site-packages (from spacy) (1.10.4)\n",
      "Requirement already satisfied: setuptools in /home/ec2-user/anaconda3/envs/pytorch_p39/lib/python3.9/site-packages (from spacy) (65.6.3)\n",
      "Requirement already satisfied: pyparsing!=3.0.5,>=2.0.2 in /home/ec2-user/anaconda3/envs/pytorch_p39/lib/python3.9/site-packages (from packaging>=20.0->spacy) (3.0.9)\n",
      "Requirement already satisfied: typing-extensions>=4.2.0 in /home/ec2-user/anaconda3/envs/pytorch_p39/lib/python3.9/site-packages (from pydantic!=1.8,!=1.8.1,<1.11.0,>=1.7.4->spacy) (4.4.0)\n",
      "Requirement already satisfied: certifi>=2017.4.17 in /home/ec2-user/anaconda3/envs/pytorch_p39/lib/python3.9/site-packages (from requests<3.0.0,>=2.13.0->spacy) (2022.12.7)\n",
      "Requirement already satisfied: idna<4,>=2.5 in /home/ec2-user/anaconda3/envs/pytorch_p39/lib/python3.9/site-packages (from requests<3.0.0,>=2.13.0->spacy) (3.4)\n",
      "Requirement already satisfied: charset-normalizer<3,>=2 in /home/ec2-user/anaconda3/envs/pytorch_p39/lib/python3.9/site-packages (from requests<3.0.0,>=2.13.0->spacy) (2.1.1)\n",
      "Requirement already satisfied: urllib3<1.27,>=1.21.1 in /home/ec2-user/anaconda3/envs/pytorch_p39/lib/python3.9/site-packages (from requests<3.0.0,>=2.13.0->spacy) (1.26.8)\n",
      "Requirement already satisfied: blis<0.8.0,>=0.7.8 in /home/ec2-user/anaconda3/envs/pytorch_p39/lib/python3.9/site-packages (from thinc<8.2.0,>=8.1.8->spacy) (0.7.9)\n",
      "Requirement already satisfied: confection<1.0.0,>=0.0.1 in /home/ec2-user/anaconda3/envs/pytorch_p39/lib/python3.9/site-packages (from thinc<8.2.0,>=8.1.8->spacy) (0.0.3)\n",
      "Requirement already satisfied: click<9.0.0,>=7.1.1 in /home/ec2-user/anaconda3/envs/pytorch_p39/lib/python3.9/site-packages (from typer<0.8.0,>=0.3.0->spacy) (8.1.3)\n",
      "Requirement already satisfied: MarkupSafe>=2.0 in /home/ec2-user/anaconda3/envs/pytorch_p39/lib/python3.9/site-packages (from jinja2->spacy) (2.1.1)\n",
      "/home/ec2-user/anaconda3/envs/pytorch_p39/lib/python3.9/site-packages/torch/cuda/__init__.py:546: UserWarning: Can't initialize NVML\n",
      "  warnings.warn(\"Can't initialize NVML\")\n",
      "Looking in indexes: https://pypi.org/simple, https://pip.repos.neuron.amazonaws.com\n",
      "Collecting en-core-web-sm==3.5.0\n",
      "  Downloading https://github.com/explosion/spacy-models/releases/download/en_core_web_sm-3.5.0/en_core_web_sm-3.5.0-py3-none-any.whl (12.8 MB)\n",
      "\u001b[2K     \u001b[90m━━━━━━━━━━━━━━━━━━━━━━━━━━━━━━━━━━━━━━━━\u001b[0m \u001b[32m12.8/12.8 MB\u001b[0m \u001b[31m92.7 MB/s\u001b[0m eta \u001b[36m0:00:00\u001b[0m00:01\u001b[0m00:01\u001b[0m\n",
      "\u001b[?25hRequirement already satisfied: spacy<3.6.0,>=3.5.0 in /home/ec2-user/anaconda3/envs/pytorch_p39/lib/python3.9/site-packages (from en-core-web-sm==3.5.0) (3.5.3)\n",
      "Requirement already satisfied: jinja2 in /home/ec2-user/anaconda3/envs/pytorch_p39/lib/python3.9/site-packages (from spacy<3.6.0,>=3.5.0->en-core-web-sm==3.5.0) (3.1.2)\n",
      "Requirement already satisfied: tqdm<5.0.0,>=4.38.0 in /home/ec2-user/anaconda3/envs/pytorch_p39/lib/python3.9/site-packages (from spacy<3.6.0,>=3.5.0->en-core-web-sm==3.5.0) (4.63.2)\n",
      "Requirement already satisfied: requests<3.0.0,>=2.13.0 in /home/ec2-user/anaconda3/envs/pytorch_p39/lib/python3.9/site-packages (from spacy<3.6.0,>=3.5.0->en-core-web-sm==3.5.0) (2.28.1)\n",
      "Requirement already satisfied: spacy-loggers<2.0.0,>=1.0.0 in /home/ec2-user/anaconda3/envs/pytorch_p39/lib/python3.9/site-packages (from spacy<3.6.0,>=3.5.0->en-core-web-sm==3.5.0) (1.0.4)\n",
      "Requirement already satisfied: preshed<3.1.0,>=3.0.2 in /home/ec2-user/anaconda3/envs/pytorch_p39/lib/python3.9/site-packages (from spacy<3.6.0,>=3.5.0->en-core-web-sm==3.5.0) (3.0.8)\n",
      "Requirement already satisfied: thinc<8.2.0,>=8.1.8 in /home/ec2-user/anaconda3/envs/pytorch_p39/lib/python3.9/site-packages (from spacy<3.6.0,>=3.5.0->en-core-web-sm==3.5.0) (8.1.10)\n",
      "Requirement already satisfied: langcodes<4.0.0,>=3.2.0 in /home/ec2-user/anaconda3/envs/pytorch_p39/lib/python3.9/site-packages (from spacy<3.6.0,>=3.5.0->en-core-web-sm==3.5.0) (3.3.0)\n",
      "Requirement already satisfied: typer<0.8.0,>=0.3.0 in /home/ec2-user/anaconda3/envs/pytorch_p39/lib/python3.9/site-packages (from spacy<3.6.0,>=3.5.0->en-core-web-sm==3.5.0) (0.4.2)\n",
      "Requirement already satisfied: murmurhash<1.1.0,>=0.28.0 in /home/ec2-user/anaconda3/envs/pytorch_p39/lib/python3.9/site-packages (from spacy<3.6.0,>=3.5.0->en-core-web-sm==3.5.0) (1.0.9)\n",
      "Requirement already satisfied: catalogue<2.1.0,>=2.0.6 in /home/ec2-user/anaconda3/envs/pytorch_p39/lib/python3.9/site-packages (from spacy<3.6.0,>=3.5.0->en-core-web-sm==3.5.0) (2.0.8)\n",
      "Requirement already satisfied: numpy>=1.15.0 in /home/ec2-user/anaconda3/envs/pytorch_p39/lib/python3.9/site-packages (from spacy<3.6.0,>=3.5.0->en-core-web-sm==3.5.0) (1.23.5)\n",
      "Requirement already satisfied: spacy-legacy<3.1.0,>=3.0.11 in /home/ec2-user/anaconda3/envs/pytorch_p39/lib/python3.9/site-packages (from spacy<3.6.0,>=3.5.0->en-core-web-sm==3.5.0) (3.0.11)\n",
      "Requirement already satisfied: packaging>=20.0 in /home/ec2-user/anaconda3/envs/pytorch_p39/lib/python3.9/site-packages (from spacy<3.6.0,>=3.5.0->en-core-web-sm==3.5.0) (21.3)\n",
      "Requirement already satisfied: srsly<3.0.0,>=2.4.3 in /home/ec2-user/anaconda3/envs/pytorch_p39/lib/python3.9/site-packages (from spacy<3.6.0,>=3.5.0->en-core-web-sm==3.5.0) (2.4.5)\n",
      "Requirement already satisfied: setuptools in /home/ec2-user/anaconda3/envs/pytorch_p39/lib/python3.9/site-packages (from spacy<3.6.0,>=3.5.0->en-core-web-sm==3.5.0) (65.6.3)\n",
      "Requirement already satisfied: cymem<2.1.0,>=2.0.2 in /home/ec2-user/anaconda3/envs/pytorch_p39/lib/python3.9/site-packages (from spacy<3.6.0,>=3.5.0->en-core-web-sm==3.5.0) (2.0.7)\n",
      "Requirement already satisfied: wasabi<1.2.0,>=0.9.1 in /home/ec2-user/anaconda3/envs/pytorch_p39/lib/python3.9/site-packages (from spacy<3.6.0,>=3.5.0->en-core-web-sm==3.5.0) (0.10.1)\n",
      "Requirement already satisfied: pydantic!=1.8,!=1.8.1,<1.11.0,>=1.7.4 in /home/ec2-user/anaconda3/envs/pytorch_p39/lib/python3.9/site-packages (from spacy<3.6.0,>=3.5.0->en-core-web-sm==3.5.0) (1.10.4)\n",
      "Requirement already satisfied: pathy>=0.10.0 in /home/ec2-user/anaconda3/envs/pytorch_p39/lib/python3.9/site-packages (from spacy<3.6.0,>=3.5.0->en-core-web-sm==3.5.0) (0.10.1)\n",
      "Requirement already satisfied: smart-open<7.0.0,>=5.2.1 in /home/ec2-user/anaconda3/envs/pytorch_p39/lib/python3.9/site-packages (from spacy<3.6.0,>=3.5.0->en-core-web-sm==3.5.0) (5.2.1)\n"
     ]
    },
    {
     "name": "stdout",
     "output_type": "stream",
     "text": [
      "Requirement already satisfied: pyparsing!=3.0.5,>=2.0.2 in /home/ec2-user/anaconda3/envs/pytorch_p39/lib/python3.9/site-packages (from packaging>=20.0->spacy<3.6.0,>=3.5.0->en-core-web-sm==3.5.0) (3.0.9)\n",
      "Requirement already satisfied: typing-extensions>=4.2.0 in /home/ec2-user/anaconda3/envs/pytorch_p39/lib/python3.9/site-packages (from pydantic!=1.8,!=1.8.1,<1.11.0,>=1.7.4->spacy<3.6.0,>=3.5.0->en-core-web-sm==3.5.0) (4.4.0)\n",
      "Requirement already satisfied: charset-normalizer<3,>=2 in /home/ec2-user/anaconda3/envs/pytorch_p39/lib/python3.9/site-packages (from requests<3.0.0,>=2.13.0->spacy<3.6.0,>=3.5.0->en-core-web-sm==3.5.0) (2.1.1)\n",
      "Requirement already satisfied: urllib3<1.27,>=1.21.1 in /home/ec2-user/anaconda3/envs/pytorch_p39/lib/python3.9/site-packages (from requests<3.0.0,>=2.13.0->spacy<3.6.0,>=3.5.0->en-core-web-sm==3.5.0) (1.26.8)\n",
      "Requirement already satisfied: certifi>=2017.4.17 in /home/ec2-user/anaconda3/envs/pytorch_p39/lib/python3.9/site-packages (from requests<3.0.0,>=2.13.0->spacy<3.6.0,>=3.5.0->en-core-web-sm==3.5.0) (2022.12.7)\n",
      "Requirement already satisfied: idna<4,>=2.5 in /home/ec2-user/anaconda3/envs/pytorch_p39/lib/python3.9/site-packages (from requests<3.0.0,>=2.13.0->spacy<3.6.0,>=3.5.0->en-core-web-sm==3.5.0) (3.4)\n",
      "Requirement already satisfied: blis<0.8.0,>=0.7.8 in /home/ec2-user/anaconda3/envs/pytorch_p39/lib/python3.9/site-packages (from thinc<8.2.0,>=8.1.8->spacy<3.6.0,>=3.5.0->en-core-web-sm==3.5.0) (0.7.9)\n",
      "Requirement already satisfied: confection<1.0.0,>=0.0.1 in /home/ec2-user/anaconda3/envs/pytorch_p39/lib/python3.9/site-packages (from thinc<8.2.0,>=8.1.8->spacy<3.6.0,>=3.5.0->en-core-web-sm==3.5.0) (0.0.3)\n",
      "Requirement already satisfied: click<9.0.0,>=7.1.1 in /home/ec2-user/anaconda3/envs/pytorch_p39/lib/python3.9/site-packages (from typer<0.8.0,>=0.3.0->spacy<3.6.0,>=3.5.0->en-core-web-sm==3.5.0) (8.1.3)\n",
      "Requirement already satisfied: MarkupSafe>=2.0 in /home/ec2-user/anaconda3/envs/pytorch_p39/lib/python3.9/site-packages (from jinja2->spacy<3.6.0,>=3.5.0->en-core-web-sm==3.5.0) (2.1.1)\n",
      "\u001b[38;5;2m✔ Download and installation successful\u001b[0m\n",
      "You can now load the package via spacy.load('en_core_web_sm')\n"
     ]
    }
   ],
   "source": [
    "# !pip install -U pip setuptools wheel\n",
    "!pip install -U spacy # !pip install spacy\n",
    "!python -m spacy download en_core_web_sm"
   ]
  },
  {
   "cell_type": "code",
   "execution_count": 6,
   "id": "f1a2dfa7",
   "metadata": {},
   "outputs": [
    {
     "name": "stderr",
     "output_type": "stream",
     "text": [
      "/home/ec2-user/anaconda3/envs/pytorch_p39/lib/python3.9/site-packages/torch/cuda/__init__.py:546: UserWarning: Can't initialize NVML\n",
      "  warnings.warn(\"Can't initialize NVML\")\n"
     ]
    }
   ],
   "source": [
    "import re, string, unicodedata\n",
    "import pandas as pd\n",
    "import numpy as np\n",
    "import nltk\n",
    "from nltk.corpus import stopwords\n",
    "import pandas as pd\n",
    "import matplotlib.pyplot as plt                                        \n",
    "import seaborn as sns                                                  \n",
    "from collections import Counter                                           \n",
    "from nltk.tokenize.toktok import ToktokTokenizer\n",
    "import spacy\n",
    "# import contractions\n",
    "from wordcloud import WordCloud, STOPWORDS, ImageColorGenerator         \n",
    "import nltk                                                            \n",
    "import matplotlib.pylab as plt \n",
    "from nltk.corpus import wordnet\n",
    "import warnings                                                           \n",
    "warnings.filterwarnings(\"ignore\")\n",
    "from nltk.stem.porter import PorterStemmer  \n",
    "from bs4 import BeautifulSoup\n",
    "from spacy import displacy\n",
    "from sklearn.feature_extraction.text import CountVectorizer"
   ]
  },
  {
   "cell_type": "code",
   "execution_count": 7,
   "id": "9c8def08",
   "metadata": {},
   "outputs": [],
   "source": [
    "#  !pip install wordcloud"
   ]
  },
  {
   "cell_type": "code",
   "execution_count": 8,
   "id": "aaafed09",
   "metadata": {},
   "outputs": [
    {
     "name": "stdout",
     "output_type": "stream",
     "text": [
      "Looking in indexes: https://pypi.org/simple, https://pip.repos.neuron.amazonaws.com\n",
      "Requirement already satisfied: transformers[torch] in /home/ec2-user/anaconda3/envs/pytorch_p39/lib/python3.9/site-packages (4.30.1)\n",
      "Requirement already satisfied: filelock in /home/ec2-user/anaconda3/envs/pytorch_p39/lib/python3.9/site-packages (from transformers[torch]) (3.6.0)\n",
      "Requirement already satisfied: numpy>=1.17 in /home/ec2-user/anaconda3/envs/pytorch_p39/lib/python3.9/site-packages (from transformers[torch]) (1.23.5)\n",
      "Requirement already satisfied: regex!=2019.12.17 in /home/ec2-user/anaconda3/envs/pytorch_p39/lib/python3.9/site-packages (from transformers[torch]) (2022.10.31)\n",
      "Requirement already satisfied: huggingface-hub<1.0,>=0.14.1 in /home/ec2-user/anaconda3/envs/pytorch_p39/lib/python3.9/site-packages (from transformers[torch]) (0.15.1)\n",
      "Requirement already satisfied: packaging>=20.0 in /home/ec2-user/anaconda3/envs/pytorch_p39/lib/python3.9/site-packages (from transformers[torch]) (21.3)\n",
      "Requirement already satisfied: pyyaml>=5.1 in /home/ec2-user/anaconda3/envs/pytorch_p39/lib/python3.9/site-packages (from transformers[torch]) (5.4.1)\n",
      "Requirement already satisfied: tokenizers!=0.11.3,<0.14,>=0.11.1 in /home/ec2-user/anaconda3/envs/pytorch_p39/lib/python3.9/site-packages (from transformers[torch]) (0.13.3)\n",
      "Requirement already satisfied: safetensors>=0.3.1 in /home/ec2-user/anaconda3/envs/pytorch_p39/lib/python3.9/site-packages (from transformers[torch]) (0.3.1)\n",
      "Requirement already satisfied: requests in /home/ec2-user/anaconda3/envs/pytorch_p39/lib/python3.9/site-packages (from transformers[torch]) (2.28.1)\n",
      "Requirement already satisfied: tqdm>=4.27 in /home/ec2-user/anaconda3/envs/pytorch_p39/lib/python3.9/site-packages (from transformers[torch]) (4.63.2)\n",
      "Requirement already satisfied: accelerate>=0.20.2 in /home/ec2-user/anaconda3/envs/pytorch_p39/lib/python3.9/site-packages (from transformers[torch]) (0.20.3)\n",
      "Requirement already satisfied: torch!=1.12.0,>=1.9 in /home/ec2-user/anaconda3/envs/pytorch_p39/lib/python3.9/site-packages (from transformers[torch]) (2.0.1)\n",
      "Requirement already satisfied: psutil in /home/ec2-user/anaconda3/envs/pytorch_p39/lib/python3.9/site-packages (from accelerate>=0.20.2->transformers[torch]) (5.9.4)\n",
      "Requirement already satisfied: typing-extensions>=3.7.4.3 in /home/ec2-user/anaconda3/envs/pytorch_p39/lib/python3.9/site-packages (from huggingface-hub<1.0,>=0.14.1->transformers[torch]) (4.4.0)\n",
      "Requirement already satisfied: fsspec in /home/ec2-user/anaconda3/envs/pytorch_p39/lib/python3.9/site-packages (from huggingface-hub<1.0,>=0.14.1->transformers[torch]) (2022.11.0)\n",
      "Requirement already satisfied: pyparsing!=3.0.5,>=2.0.2 in /home/ec2-user/anaconda3/envs/pytorch_p39/lib/python3.9/site-packages (from packaging>=20.0->transformers[torch]) (3.0.9)\n",
      "Requirement already satisfied: nvidia-curand-cu11==10.2.10.91 in /home/ec2-user/anaconda3/envs/pytorch_p39/lib/python3.9/site-packages (from torch!=1.12.0,>=1.9->transformers[torch]) (10.2.10.91)\n",
      "Requirement already satisfied: nvidia-cuda-nvrtc-cu11==11.7.99 in /home/ec2-user/anaconda3/envs/pytorch_p39/lib/python3.9/site-packages (from torch!=1.12.0,>=1.9->transformers[torch]) (11.7.99)\n",
      "Requirement already satisfied: nvidia-cuda-runtime-cu11==11.7.99 in /home/ec2-user/anaconda3/envs/pytorch_p39/lib/python3.9/site-packages (from torch!=1.12.0,>=1.9->transformers[torch]) (11.7.99)\n",
      "Requirement already satisfied: sympy in /home/ec2-user/anaconda3/envs/pytorch_p39/lib/python3.9/site-packages (from torch!=1.12.0,>=1.9->transformers[torch]) (1.11.1)\n",
      "Requirement already satisfied: nvidia-cuda-cupti-cu11==11.7.101 in /home/ec2-user/anaconda3/envs/pytorch_p39/lib/python3.9/site-packages (from torch!=1.12.0,>=1.9->transformers[torch]) (11.7.101)\n",
      "Requirement already satisfied: networkx in /home/ec2-user/anaconda3/envs/pytorch_p39/lib/python3.9/site-packages (from torch!=1.12.0,>=1.9->transformers[torch]) (3.0)\n",
      "Requirement already satisfied: nvidia-cusparse-cu11==11.7.4.91 in /home/ec2-user/anaconda3/envs/pytorch_p39/lib/python3.9/site-packages (from torch!=1.12.0,>=1.9->transformers[torch]) (11.7.4.91)\n",
      "Requirement already satisfied: triton==2.0.0 in /home/ec2-user/anaconda3/envs/pytorch_p39/lib/python3.9/site-packages (from torch!=1.12.0,>=1.9->transformers[torch]) (2.0.0)\n",
      "Requirement already satisfied: nvidia-cusolver-cu11==11.4.0.1 in /home/ec2-user/anaconda3/envs/pytorch_p39/lib/python3.9/site-packages (from torch!=1.12.0,>=1.9->transformers[torch]) (11.4.0.1)\n",
      "Requirement already satisfied: nvidia-nvtx-cu11==11.7.91 in /home/ec2-user/anaconda3/envs/pytorch_p39/lib/python3.9/site-packages (from torch!=1.12.0,>=1.9->transformers[torch]) (11.7.91)\n",
      "Requirement already satisfied: nvidia-cublas-cu11==11.10.3.66 in /home/ec2-user/anaconda3/envs/pytorch_p39/lib/python3.9/site-packages (from torch!=1.12.0,>=1.9->transformers[torch]) (11.10.3.66)\n",
      "Requirement already satisfied: nvidia-cudnn-cu11==8.5.0.96 in /home/ec2-user/anaconda3/envs/pytorch_p39/lib/python3.9/site-packages (from torch!=1.12.0,>=1.9->transformers[torch]) (8.5.0.96)\n",
      "Requirement already satisfied: nvidia-nccl-cu11==2.14.3 in /home/ec2-user/anaconda3/envs/pytorch_p39/lib/python3.9/site-packages (from torch!=1.12.0,>=1.9->transformers[torch]) (2.14.3)\n",
      "Requirement already satisfied: nvidia-cufft-cu11==10.9.0.58 in /home/ec2-user/anaconda3/envs/pytorch_p39/lib/python3.9/site-packages (from torch!=1.12.0,>=1.9->transformers[torch]) (10.9.0.58)\n",
      "Requirement already satisfied: jinja2 in /home/ec2-user/anaconda3/envs/pytorch_p39/lib/python3.9/site-packages (from torch!=1.12.0,>=1.9->transformers[torch]) (3.1.2)\n",
      "Requirement already satisfied: setuptools in /home/ec2-user/anaconda3/envs/pytorch_p39/lib/python3.9/site-packages (from nvidia-cublas-cu11==11.10.3.66->torch!=1.12.0,>=1.9->transformers[torch]) (65.6.3)\n",
      "Requirement already satisfied: wheel in /home/ec2-user/anaconda3/envs/pytorch_p39/lib/python3.9/site-packages (from nvidia-cublas-cu11==11.10.3.66->torch!=1.12.0,>=1.9->transformers[torch]) (0.38.4)\n",
      "Requirement already satisfied: cmake in /home/ec2-user/anaconda3/envs/pytorch_p39/lib/python3.9/site-packages (from triton==2.0.0->torch!=1.12.0,>=1.9->transformers[torch]) (3.26.4)\n",
      "Requirement already satisfied: lit in /home/ec2-user/anaconda3/envs/pytorch_p39/lib/python3.9/site-packages (from triton==2.0.0->torch!=1.12.0,>=1.9->transformers[torch]) (16.0.5.post0)\n",
      "Requirement already satisfied: charset-normalizer<3,>=2 in /home/ec2-user/anaconda3/envs/pytorch_p39/lib/python3.9/site-packages (from requests->transformers[torch]) (2.1.1)\n",
      "Requirement already satisfied: idna<4,>=2.5 in /home/ec2-user/anaconda3/envs/pytorch_p39/lib/python3.9/site-packages (from requests->transformers[torch]) (3.4)\n",
      "Requirement already satisfied: certifi>=2017.4.17 in /home/ec2-user/anaconda3/envs/pytorch_p39/lib/python3.9/site-packages (from requests->transformers[torch]) (2022.12.7)\n",
      "Requirement already satisfied: urllib3<1.27,>=1.21.1 in /home/ec2-user/anaconda3/envs/pytorch_p39/lib/python3.9/site-packages (from requests->transformers[torch]) (1.26.8)\n",
      "Requirement already satisfied: MarkupSafe>=2.0 in /home/ec2-user/anaconda3/envs/pytorch_p39/lib/python3.9/site-packages (from jinja2->torch!=1.12.0,>=1.9->transformers[torch]) (2.1.1)\n",
      "Requirement already satisfied: mpmath>=0.19 in /home/ec2-user/anaconda3/envs/pytorch_p39/lib/python3.9/site-packages (from sympy->torch!=1.12.0,>=1.9->transformers[torch]) (1.2.1)\n"
     ]
    }
   ],
   "source": [
    "!pip install transformers[torch]"
   ]
  },
  {
   "cell_type": "code",
   "execution_count": 9,
   "id": "7630ea23",
   "metadata": {},
   "outputs": [],
   "source": [
    "# !conda install pytorch-cpu torchvision-cpu -c pytorch"
   ]
  },
  {
   "cell_type": "code",
   "execution_count": 10,
   "id": "88ee849d",
   "metadata": {},
   "outputs": [],
   "source": [
    "# !conda uninstall pytorch"
   ]
  },
  {
   "cell_type": "code",
   "execution_count": 11,
   "id": "8e8d3df1",
   "metadata": {},
   "outputs": [
    {
     "name": "stdout",
     "output_type": "stream",
     "text": [
      "Looking in indexes: https://pypi.org/simple, https://pip.repos.neuron.amazonaws.com\n",
      "Requirement already satisfied: textblob in /home/ec2-user/anaconda3/envs/pytorch_p39/lib/python3.9/site-packages (0.17.1)\n",
      "Requirement already satisfied: nltk>=3.1 in /home/ec2-user/anaconda3/envs/pytorch_p39/lib/python3.9/site-packages (from textblob) (3.8.1)\n",
      "Requirement already satisfied: click in /home/ec2-user/anaconda3/envs/pytorch_p39/lib/python3.9/site-packages (from nltk>=3.1->textblob) (8.1.3)\n",
      "Requirement already satisfied: joblib in /home/ec2-user/anaconda3/envs/pytorch_p39/lib/python3.9/site-packages (from nltk>=3.1->textblob) (1.2.0)\n",
      "Requirement already satisfied: regex>=2021.8.3 in /home/ec2-user/anaconda3/envs/pytorch_p39/lib/python3.9/site-packages (from nltk>=3.1->textblob) (2022.10.31)\n",
      "Requirement already satisfied: tqdm in /home/ec2-user/anaconda3/envs/pytorch_p39/lib/python3.9/site-packages (from nltk>=3.1->textblob) (4.63.2)\n"
     ]
    }
   ],
   "source": [
    "!python -m pip install textblob"
   ]
  },
  {
   "cell_type": "code",
   "execution_count": 12,
   "id": "bcaece34",
   "metadata": {},
   "outputs": [
    {
     "name": "stdout",
     "output_type": "stream",
     "text": [
      "Looking in indexes: https://pypi.org/simple, https://pip.repos.neuron.amazonaws.com\n",
      "Requirement already satisfied: vaderSentiment in /home/ec2-user/anaconda3/envs/pytorch_p39/lib/python3.9/site-packages (3.3.2)\n",
      "Requirement already satisfied: requests in /home/ec2-user/anaconda3/envs/pytorch_p39/lib/python3.9/site-packages (from vaderSentiment) (2.28.1)\n",
      "Requirement already satisfied: charset-normalizer<3,>=2 in /home/ec2-user/anaconda3/envs/pytorch_p39/lib/python3.9/site-packages (from requests->vaderSentiment) (2.1.1)\n",
      "Requirement already satisfied: idna<4,>=2.5 in /home/ec2-user/anaconda3/envs/pytorch_p39/lib/python3.9/site-packages (from requests->vaderSentiment) (3.4)\n",
      "Requirement already satisfied: certifi>=2017.4.17 in /home/ec2-user/anaconda3/envs/pytorch_p39/lib/python3.9/site-packages (from requests->vaderSentiment) (2022.12.7)\n",
      "Requirement already satisfied: urllib3<1.27,>=1.21.1 in /home/ec2-user/anaconda3/envs/pytorch_p39/lib/python3.9/site-packages (from requests->vaderSentiment) (1.26.8)\n"
     ]
    }
   ],
   "source": [
    "!pip install vaderSentiment"
   ]
  },
  {
   "cell_type": "code",
   "execution_count": 13,
   "id": "fff28de5",
   "metadata": {},
   "outputs": [],
   "source": [
    "from sklearn.feature_extraction.text import TfidfTransformer\n",
    "from sklearn.feature_extraction.text import TfidfVectorizer\n",
    "from sklearn.svm import LinearSVC\n",
    "from sklearn.model_selection import cross_val_score\n",
    "from scipy.sparse import hstack\n",
    "\n",
    "from transformers import pipeline\n",
    "from transformers import AutoModelWithLMHead, AutoTokenizer, AutoModelForSeq2SeqLM\n",
    "import torch\n",
    "from textblob import TextBlob\n",
    "from vaderSentiment.vaderSentiment import SentimentIntensityAnalyzer\n",
    "import numpy as np\n",
    "import pandas as pd\n",
    "model_name = \"yjernite/bart_eli5\"\n",
    "sa=SentimentIntensityAnalyzer()"
   ]
  },
  {
   "cell_type": "code",
   "execution_count": 14,
   "id": "f9664b3b",
   "metadata": {},
   "outputs": [],
   "source": [
    "import torch\n",
    "from transformers import AutoTokenizer, AutoModelForSequenceClassification, Trainer\n",
    "# tokenizer = AutoTokenizer.from_pretrained(model_name)\n",
    "# model = AutoModelForSeq2SeqLM.from_pretrained(model_name)"
   ]
  },
  {
   "cell_type": "code",
   "execution_count": 15,
   "id": "99d7e7b9",
   "metadata": {},
   "outputs": [],
   "source": [
    "from sklearn.model_selection import train_test_split\n",
    "from sklearn.metrics import confusion_matrix"
   ]
  },
  {
   "cell_type": "code",
   "execution_count": 16,
   "id": "4cd49bd4",
   "metadata": {},
   "outputs": [
    {
     "name": "stdout",
     "output_type": "stream",
     "text": [
      "Looking in indexes: https://pypi.org/simple, https://pip.repos.neuron.amazonaws.com\r\n",
      "Requirement already satisfied: emoji in /home/ec2-user/anaconda3/envs/pytorch_p39/lib/python3.9/site-packages (2.5.0)\r\n"
     ]
    }
   ],
   "source": [
    "!pip install emoji"
   ]
  },
  {
   "cell_type": "code",
   "execution_count": 17,
   "id": "3089219e",
   "metadata": {},
   "outputs": [],
   "source": [
    "from nltk.tokenize.treebank import TreebankWordTokenizer\n",
    "from nltk.tokenize import WordPunctTokenizer\n",
    "import emoji\n",
    "from nltk.stem import WordNetLemmatizer"
   ]
  },
  {
   "cell_type": "code",
   "execution_count": 18,
   "id": "7d22daad",
   "metadata": {},
   "outputs": [],
   "source": [
    "from sklearn import metrics\n",
    "from sklearn.metrics import f1_score\n",
    "from sklearn.metrics import precision_score\n",
    "from sklearn.metrics import recall_score\n",
    "from sklearn.metrics import classification_report, confusion_matrix\n",
    "from sklearn.metrics import mean_absolute_error, mean_squared_error, r2_score\n",
    "from sklearn.metrics import roc_auc_score\n",
    "from sklearn.metrics import roc_curve\n",
    "from sklearn.metrics import r2_score\n",
    "from sklearn.metrics import mean_squared_error\n",
    "\n",
    "# imported sklearn mertrics for classification report and error calculation"
   ]
  },
  {
   "cell_type": "code",
   "execution_count": 19,
   "id": "c2fd6051",
   "metadata": {},
   "outputs": [
    {
     "data": {
      "text/html": [
       "<style>.container { width:95% !important; }</style>"
      ],
      "text/plain": [
       "<IPython.core.display.HTML object>"
      ]
     },
     "execution_count": 19,
     "metadata": {},
     "output_type": "execute_result"
    }
   ],
   "source": [
    "pd.set_option('display.max_colwidth', None) #to display all data of a dataframe column without truncation\n",
    "\n",
    "import warnings #import warning module\n",
    "warnings.filterwarnings('ignore') #set to ignore any warning \n",
    "from IPython.core.display import HTML #import HTML module\n",
    "HTML(\"<style>.container { width:95% !important; }</style>\") #set HTML style to get more space in notebook"
   ]
  },
  {
   "cell_type": "code",
   "execution_count": 20,
   "id": "259e5d61",
   "metadata": {},
   "outputs": [],
   "source": [
    "# Baseline Business Rule\n",
    "def Customer_Service_Business_Rule(tweet_str, idx):\n",
    "    print(\"Customer Tweet: \", tweet_str)\n",
    "    if idx == 0:\n",
    "        return (\"Bot (Negative Sentiment): I'm sorry you feel this way\")\n",
    "    elif idx ==1:\n",
    "        return (\"Bot:(Neutral Sentiment)  --no response--\")\n",
    "    elif idx ==2:\n",
    "        return (\"Bot: Glad, you are happy with our service\")"
   ]
  },
  {
   "cell_type": "code",
   "execution_count": 21,
   "id": "154dbeac",
   "metadata": {},
   "outputs": [],
   "source": [
    "def Customer_Service_Business_Rule_Transformer(tweet_str, idx):\n",
    "    print(\"Tweet Summarization: \", tweet_str)\n",
    "    if idx == 0:\n",
    "        return (\"Bot (Negative Sentiment): I'm sorry you feel this way\")\n",
    "    elif idx ==1:\n",
    "        return (\"Bot:(Neutral Sentiment)  --no response--\")\n",
    "    elif idx ==2:\n",
    "        return (\"Bot: Glad, you are happy with our service\")"
   ]
  },
  {
   "cell_type": "code",
   "execution_count": 22,
   "id": "c6649821",
   "metadata": {},
   "outputs": [],
   "source": [
    "# Economic Baseline Business Rule for CSR\n",
    "def Language_Used(tweet_str, idx):\n",
    "    print(\"Customer Tweet: \", tweet_str)\n",
    "    if idx == 0:\n",
    "        return (\"negative\")\n",
    "    elif idx ==1:\n",
    "        return (\"polite\") \n",
    "    elif idx ==2:\n",
    "        return (\"positive\")"
   ]
  },
  {
   "cell_type": "code",
   "execution_count": 23,
   "id": "6a727f94",
   "metadata": {},
   "outputs": [],
   "source": [
    "import os\n",
    "import pandas as pd\n",
    "try:\n",
    "#     metricset = pd.read_excel('data\\\\transformer_metrics.xlsx')\n",
    "#     metricset = pd.read_csv('data\\\\tweets.csv')\n",
    "    metricset = pd.read_excel('tweets_100.xlsx')\n",
    "\n",
    "except:\n",
    "    print(\"Error Loading file(s),  current working directory:\", format(os.getcwd()))"
   ]
  },
  {
   "cell_type": "code",
   "execution_count": 24,
   "id": "e7b82007",
   "metadata": {
    "scrolled": true
   },
   "outputs": [
    {
     "name": "stdout",
     "output_type": "stream",
     "text": [
      "<class 'pandas.core.frame.DataFrame'>\n",
      "RangeIndex: 100 entries, 0 to 99\n",
      "Data columns (total 4 columns):\n",
      " #   Column     Non-Null Count  Dtype \n",
      "---  ------     --------------  ----- \n",
      " 0   sentiment  100 non-null    object\n",
      " 1   text       100 non-null    object\n",
      " 2   BERT       100 non-null    object\n",
      " 3   ELECTRA    100 non-null    object\n",
      "dtypes: object(4)\n",
      "memory usage: 3.2+ KB\n"
     ]
    }
   ],
   "source": [
    "metricset.info()"
   ]
  },
  {
   "cell_type": "code",
   "execution_count": 25,
   "id": "d5dd17a5",
   "metadata": {},
   "outputs": [
    {
     "name": "stdout",
     "output_type": "stream",
     "text": [
      "sentiment    object\n",
      "text         object\n",
      "BERT         object\n",
      "ELECTRA      object\n",
      "dtype: object\n"
     ]
    }
   ],
   "source": [
    "print (metricset.dtypes)"
   ]
  },
  {
   "cell_type": "code",
   "execution_count": 26,
   "id": "f1b38540",
   "metadata": {},
   "outputs": [],
   "source": [
    "# metricset['text'] = metricset['text'].astype(str)\n",
    "# metricset = metricset.applymap(str)"
   ]
  },
  {
   "cell_type": "markdown",
   "id": "e5e00f6f",
   "metadata": {},
   "source": [
    "#### Randomize the model choice, Double blind the business rule function - hypothesis wins if generations still shows trend of polarization"
   ]
  },
  {
   "cell_type": "code",
   "execution_count": 27,
   "id": "6a146e08",
   "metadata": {
    "scrolled": false
   },
   "outputs": [
    {
     "data": {
      "text/html": [
       "<div>\n",
       "<style scoped>\n",
       "    .dataframe tbody tr th:only-of-type {\n",
       "        vertical-align: middle;\n",
       "    }\n",
       "\n",
       "    .dataframe tbody tr th {\n",
       "        vertical-align: top;\n",
       "    }\n",
       "\n",
       "    .dataframe thead th {\n",
       "        text-align: right;\n",
       "    }\n",
       "</style>\n",
       "<table border=\"1\" class=\"dataframe\">\n",
       "  <thead>\n",
       "    <tr style=\"text-align: right;\">\n",
       "      <th></th>\n",
       "      <th>sentiment</th>\n",
       "      <th>text</th>\n",
       "      <th>BERT</th>\n",
       "      <th>ELECTRA</th>\n",
       "    </tr>\n",
       "  </thead>\n",
       "  <tbody>\n",
       "    <tr>\n",
       "      <th>0</th>\n",
       "      <td>negative</td>\n",
       "      <td>@united On top of that I paid for 1st class and my wife got stuck in coach.</td>\n",
       "      <td>negative</td>\n",
       "      <td>negative</td>\n",
       "    </tr>\n",
       "    <tr>\n",
       "      <th>1</th>\n",
       "      <td>negative</td>\n",
       "      <td>@united Ph the pat answers are BS. After I was denied boarding it sat at the gate until 9:05! Your employees totally suck.</td>\n",
       "      <td>negative</td>\n",
       "      <td>negative</td>\n",
       "    </tr>\n",
       "    <tr>\n",
       "      <th>2</th>\n",
       "      <td>negative</td>\n",
       "      <td>@United Over the last week, United has provided me with the worst customer service experience of my life. Disgusting. #united</td>\n",
       "      <td>negative</td>\n",
       "      <td>positive</td>\n",
       "    </tr>\n",
       "    <tr>\n",
       "      <th>3</th>\n",
       "      <td>negative</td>\n",
       "      <td>@united 24 hrs since flight landed and ZERO info on my missing bag? rough ETA would be hugely helpful + restore some confidence</td>\n",
       "      <td>negative</td>\n",
       "      <td>negative</td>\n",
       "    </tr>\n",
       "    <tr>\n",
       "      <th>4</th>\n",
       "      <td>negative</td>\n",
       "      <td>@united big surprise #nogate waiting for our plane. Same fucken issues everything I fly you. #fail #worstairlineever</td>\n",
       "      <td>negative</td>\n",
       "      <td>negative</td>\n",
       "    </tr>\n",
       "  </tbody>\n",
       "</table>\n",
       "</div>"
      ],
      "text/plain": [
       "  sentiment  \\\n",
       "0  negative   \n",
       "1  negative   \n",
       "2  negative   \n",
       "3  negative   \n",
       "4  negative   \n",
       "\n",
       "                                                                                                                              text  \\\n",
       "0                                                      @united On top of that I paid for 1st class and my wife got stuck in coach.   \n",
       "1       @united Ph the pat answers are BS. After I was denied boarding it sat at the gate until 9:05! Your employees totally suck.   \n",
       "2    @United Over the last week, United has provided me with the worst customer service experience of my life. Disgusting. #united   \n",
       "3  @united 24 hrs since flight landed and ZERO info on my missing bag? rough ETA would be hugely helpful + restore some confidence   \n",
       "4             @united big surprise #nogate waiting for our plane. Same fucken issues everything I fly you. #fail #worstairlineever   \n",
       "\n",
       "       BERT   ELECTRA  \n",
       "0  negative  negative  \n",
       "1  negative  negative  \n",
       "2  negative  positive  \n",
       "3  negative  negative  \n",
       "4  negative  negative  "
      ]
     },
     "execution_count": 27,
     "metadata": {},
     "output_type": "execute_result"
    }
   ],
   "source": [
    "metricset.head()"
   ]
  },
  {
   "cell_type": "code",
   "execution_count": 28,
   "id": "cb8ea901",
   "metadata": {},
   "outputs": [],
   "source": [
    "def Vader(text):\n",
    "#     print(text)\n",
    "    score = sa.polarity_scores(text)\n",
    "    idx = np.argmax([score.get('neg'),score.get('neu'),score.get('pos')],0)\n",
    "    if idx == 0:\n",
    "        return 'negative'\n",
    "    elif idx == 1:\n",
    "        return 'neutral'\n",
    "    elif idx == 2:\n",
    "        return 'positive'"
   ]
  },
  {
   "cell_type": "markdown",
   "id": "5a2901c7",
   "metadata": {},
   "source": [
    "### Model 1 : Vader Sentiment"
   ]
  },
  {
   "cell_type": "code",
   "execution_count": 29,
   "id": "9ee30169",
   "metadata": {},
   "outputs": [],
   "source": [
    "tempset = metricset['text']\n",
    "metricset['Vader'] = tempset.apply(Vader)"
   ]
  },
  {
   "cell_type": "code",
   "execution_count": 30,
   "id": "00e95fbf",
   "metadata": {},
   "outputs": [
    {
     "data": {
      "text/html": [
       "<div>\n",
       "<style scoped>\n",
       "    .dataframe tbody tr th:only-of-type {\n",
       "        vertical-align: middle;\n",
       "    }\n",
       "\n",
       "    .dataframe tbody tr th {\n",
       "        vertical-align: top;\n",
       "    }\n",
       "\n",
       "    .dataframe thead th {\n",
       "        text-align: right;\n",
       "    }\n",
       "</style>\n",
       "<table border=\"1\" class=\"dataframe\">\n",
       "  <thead>\n",
       "    <tr style=\"text-align: right;\">\n",
       "      <th></th>\n",
       "      <th>sentiment</th>\n",
       "      <th>text</th>\n",
       "      <th>BERT</th>\n",
       "      <th>ELECTRA</th>\n",
       "      <th>Vader</th>\n",
       "    </tr>\n",
       "  </thead>\n",
       "  <tbody>\n",
       "    <tr>\n",
       "      <th>0</th>\n",
       "      <td>negative</td>\n",
       "      <td>@united On top of that I paid for 1st class and my wife got stuck in coach.</td>\n",
       "      <td>negative</td>\n",
       "      <td>negative</td>\n",
       "      <td>neutral</td>\n",
       "    </tr>\n",
       "    <tr>\n",
       "      <th>1</th>\n",
       "      <td>negative</td>\n",
       "      <td>@united Ph the pat answers are BS. After I was denied boarding it sat at the gate until 9:05! Your employees totally suck.</td>\n",
       "      <td>negative</td>\n",
       "      <td>negative</td>\n",
       "      <td>neutral</td>\n",
       "    </tr>\n",
       "    <tr>\n",
       "      <th>2</th>\n",
       "      <td>negative</td>\n",
       "      <td>@United Over the last week, United has provided me with the worst customer service experience of my life. Disgusting. #united</td>\n",
       "      <td>negative</td>\n",
       "      <td>positive</td>\n",
       "      <td>neutral</td>\n",
       "    </tr>\n",
       "    <tr>\n",
       "      <th>3</th>\n",
       "      <td>negative</td>\n",
       "      <td>@united 24 hrs since flight landed and ZERO info on my missing bag? rough ETA would be hugely helpful + restore some confidence</td>\n",
       "      <td>negative</td>\n",
       "      <td>negative</td>\n",
       "      <td>neutral</td>\n",
       "    </tr>\n",
       "    <tr>\n",
       "      <th>4</th>\n",
       "      <td>negative</td>\n",
       "      <td>@united big surprise #nogate waiting for our plane. Same fucken issues everything I fly you. #fail #worstairlineever</td>\n",
       "      <td>negative</td>\n",
       "      <td>negative</td>\n",
       "      <td>neutral</td>\n",
       "    </tr>\n",
       "  </tbody>\n",
       "</table>\n",
       "</div>"
      ],
      "text/plain": [
       "  sentiment  \\\n",
       "0  negative   \n",
       "1  negative   \n",
       "2  negative   \n",
       "3  negative   \n",
       "4  negative   \n",
       "\n",
       "                                                                                                                              text  \\\n",
       "0                                                      @united On top of that I paid for 1st class and my wife got stuck in coach.   \n",
       "1       @united Ph the pat answers are BS. After I was denied boarding it sat at the gate until 9:05! Your employees totally suck.   \n",
       "2    @United Over the last week, United has provided me with the worst customer service experience of my life. Disgusting. #united   \n",
       "3  @united 24 hrs since flight landed and ZERO info on my missing bag? rough ETA would be hugely helpful + restore some confidence   \n",
       "4             @united big surprise #nogate waiting for our plane. Same fucken issues everything I fly you. #fail #worstairlineever   \n",
       "\n",
       "       BERT   ELECTRA    Vader  \n",
       "0  negative  negative  neutral  \n",
       "1  negative  negative  neutral  \n",
       "2  negative  positive  neutral  \n",
       "3  negative  negative  neutral  \n",
       "4  negative  negative  neutral  "
      ]
     },
     "execution_count": 30,
     "metadata": {},
     "output_type": "execute_result"
    }
   ],
   "source": [
    "metricset.head()"
   ]
  },
  {
   "cell_type": "code",
   "execution_count": 31,
   "id": "289e54fb",
   "metadata": {},
   "outputs": [],
   "source": [
    "# def DistilBERT(text):\n",
    "#     score = sa.polarity_scores(text)\n",
    "#     idx = np.argmax([score.get('neg'),score.get('neu'),score.get('pos')],0)\n",
    "#     if idx == 0:\n",
    "#         return 'negative'\n",
    "#     elif idx == 1:\n",
    "#         return 'neutral'\n",
    "#     elif idx == 2:\n",
    "#         return 'positive'"
   ]
  },
  {
   "cell_type": "markdown",
   "id": "0d82449a",
   "metadata": {},
   "source": [
    "### BERT Classifier "
   ]
  },
  {
   "cell_type": "code",
   "execution_count": 32,
   "id": "6be2f402",
   "metadata": {},
   "outputs": [],
   "source": [
    "# from transformers import BertTokenizer, BertForTokenClassification\n",
    "# import torch\n",
    "\n",
    "# tokenizer = BertTokenizer.from_pretrained('bert-base-uncased')\n",
    "# model = BertForTokenClassification.from_pretrained('bert-base-uncased')\n",
    "\n",
    "# inputs = tokenizer(\"bad\", return_tensors=\"pt\")\n",
    "# labels = torch.tensor([1] * inputs[\"input_ids\"].size(1)).unsqueeze(0)  # Batch size 1\n",
    "\n",
    "# outputs = model(**inputs, labels=labels)\n",
    "# loss = outputs.loss\n",
    "# logits = outputs.logits"
   ]
  },
  {
   "cell_type": "markdown",
   "id": "fdae1121",
   "metadata": {},
   "source": [
    "### DistilBERT Classifier "
   ]
  },
  {
   "cell_type": "code",
   "execution_count": 33,
   "id": "301ab70d",
   "metadata": {},
   "outputs": [],
   "source": [
    "def DistilBert_Classifier(text):\n",
    "   #DistilBertForSequenceClassification(default model)\n",
    "# https://huggingface.co/docs/transformers/main_classes/pipelines\n",
    "#     model_name='distilbert-base-cased-distilled-squad'\n",
    "    model_name='distilbert-base-uncased-finetuned-sst-2-english'\n",
    "    nlp_cls = pipeline('sentiment-analysis', model=model_name)\n",
    "    config = False\n",
    "#     print(text)\n",
    "    if config==True:\n",
    "        print(nlp_cls.model.config)\n",
    "    cls = nlp_cls(text)\n",
    "#     print(cls)\n",
    "    return cls[0].get('label').lower() \n",
    "# text = metricset['text'][0]\n",
    "## DistilBert_sentiment_classification =DistilBert_Classifier(text,False) \n",
    "# DistilBert_sentiment_classification =DistilBert_Classifier(text) "
   ]
  },
  {
   "cell_type": "code",
   "execution_count": 34,
   "id": "330c5536",
   "metadata": {},
   "outputs": [],
   "source": [
    "# DistilBert_sentiment_classification"
   ]
  },
  {
   "cell_type": "code",
   "execution_count": 35,
   "id": "1c004299",
   "metadata": {},
   "outputs": [],
   "source": [
    "# type(DistilBert_sentiment_classification)\n",
    "# DistilBert_sentiment_classification[0].get('label').lower()"
   ]
  },
  {
   "cell_type": "code",
   "execution_count": 36,
   "id": "a6746a83",
   "metadata": {},
   "outputs": [
    {
     "name": "stdout",
     "output_type": "stream",
     "text": [
      "Looking in indexes: https://pypi.org/simple, https://pip.repos.neuron.amazonaws.com\n",
      "Requirement already satisfied: xformers in /home/ec2-user/anaconda3/envs/pytorch_p39/lib/python3.9/site-packages (0.0.20)\n",
      "Requirement already satisfied: numpy in /home/ec2-user/anaconda3/envs/pytorch_p39/lib/python3.9/site-packages (from xformers) (1.23.5)\n",
      "Requirement already satisfied: pyre-extensions==0.0.29 in /home/ec2-user/anaconda3/envs/pytorch_p39/lib/python3.9/site-packages (from xformers) (0.0.29)\n",
      "Requirement already satisfied: torch==2.0.1 in /home/ec2-user/anaconda3/envs/pytorch_p39/lib/python3.9/site-packages (from xformers) (2.0.1)\n",
      "Requirement already satisfied: typing-extensions in /home/ec2-user/anaconda3/envs/pytorch_p39/lib/python3.9/site-packages (from pyre-extensions==0.0.29->xformers) (4.4.0)\n",
      "Requirement already satisfied: typing-inspect in /home/ec2-user/anaconda3/envs/pytorch_p39/lib/python3.9/site-packages (from pyre-extensions==0.0.29->xformers) (0.9.0)\n",
      "Requirement already satisfied: nvidia-cudnn-cu11==8.5.0.96 in /home/ec2-user/anaconda3/envs/pytorch_p39/lib/python3.9/site-packages (from torch==2.0.1->xformers) (8.5.0.96)\n",
      "Requirement already satisfied: filelock in /home/ec2-user/anaconda3/envs/pytorch_p39/lib/python3.9/site-packages (from torch==2.0.1->xformers) (3.6.0)\n",
      "Requirement already satisfied: nvidia-curand-cu11==10.2.10.91 in /home/ec2-user/anaconda3/envs/pytorch_p39/lib/python3.9/site-packages (from torch==2.0.1->xformers) (10.2.10.91)\n",
      "Requirement already satisfied: nvidia-cufft-cu11==10.9.0.58 in /home/ec2-user/anaconda3/envs/pytorch_p39/lib/python3.9/site-packages (from torch==2.0.1->xformers) (10.9.0.58)\n",
      "Requirement already satisfied: nvidia-nccl-cu11==2.14.3 in /home/ec2-user/anaconda3/envs/pytorch_p39/lib/python3.9/site-packages (from torch==2.0.1->xformers) (2.14.3)\n",
      "Requirement already satisfied: jinja2 in /home/ec2-user/anaconda3/envs/pytorch_p39/lib/python3.9/site-packages (from torch==2.0.1->xformers) (3.1.2)\n",
      "Requirement already satisfied: nvidia-cusolver-cu11==11.4.0.1 in /home/ec2-user/anaconda3/envs/pytorch_p39/lib/python3.9/site-packages (from torch==2.0.1->xformers) (11.4.0.1)\n",
      "Requirement already satisfied: nvidia-cuda-nvrtc-cu11==11.7.99 in /home/ec2-user/anaconda3/envs/pytorch_p39/lib/python3.9/site-packages (from torch==2.0.1->xformers) (11.7.99)\n",
      "Requirement already satisfied: nvidia-cuda-runtime-cu11==11.7.99 in /home/ec2-user/anaconda3/envs/pytorch_p39/lib/python3.9/site-packages (from torch==2.0.1->xformers) (11.7.99)\n",
      "Requirement already satisfied: networkx in /home/ec2-user/anaconda3/envs/pytorch_p39/lib/python3.9/site-packages (from torch==2.0.1->xformers) (3.0)\n",
      "Requirement already satisfied: sympy in /home/ec2-user/anaconda3/envs/pytorch_p39/lib/python3.9/site-packages (from torch==2.0.1->xformers) (1.11.1)\n",
      "Requirement already satisfied: nvidia-cuda-cupti-cu11==11.7.101 in /home/ec2-user/anaconda3/envs/pytorch_p39/lib/python3.9/site-packages (from torch==2.0.1->xformers) (11.7.101)\n",
      "Requirement already satisfied: nvidia-cusparse-cu11==11.7.4.91 in /home/ec2-user/anaconda3/envs/pytorch_p39/lib/python3.9/site-packages (from torch==2.0.1->xformers) (11.7.4.91)\n",
      "Requirement already satisfied: nvidia-nvtx-cu11==11.7.91 in /home/ec2-user/anaconda3/envs/pytorch_p39/lib/python3.9/site-packages (from torch==2.0.1->xformers) (11.7.91)\n",
      "Requirement already satisfied: triton==2.0.0 in /home/ec2-user/anaconda3/envs/pytorch_p39/lib/python3.9/site-packages (from torch==2.0.1->xformers) (2.0.0)\n",
      "Requirement already satisfied: nvidia-cublas-cu11==11.10.3.66 in /home/ec2-user/anaconda3/envs/pytorch_p39/lib/python3.9/site-packages (from torch==2.0.1->xformers) (11.10.3.66)\n",
      "Requirement already satisfied: wheel in /home/ec2-user/anaconda3/envs/pytorch_p39/lib/python3.9/site-packages (from nvidia-cublas-cu11==11.10.3.66->torch==2.0.1->xformers) (0.38.4)\n",
      "Requirement already satisfied: setuptools in /home/ec2-user/anaconda3/envs/pytorch_p39/lib/python3.9/site-packages (from nvidia-cublas-cu11==11.10.3.66->torch==2.0.1->xformers) (65.6.3)\n",
      "Requirement already satisfied: cmake in /home/ec2-user/anaconda3/envs/pytorch_p39/lib/python3.9/site-packages (from triton==2.0.0->torch==2.0.1->xformers) (3.26.4)\n",
      "Requirement already satisfied: lit in /home/ec2-user/anaconda3/envs/pytorch_p39/lib/python3.9/site-packages (from triton==2.0.0->torch==2.0.1->xformers) (16.0.5.post0)\n",
      "Requirement already satisfied: MarkupSafe>=2.0 in /home/ec2-user/anaconda3/envs/pytorch_p39/lib/python3.9/site-packages (from jinja2->torch==2.0.1->xformers) (2.1.1)\n",
      "Requirement already satisfied: mpmath>=0.19 in /home/ec2-user/anaconda3/envs/pytorch_p39/lib/python3.9/site-packages (from sympy->torch==2.0.1->xformers) (1.2.1)\n",
      "Requirement already satisfied: mypy-extensions>=0.3.0 in /home/ec2-user/anaconda3/envs/pytorch_p39/lib/python3.9/site-packages (from typing-inspect->pyre-extensions==0.0.29->xformers) (0.4.3)\n"
     ]
    }
   ],
   "source": [
    "!pip install xformers"
   ]
  },
  {
   "cell_type": "code",
   "execution_count": 37,
   "id": "31c7a15d",
   "metadata": {},
   "outputs": [],
   "source": [
    "tempset = metricset['text']\n",
    "metricset['DistilBERT'] = tempset.apply(DistilBert_Classifier)"
   ]
  },
  {
   "cell_type": "code",
   "execution_count": 38,
   "id": "e7b5f9b6",
   "metadata": {
    "scrolled": true
   },
   "outputs": [
    {
     "data": {
      "text/html": [
       "<div>\n",
       "<style scoped>\n",
       "    .dataframe tbody tr th:only-of-type {\n",
       "        vertical-align: middle;\n",
       "    }\n",
       "\n",
       "    .dataframe tbody tr th {\n",
       "        vertical-align: top;\n",
       "    }\n",
       "\n",
       "    .dataframe thead th {\n",
       "        text-align: right;\n",
       "    }\n",
       "</style>\n",
       "<table border=\"1\" class=\"dataframe\">\n",
       "  <thead>\n",
       "    <tr style=\"text-align: right;\">\n",
       "      <th></th>\n",
       "      <th>sentiment</th>\n",
       "      <th>text</th>\n",
       "      <th>BERT</th>\n",
       "      <th>ELECTRA</th>\n",
       "      <th>Vader</th>\n",
       "      <th>DistilBERT</th>\n",
       "    </tr>\n",
       "  </thead>\n",
       "  <tbody>\n",
       "    <tr>\n",
       "      <th>0</th>\n",
       "      <td>negative</td>\n",
       "      <td>@united On top of that I paid for 1st class and my wife got stuck in coach.</td>\n",
       "      <td>negative</td>\n",
       "      <td>negative</td>\n",
       "      <td>neutral</td>\n",
       "      <td>negative</td>\n",
       "    </tr>\n",
       "    <tr>\n",
       "      <th>1</th>\n",
       "      <td>negative</td>\n",
       "      <td>@united Ph the pat answers are BS. After I was denied boarding it sat at the gate until 9:05! Your employees totally suck.</td>\n",
       "      <td>negative</td>\n",
       "      <td>negative</td>\n",
       "      <td>neutral</td>\n",
       "      <td>negative</td>\n",
       "    </tr>\n",
       "    <tr>\n",
       "      <th>2</th>\n",
       "      <td>negative</td>\n",
       "      <td>@United Over the last week, United has provided me with the worst customer service experience of my life. Disgusting. #united</td>\n",
       "      <td>negative</td>\n",
       "      <td>positive</td>\n",
       "      <td>neutral</td>\n",
       "      <td>negative</td>\n",
       "    </tr>\n",
       "    <tr>\n",
       "      <th>3</th>\n",
       "      <td>negative</td>\n",
       "      <td>@united 24 hrs since flight landed and ZERO info on my missing bag? rough ETA would be hugely helpful + restore some confidence</td>\n",
       "      <td>negative</td>\n",
       "      <td>negative</td>\n",
       "      <td>neutral</td>\n",
       "      <td>negative</td>\n",
       "    </tr>\n",
       "    <tr>\n",
       "      <th>4</th>\n",
       "      <td>negative</td>\n",
       "      <td>@united big surprise #nogate waiting for our plane. Same fucken issues everything I fly you. #fail #worstairlineever</td>\n",
       "      <td>negative</td>\n",
       "      <td>negative</td>\n",
       "      <td>neutral</td>\n",
       "      <td>negative</td>\n",
       "    </tr>\n",
       "  </tbody>\n",
       "</table>\n",
       "</div>"
      ],
      "text/plain": [
       "  sentiment  \\\n",
       "0  negative   \n",
       "1  negative   \n",
       "2  negative   \n",
       "3  negative   \n",
       "4  negative   \n",
       "\n",
       "                                                                                                                              text  \\\n",
       "0                                                      @united On top of that I paid for 1st class and my wife got stuck in coach.   \n",
       "1       @united Ph the pat answers are BS. After I was denied boarding it sat at the gate until 9:05! Your employees totally suck.   \n",
       "2    @United Over the last week, United has provided me with the worst customer service experience of my life. Disgusting. #united   \n",
       "3  @united 24 hrs since flight landed and ZERO info on my missing bag? rough ETA would be hugely helpful + restore some confidence   \n",
       "4             @united big surprise #nogate waiting for our plane. Same fucken issues everything I fly you. #fail #worstairlineever   \n",
       "\n",
       "       BERT   ELECTRA    Vader DistilBERT  \n",
       "0  negative  negative  neutral   negative  \n",
       "1  negative  negative  neutral   negative  \n",
       "2  negative  positive  neutral   negative  \n",
       "3  negative  negative  neutral   negative  \n",
       "4  negative  negative  neutral   negative  "
      ]
     },
     "execution_count": 38,
     "metadata": {},
     "output_type": "execute_result"
    }
   ],
   "source": [
    "metricset.head()"
   ]
  },
  {
   "cell_type": "code",
   "execution_count": 39,
   "id": "4c48f105",
   "metadata": {},
   "outputs": [],
   "source": [
    "# metricset.head()"
   ]
  },
  {
   "cell_type": "markdown",
   "id": "ed842721",
   "metadata": {},
   "source": [
    "### RoBERTa Sentiment Classifier "
   ]
  },
  {
   "cell_type": "code",
   "execution_count": 40,
   "id": "9e210805",
   "metadata": {},
   "outputs": [],
   "source": [
    "# Create class for data preparation\n",
    "class SimpleDataset:\n",
    "    def __init__(self, tokenized_texts):\n",
    "        self.tokenized_texts = tokenized_texts\n",
    "    \n",
    "    def __len__(self):\n",
    "        return len(self.tokenized_texts[\"input_ids\"])\n",
    "    \n",
    "    def __getitem__(self, idx):\n",
    "        return {k: v[idx] for k, v in self.tokenized_texts.items()}"
   ]
  },
  {
   "cell_type": "code",
   "execution_count": 41,
   "id": "ac59ecc8",
   "metadata": {},
   "outputs": [
    {
     "name": "stdout",
     "output_type": "stream",
     "text": [
      "huggingface/tokenizers: The current process just got forked, after parallelism has already been used. Disabling parallelism to avoid deadlocks...\n",
      "To disable this warning, you can either:\n",
      "\t- Avoid using `tokenizers` before the fork if possible\n",
      "\t- Explicitly set the environment variable TOKENIZERS_PARALLELISM=(true | false)\n",
      "Looking in indexes: https://pypi.org/simple, https://pip.repos.neuron.amazonaws.com\n",
      "Requirement already satisfied: xformers in /home/ec2-user/anaconda3/envs/pytorch_p39/lib/python3.9/site-packages (0.0.20)\n",
      "Requirement already satisfied: pyre-extensions==0.0.29 in /home/ec2-user/anaconda3/envs/pytorch_p39/lib/python3.9/site-packages (from xformers) (0.0.29)\n",
      "Requirement already satisfied: numpy in /home/ec2-user/anaconda3/envs/pytorch_p39/lib/python3.9/site-packages (from xformers) (1.23.5)\n",
      "Requirement already satisfied: torch==2.0.1 in /home/ec2-user/anaconda3/envs/pytorch_p39/lib/python3.9/site-packages (from xformers) (2.0.1)\n",
      "Requirement already satisfied: typing-inspect in /home/ec2-user/anaconda3/envs/pytorch_p39/lib/python3.9/site-packages (from pyre-extensions==0.0.29->xformers) (0.9.0)\n",
      "Requirement already satisfied: typing-extensions in /home/ec2-user/anaconda3/envs/pytorch_p39/lib/python3.9/site-packages (from pyre-extensions==0.0.29->xformers) (4.4.0)\n",
      "Requirement already satisfied: nvidia-cufft-cu11==10.9.0.58 in /home/ec2-user/anaconda3/envs/pytorch_p39/lib/python3.9/site-packages (from torch==2.0.1->xformers) (10.9.0.58)\n",
      "Requirement already satisfied: nvidia-nccl-cu11==2.14.3 in /home/ec2-user/anaconda3/envs/pytorch_p39/lib/python3.9/site-packages (from torch==2.0.1->xformers) (2.14.3)\n",
      "Requirement already satisfied: nvidia-cuda-nvrtc-cu11==11.7.99 in /home/ec2-user/anaconda3/envs/pytorch_p39/lib/python3.9/site-packages (from torch==2.0.1->xformers) (11.7.99)\n",
      "Requirement already satisfied: nvidia-curand-cu11==10.2.10.91 in /home/ec2-user/anaconda3/envs/pytorch_p39/lib/python3.9/site-packages (from torch==2.0.1->xformers) (10.2.10.91)\n",
      "Requirement already satisfied: networkx in /home/ec2-user/anaconda3/envs/pytorch_p39/lib/python3.9/site-packages (from torch==2.0.1->xformers) (3.0)\n",
      "Requirement already satisfied: filelock in /home/ec2-user/anaconda3/envs/pytorch_p39/lib/python3.9/site-packages (from torch==2.0.1->xformers) (3.6.0)\n",
      "Requirement already satisfied: jinja2 in /home/ec2-user/anaconda3/envs/pytorch_p39/lib/python3.9/site-packages (from torch==2.0.1->xformers) (3.1.2)\n",
      "Requirement already satisfied: triton==2.0.0 in /home/ec2-user/anaconda3/envs/pytorch_p39/lib/python3.9/site-packages (from torch==2.0.1->xformers) (2.0.0)\n",
      "Requirement already satisfied: nvidia-cublas-cu11==11.10.3.66 in /home/ec2-user/anaconda3/envs/pytorch_p39/lib/python3.9/site-packages (from torch==2.0.1->xformers) (11.10.3.66)\n",
      "Requirement already satisfied: nvidia-cusolver-cu11==11.4.0.1 in /home/ec2-user/anaconda3/envs/pytorch_p39/lib/python3.9/site-packages (from torch==2.0.1->xformers) (11.4.0.1)\n",
      "Requirement already satisfied: nvidia-nvtx-cu11==11.7.91 in /home/ec2-user/anaconda3/envs/pytorch_p39/lib/python3.9/site-packages (from torch==2.0.1->xformers) (11.7.91)\n",
      "Requirement already satisfied: nvidia-cuda-runtime-cu11==11.7.99 in /home/ec2-user/anaconda3/envs/pytorch_p39/lib/python3.9/site-packages (from torch==2.0.1->xformers) (11.7.99)\n",
      "Requirement already satisfied: nvidia-cuda-cupti-cu11==11.7.101 in /home/ec2-user/anaconda3/envs/pytorch_p39/lib/python3.9/site-packages (from torch==2.0.1->xformers) (11.7.101)\n",
      "Requirement already satisfied: nvidia-cusparse-cu11==11.7.4.91 in /home/ec2-user/anaconda3/envs/pytorch_p39/lib/python3.9/site-packages (from torch==2.0.1->xformers) (11.7.4.91)\n",
      "Requirement already satisfied: nvidia-cudnn-cu11==8.5.0.96 in /home/ec2-user/anaconda3/envs/pytorch_p39/lib/python3.9/site-packages (from torch==2.0.1->xformers) (8.5.0.96)\n",
      "Requirement already satisfied: sympy in /home/ec2-user/anaconda3/envs/pytorch_p39/lib/python3.9/site-packages (from torch==2.0.1->xformers) (1.11.1)\n",
      "Requirement already satisfied: wheel in /home/ec2-user/anaconda3/envs/pytorch_p39/lib/python3.9/site-packages (from nvidia-cublas-cu11==11.10.3.66->torch==2.0.1->xformers) (0.38.4)\n",
      "Requirement already satisfied: setuptools in /home/ec2-user/anaconda3/envs/pytorch_p39/lib/python3.9/site-packages (from nvidia-cublas-cu11==11.10.3.66->torch==2.0.1->xformers) (65.6.3)\n",
      "Requirement already satisfied: lit in /home/ec2-user/anaconda3/envs/pytorch_p39/lib/python3.9/site-packages (from triton==2.0.0->torch==2.0.1->xformers) (16.0.5.post0)\n",
      "Requirement already satisfied: cmake in /home/ec2-user/anaconda3/envs/pytorch_p39/lib/python3.9/site-packages (from triton==2.0.0->torch==2.0.1->xformers) (3.26.4)\n",
      "Requirement already satisfied: MarkupSafe>=2.0 in /home/ec2-user/anaconda3/envs/pytorch_p39/lib/python3.9/site-packages (from jinja2->torch==2.0.1->xformers) (2.1.1)\n",
      "Requirement already satisfied: mpmath>=0.19 in /home/ec2-user/anaconda3/envs/pytorch_p39/lib/python3.9/site-packages (from sympy->torch==2.0.1->xformers) (1.2.1)\n",
      "Requirement already satisfied: mypy-extensions>=0.3.0 in /home/ec2-user/anaconda3/envs/pytorch_p39/lib/python3.9/site-packages (from typing-inspect->pyre-extensions==0.0.29->xformers) (0.4.3)\n"
     ]
    }
   ],
   "source": [
    "!pip install xformers"
   ]
  },
  {
   "cell_type": "code",
   "execution_count": 42,
   "id": "5a19f526",
   "metadata": {},
   "outputs": [
    {
     "name": "stdout",
     "output_type": "stream",
     "text": [
      "huggingface/tokenizers: The current process just got forked, after parallelism has already been used. Disabling parallelism to avoid deadlocks...\n",
      "To disable this warning, you can either:\n",
      "\t- Avoid using `tokenizers` before the fork if possible\n",
      "\t- Explicitly set the environment variable TOKENIZERS_PARALLELISM=(true | false)\n",
      "Looking in indexes: https://pypi.org/simple, https://pip.repos.neuron.amazonaws.com\n",
      "Requirement already satisfied: transformers[torch] in /home/ec2-user/anaconda3/envs/pytorch_p39/lib/python3.9/site-packages (4.30.1)\n",
      "Requirement already satisfied: pyyaml>=5.1 in /home/ec2-user/anaconda3/envs/pytorch_p39/lib/python3.9/site-packages (from transformers[torch]) (5.4.1)\n",
      "Requirement already satisfied: tokenizers!=0.11.3,<0.14,>=0.11.1 in /home/ec2-user/anaconda3/envs/pytorch_p39/lib/python3.9/site-packages (from transformers[torch]) (0.13.3)\n",
      "Requirement already satisfied: packaging>=20.0 in /home/ec2-user/anaconda3/envs/pytorch_p39/lib/python3.9/site-packages (from transformers[torch]) (21.3)\n",
      "Requirement already satisfied: safetensors>=0.3.1 in /home/ec2-user/anaconda3/envs/pytorch_p39/lib/python3.9/site-packages (from transformers[torch]) (0.3.1)\n",
      "Requirement already satisfied: requests in /home/ec2-user/anaconda3/envs/pytorch_p39/lib/python3.9/site-packages (from transformers[torch]) (2.28.1)\n",
      "Requirement already satisfied: huggingface-hub<1.0,>=0.14.1 in /home/ec2-user/anaconda3/envs/pytorch_p39/lib/python3.9/site-packages (from transformers[torch]) (0.15.1)\n",
      "Requirement already satisfied: tqdm>=4.27 in /home/ec2-user/anaconda3/envs/pytorch_p39/lib/python3.9/site-packages (from transformers[torch]) (4.63.2)\n",
      "Requirement already satisfied: numpy>=1.17 in /home/ec2-user/anaconda3/envs/pytorch_p39/lib/python3.9/site-packages (from transformers[torch]) (1.23.5)\n",
      "Requirement already satisfied: filelock in /home/ec2-user/anaconda3/envs/pytorch_p39/lib/python3.9/site-packages (from transformers[torch]) (3.6.0)\n",
      "Requirement already satisfied: regex!=2019.12.17 in /home/ec2-user/anaconda3/envs/pytorch_p39/lib/python3.9/site-packages (from transformers[torch]) (2022.10.31)\n",
      "Requirement already satisfied: torch!=1.12.0,>=1.9 in /home/ec2-user/anaconda3/envs/pytorch_p39/lib/python3.9/site-packages (from transformers[torch]) (2.0.1)\n",
      "Requirement already satisfied: accelerate>=0.20.2 in /home/ec2-user/anaconda3/envs/pytorch_p39/lib/python3.9/site-packages (from transformers[torch]) (0.20.3)\n",
      "Requirement already satisfied: psutil in /home/ec2-user/anaconda3/envs/pytorch_p39/lib/python3.9/site-packages (from accelerate>=0.20.2->transformers[torch]) (5.9.4)\n",
      "Requirement already satisfied: typing-extensions>=3.7.4.3 in /home/ec2-user/anaconda3/envs/pytorch_p39/lib/python3.9/site-packages (from huggingface-hub<1.0,>=0.14.1->transformers[torch]) (4.4.0)\n",
      "Requirement already satisfied: fsspec in /home/ec2-user/anaconda3/envs/pytorch_p39/lib/python3.9/site-packages (from huggingface-hub<1.0,>=0.14.1->transformers[torch]) (2022.11.0)\n",
      "Requirement already satisfied: pyparsing!=3.0.5,>=2.0.2 in /home/ec2-user/anaconda3/envs/pytorch_p39/lib/python3.9/site-packages (from packaging>=20.0->transformers[torch]) (3.0.9)\n",
      "Requirement already satisfied: nvidia-cufft-cu11==10.9.0.58 in /home/ec2-user/anaconda3/envs/pytorch_p39/lib/python3.9/site-packages (from torch!=1.12.0,>=1.9->transformers[torch]) (10.9.0.58)\n",
      "Requirement already satisfied: networkx in /home/ec2-user/anaconda3/envs/pytorch_p39/lib/python3.9/site-packages (from torch!=1.12.0,>=1.9->transformers[torch]) (3.0)\n",
      "Requirement already satisfied: jinja2 in /home/ec2-user/anaconda3/envs/pytorch_p39/lib/python3.9/site-packages (from torch!=1.12.0,>=1.9->transformers[torch]) (3.1.2)\n",
      "Requirement already satisfied: nvidia-nvtx-cu11==11.7.91 in /home/ec2-user/anaconda3/envs/pytorch_p39/lib/python3.9/site-packages (from torch!=1.12.0,>=1.9->transformers[torch]) (11.7.91)\n",
      "Requirement already satisfied: nvidia-cusparse-cu11==11.7.4.91 in /home/ec2-user/anaconda3/envs/pytorch_p39/lib/python3.9/site-packages (from torch!=1.12.0,>=1.9->transformers[torch]) (11.7.4.91)\n",
      "Requirement already satisfied: nvidia-curand-cu11==10.2.10.91 in /home/ec2-user/anaconda3/envs/pytorch_p39/lib/python3.9/site-packages (from torch!=1.12.0,>=1.9->transformers[torch]) (10.2.10.91)\n",
      "Requirement already satisfied: nvidia-cuda-nvrtc-cu11==11.7.99 in /home/ec2-user/anaconda3/envs/pytorch_p39/lib/python3.9/site-packages (from torch!=1.12.0,>=1.9->transformers[torch]) (11.7.99)\n",
      "Requirement already satisfied: nvidia-cuda-cupti-cu11==11.7.101 in /home/ec2-user/anaconda3/envs/pytorch_p39/lib/python3.9/site-packages (from torch!=1.12.0,>=1.9->transformers[torch]) (11.7.101)\n",
      "Requirement already satisfied: nvidia-nccl-cu11==2.14.3 in /home/ec2-user/anaconda3/envs/pytorch_p39/lib/python3.9/site-packages (from torch!=1.12.0,>=1.9->transformers[torch]) (2.14.3)\n",
      "Requirement already satisfied: sympy in /home/ec2-user/anaconda3/envs/pytorch_p39/lib/python3.9/site-packages (from torch!=1.12.0,>=1.9->transformers[torch]) (1.11.1)\n",
      "Requirement already satisfied: nvidia-cublas-cu11==11.10.3.66 in /home/ec2-user/anaconda3/envs/pytorch_p39/lib/python3.9/site-packages (from torch!=1.12.0,>=1.9->transformers[torch]) (11.10.3.66)\n",
      "Requirement already satisfied: triton==2.0.0 in /home/ec2-user/anaconda3/envs/pytorch_p39/lib/python3.9/site-packages (from torch!=1.12.0,>=1.9->transformers[torch]) (2.0.0)\n",
      "Requirement already satisfied: nvidia-cuda-runtime-cu11==11.7.99 in /home/ec2-user/anaconda3/envs/pytorch_p39/lib/python3.9/site-packages (from torch!=1.12.0,>=1.9->transformers[torch]) (11.7.99)\n",
      "Requirement already satisfied: nvidia-cusolver-cu11==11.4.0.1 in /home/ec2-user/anaconda3/envs/pytorch_p39/lib/python3.9/site-packages (from torch!=1.12.0,>=1.9->transformers[torch]) (11.4.0.1)\n",
      "Requirement already satisfied: nvidia-cudnn-cu11==8.5.0.96 in /home/ec2-user/anaconda3/envs/pytorch_p39/lib/python3.9/site-packages (from torch!=1.12.0,>=1.9->transformers[torch]) (8.5.0.96)\n",
      "Requirement already satisfied: setuptools in /home/ec2-user/anaconda3/envs/pytorch_p39/lib/python3.9/site-packages (from nvidia-cublas-cu11==11.10.3.66->torch!=1.12.0,>=1.9->transformers[torch]) (65.6.3)\n",
      "Requirement already satisfied: wheel in /home/ec2-user/anaconda3/envs/pytorch_p39/lib/python3.9/site-packages (from nvidia-cublas-cu11==11.10.3.66->torch!=1.12.0,>=1.9->transformers[torch]) (0.38.4)\n",
      "Requirement already satisfied: cmake in /home/ec2-user/anaconda3/envs/pytorch_p39/lib/python3.9/site-packages (from triton==2.0.0->torch!=1.12.0,>=1.9->transformers[torch]) (3.26.4)\n",
      "Requirement already satisfied: lit in /home/ec2-user/anaconda3/envs/pytorch_p39/lib/python3.9/site-packages (from triton==2.0.0->torch!=1.12.0,>=1.9->transformers[torch]) (16.0.5.post0)\n",
      "Requirement already satisfied: urllib3<1.27,>=1.21.1 in /home/ec2-user/anaconda3/envs/pytorch_p39/lib/python3.9/site-packages (from requests->transformers[torch]) (1.26.8)\n",
      "Requirement already satisfied: charset-normalizer<3,>=2 in /home/ec2-user/anaconda3/envs/pytorch_p39/lib/python3.9/site-packages (from requests->transformers[torch]) (2.1.1)\n",
      "Requirement already satisfied: certifi>=2017.4.17 in /home/ec2-user/anaconda3/envs/pytorch_p39/lib/python3.9/site-packages (from requests->transformers[torch]) (2022.12.7)\n",
      "Requirement already satisfied: idna<4,>=2.5 in /home/ec2-user/anaconda3/envs/pytorch_p39/lib/python3.9/site-packages (from requests->transformers[torch]) (3.4)\n",
      "Requirement already satisfied: MarkupSafe>=2.0 in /home/ec2-user/anaconda3/envs/pytorch_p39/lib/python3.9/site-packages (from jinja2->torch!=1.12.0,>=1.9->transformers[torch]) (2.1.1)\n",
      "Requirement already satisfied: mpmath>=0.19 in /home/ec2-user/anaconda3/envs/pytorch_p39/lib/python3.9/site-packages (from sympy->torch!=1.12.0,>=1.9->transformers[torch]) (1.2.1)\n"
     ]
    }
   ],
   "source": [
    "!pip install transformers[torch]"
   ]
  },
  {
   "cell_type": "code",
   "execution_count": 43,
   "id": "811390c5",
   "metadata": {},
   "outputs": [],
   "source": [
    "# Load tokenizer and model, create trainer\n",
    "model_name = \"siebert/sentiment-roberta-large-english\"\n",
    "tokenizer = AutoTokenizer.from_pretrained(model_name)\n",
    "model = AutoModelForSequenceClassification.from_pretrained(model_name)\n",
    "trainer = Trainer(model=model)"
   ]
  },
  {
   "cell_type": "code",
   "execution_count": 44,
   "id": "5f1f6c7d",
   "metadata": {},
   "outputs": [],
   "source": [
    "texts = ['My flight got delayed, somebody is going to get hurt, real bad']"
   ]
  },
  {
   "cell_type": "code",
   "execution_count": 45,
   "id": "5313a1da",
   "metadata": {},
   "outputs": [],
   "source": [
    "tokenized_texts = tokenizer(texts,truncation=True,padding=True)\n",
    "pred_dataset = SimpleDataset(tokenized_texts)"
   ]
  },
  {
   "cell_type": "code",
   "execution_count": 46,
   "id": "a9eb62f4",
   "metadata": {
    "scrolled": true
   },
   "outputs": [
    {
     "data": {
      "text/html": [],
      "text/plain": [
       "<IPython.core.display.HTML object>"
      ]
     },
     "metadata": {},
     "output_type": "display_data"
    }
   ],
   "source": [
    "predictions = trainer.predict(pred_dataset)"
   ]
  },
  {
   "cell_type": "code",
   "execution_count": 47,
   "id": "ac8c3ecb",
   "metadata": {},
   "outputs": [],
   "source": [
    "# Transform predictions to labels\n",
    "preds = predictions.predictions.argmax(-1)\n",
    "labels = pd.Series(preds).map(model.config.id2label)\n",
    "scores = (np.exp(predictions[0])/np.exp(predictions[0]).sum(-1,keepdims=True)).max(1)"
   ]
  },
  {
   "cell_type": "code",
   "execution_count": 48,
   "id": "46231dea",
   "metadata": {
    "scrolled": true
   },
   "outputs": [
    {
     "data": {
      "text/html": [
       "<div>\n",
       "<style scoped>\n",
       "    .dataframe tbody tr th:only-of-type {\n",
       "        vertical-align: middle;\n",
       "    }\n",
       "\n",
       "    .dataframe tbody tr th {\n",
       "        vertical-align: top;\n",
       "    }\n",
       "\n",
       "    .dataframe thead th {\n",
       "        text-align: right;\n",
       "    }\n",
       "</style>\n",
       "<table border=\"1\" class=\"dataframe\">\n",
       "  <thead>\n",
       "    <tr style=\"text-align: right;\">\n",
       "      <th></th>\n",
       "      <th>text</th>\n",
       "      <th>pred</th>\n",
       "      <th>label</th>\n",
       "      <th>score</th>\n",
       "    </tr>\n",
       "  </thead>\n",
       "  <tbody>\n",
       "    <tr>\n",
       "      <th>0</th>\n",
       "      <td>My flight got delayed, somebody is going to get hurt, real bad</td>\n",
       "      <td>0</td>\n",
       "      <td>NEGATIVE</td>\n",
       "      <td>0.999489</td>\n",
       "    </tr>\n",
       "  </tbody>\n",
       "</table>\n",
       "</div>"
      ],
      "text/plain": [
       "                                                             text  pred  \\\n",
       "0  My flight got delayed, somebody is going to get hurt, real bad     0   \n",
       "\n",
       "      label     score  \n",
       "0  NEGATIVE  0.999489  "
      ]
     },
     "execution_count": 48,
     "metadata": {},
     "output_type": "execute_result"
    }
   ],
   "source": [
    "df = pd.DataFrame(list(zip(texts,preds,labels,scores)), columns=['text','pred','label','score'])\n",
    "df.head()"
   ]
  },
  {
   "cell_type": "code",
   "execution_count": 49,
   "id": "0c9ad7b1",
   "metadata": {},
   "outputs": [],
   "source": [
    "def RoBERTa_Classifier(text):\n",
    "    tokenized_texts = tokenizer(texts,truncation=True,padding=True)\n",
    "    pred_dataset = SimpleDataset(tokenized_texts)\n",
    "    predictions = trainer.predict(pred_dataset)\n",
    "    preds = predictions.predictions.argmax(-1)\n",
    "    labels = pd.Series(preds).map(model.config.id2label)\n",
    "    scores = (np.exp(predictions[0])/np.exp(predictions[0]).sum(-1,keepdims=True)).max(1)\n",
    "    return str(labels[0]).lower() \n",
    "# text = metricset['text'][0]"
   ]
  },
  {
   "cell_type": "code",
   "execution_count": 50,
   "id": "7bf4ec4c",
   "metadata": {},
   "outputs": [
    {
     "data": {
      "text/html": [],
      "text/plain": [
       "<IPython.core.display.HTML object>"
      ]
     },
     "metadata": {},
     "output_type": "display_data"
    },
    {
     "data": {
      "text/plain": [
       "'negative'"
      ]
     },
     "execution_count": 50,
     "metadata": {},
     "output_type": "execute_result"
    }
   ],
   "source": [
    "RoBERTa_Classifier(\"My flight got delayed, somebody is going to get hurt, real bad\")"
   ]
  },
  {
   "cell_type": "code",
   "execution_count": 51,
   "id": "cceec315",
   "metadata": {},
   "outputs": [
    {
     "data": {
      "text/html": [],
      "text/plain": [
       "<IPython.core.display.HTML object>"
      ]
     },
     "metadata": {},
     "output_type": "display_data"
    },
    {
     "data": {
      "text/html": [],
      "text/plain": [
       "<IPython.core.display.HTML object>"
      ]
     },
     "metadata": {},
     "output_type": "display_data"
    },
    {
     "data": {
      "text/html": [],
      "text/plain": [
       "<IPython.core.display.HTML object>"
      ]
     },
     "metadata": {},
     "output_type": "display_data"
    },
    {
     "data": {
      "text/html": [],
      "text/plain": [
       "<IPython.core.display.HTML object>"
      ]
     },
     "metadata": {},
     "output_type": "display_data"
    },
    {
     "data": {
      "text/html": [],
      "text/plain": [
       "<IPython.core.display.HTML object>"
      ]
     },
     "metadata": {},
     "output_type": "display_data"
    },
    {
     "data": {
      "text/html": [],
      "text/plain": [
       "<IPython.core.display.HTML object>"
      ]
     },
     "metadata": {},
     "output_type": "display_data"
    },
    {
     "data": {
      "text/html": [],
      "text/plain": [
       "<IPython.core.display.HTML object>"
      ]
     },
     "metadata": {},
     "output_type": "display_data"
    },
    {
     "data": {
      "text/html": [],
      "text/plain": [
       "<IPython.core.display.HTML object>"
      ]
     },
     "metadata": {},
     "output_type": "display_data"
    },
    {
     "data": {
      "text/html": [],
      "text/plain": [
       "<IPython.core.display.HTML object>"
      ]
     },
     "metadata": {},
     "output_type": "display_data"
    },
    {
     "data": {
      "text/html": [],
      "text/plain": [
       "<IPython.core.display.HTML object>"
      ]
     },
     "metadata": {},
     "output_type": "display_data"
    },
    {
     "data": {
      "text/html": [],
      "text/plain": [
       "<IPython.core.display.HTML object>"
      ]
     },
     "metadata": {},
     "output_type": "display_data"
    },
    {
     "data": {
      "text/html": [],
      "text/plain": [
       "<IPython.core.display.HTML object>"
      ]
     },
     "metadata": {},
     "output_type": "display_data"
    },
    {
     "data": {
      "text/html": [],
      "text/plain": [
       "<IPython.core.display.HTML object>"
      ]
     },
     "metadata": {},
     "output_type": "display_data"
    },
    {
     "data": {
      "text/html": [],
      "text/plain": [
       "<IPython.core.display.HTML object>"
      ]
     },
     "metadata": {},
     "output_type": "display_data"
    },
    {
     "data": {
      "text/html": [],
      "text/plain": [
       "<IPython.core.display.HTML object>"
      ]
     },
     "metadata": {},
     "output_type": "display_data"
    },
    {
     "data": {
      "text/html": [],
      "text/plain": [
       "<IPython.core.display.HTML object>"
      ]
     },
     "metadata": {},
     "output_type": "display_data"
    },
    {
     "data": {
      "text/html": [],
      "text/plain": [
       "<IPython.core.display.HTML object>"
      ]
     },
     "metadata": {},
     "output_type": "display_data"
    },
    {
     "data": {
      "text/html": [],
      "text/plain": [
       "<IPython.core.display.HTML object>"
      ]
     },
     "metadata": {},
     "output_type": "display_data"
    },
    {
     "data": {
      "text/html": [],
      "text/plain": [
       "<IPython.core.display.HTML object>"
      ]
     },
     "metadata": {},
     "output_type": "display_data"
    },
    {
     "data": {
      "text/html": [],
      "text/plain": [
       "<IPython.core.display.HTML object>"
      ]
     },
     "metadata": {},
     "output_type": "display_data"
    },
    {
     "data": {
      "text/html": [],
      "text/plain": [
       "<IPython.core.display.HTML object>"
      ]
     },
     "metadata": {},
     "output_type": "display_data"
    },
    {
     "data": {
      "text/html": [],
      "text/plain": [
       "<IPython.core.display.HTML object>"
      ]
     },
     "metadata": {},
     "output_type": "display_data"
    },
    {
     "data": {
      "text/html": [],
      "text/plain": [
       "<IPython.core.display.HTML object>"
      ]
     },
     "metadata": {},
     "output_type": "display_data"
    },
    {
     "data": {
      "text/html": [],
      "text/plain": [
       "<IPython.core.display.HTML object>"
      ]
     },
     "metadata": {},
     "output_type": "display_data"
    },
    {
     "data": {
      "text/html": [],
      "text/plain": [
       "<IPython.core.display.HTML object>"
      ]
     },
     "metadata": {},
     "output_type": "display_data"
    },
    {
     "data": {
      "text/html": [],
      "text/plain": [
       "<IPython.core.display.HTML object>"
      ]
     },
     "metadata": {},
     "output_type": "display_data"
    },
    {
     "data": {
      "text/html": [],
      "text/plain": [
       "<IPython.core.display.HTML object>"
      ]
     },
     "metadata": {},
     "output_type": "display_data"
    },
    {
     "data": {
      "text/html": [],
      "text/plain": [
       "<IPython.core.display.HTML object>"
      ]
     },
     "metadata": {},
     "output_type": "display_data"
    },
    {
     "data": {
      "text/html": [],
      "text/plain": [
       "<IPython.core.display.HTML object>"
      ]
     },
     "metadata": {},
     "output_type": "display_data"
    },
    {
     "data": {
      "text/html": [],
      "text/plain": [
       "<IPython.core.display.HTML object>"
      ]
     },
     "metadata": {},
     "output_type": "display_data"
    },
    {
     "data": {
      "text/html": [],
      "text/plain": [
       "<IPython.core.display.HTML object>"
      ]
     },
     "metadata": {},
     "output_type": "display_data"
    },
    {
     "data": {
      "text/html": [],
      "text/plain": [
       "<IPython.core.display.HTML object>"
      ]
     },
     "metadata": {},
     "output_type": "display_data"
    },
    {
     "data": {
      "text/html": [],
      "text/plain": [
       "<IPython.core.display.HTML object>"
      ]
     },
     "metadata": {},
     "output_type": "display_data"
    },
    {
     "data": {
      "text/html": [],
      "text/plain": [
       "<IPython.core.display.HTML object>"
      ]
     },
     "metadata": {},
     "output_type": "display_data"
    },
    {
     "data": {
      "text/html": [],
      "text/plain": [
       "<IPython.core.display.HTML object>"
      ]
     },
     "metadata": {},
     "output_type": "display_data"
    },
    {
     "data": {
      "text/html": [],
      "text/plain": [
       "<IPython.core.display.HTML object>"
      ]
     },
     "metadata": {},
     "output_type": "display_data"
    },
    {
     "data": {
      "text/html": [],
      "text/plain": [
       "<IPython.core.display.HTML object>"
      ]
     },
     "metadata": {},
     "output_type": "display_data"
    },
    {
     "data": {
      "text/html": [],
      "text/plain": [
       "<IPython.core.display.HTML object>"
      ]
     },
     "metadata": {},
     "output_type": "display_data"
    },
    {
     "data": {
      "text/html": [],
      "text/plain": [
       "<IPython.core.display.HTML object>"
      ]
     },
     "metadata": {},
     "output_type": "display_data"
    },
    {
     "data": {
      "text/html": [],
      "text/plain": [
       "<IPython.core.display.HTML object>"
      ]
     },
     "metadata": {},
     "output_type": "display_data"
    },
    {
     "data": {
      "text/html": [],
      "text/plain": [
       "<IPython.core.display.HTML object>"
      ]
     },
     "metadata": {},
     "output_type": "display_data"
    },
    {
     "data": {
      "text/html": [],
      "text/plain": [
       "<IPython.core.display.HTML object>"
      ]
     },
     "metadata": {},
     "output_type": "display_data"
    },
    {
     "data": {
      "text/html": [],
      "text/plain": [
       "<IPython.core.display.HTML object>"
      ]
     },
     "metadata": {},
     "output_type": "display_data"
    },
    {
     "data": {
      "text/html": [],
      "text/plain": [
       "<IPython.core.display.HTML object>"
      ]
     },
     "metadata": {},
     "output_type": "display_data"
    },
    {
     "data": {
      "text/html": [],
      "text/plain": [
       "<IPython.core.display.HTML object>"
      ]
     },
     "metadata": {},
     "output_type": "display_data"
    },
    {
     "data": {
      "text/html": [],
      "text/plain": [
       "<IPython.core.display.HTML object>"
      ]
     },
     "metadata": {},
     "output_type": "display_data"
    },
    {
     "data": {
      "text/html": [],
      "text/plain": [
       "<IPython.core.display.HTML object>"
      ]
     },
     "metadata": {},
     "output_type": "display_data"
    },
    {
     "data": {
      "text/html": [],
      "text/plain": [
       "<IPython.core.display.HTML object>"
      ]
     },
     "metadata": {},
     "output_type": "display_data"
    },
    {
     "data": {
      "text/html": [],
      "text/plain": [
       "<IPython.core.display.HTML object>"
      ]
     },
     "metadata": {},
     "output_type": "display_data"
    },
    {
     "data": {
      "text/html": [],
      "text/plain": [
       "<IPython.core.display.HTML object>"
      ]
     },
     "metadata": {},
     "output_type": "display_data"
    },
    {
     "data": {
      "text/html": [],
      "text/plain": [
       "<IPython.core.display.HTML object>"
      ]
     },
     "metadata": {},
     "output_type": "display_data"
    },
    {
     "data": {
      "text/html": [],
      "text/plain": [
       "<IPython.core.display.HTML object>"
      ]
     },
     "metadata": {},
     "output_type": "display_data"
    },
    {
     "data": {
      "text/html": [],
      "text/plain": [
       "<IPython.core.display.HTML object>"
      ]
     },
     "metadata": {},
     "output_type": "display_data"
    },
    {
     "data": {
      "text/html": [],
      "text/plain": [
       "<IPython.core.display.HTML object>"
      ]
     },
     "metadata": {},
     "output_type": "display_data"
    },
    {
     "data": {
      "text/html": [],
      "text/plain": [
       "<IPython.core.display.HTML object>"
      ]
     },
     "metadata": {},
     "output_type": "display_data"
    },
    {
     "data": {
      "text/html": [],
      "text/plain": [
       "<IPython.core.display.HTML object>"
      ]
     },
     "metadata": {},
     "output_type": "display_data"
    },
    {
     "data": {
      "text/html": [],
      "text/plain": [
       "<IPython.core.display.HTML object>"
      ]
     },
     "metadata": {},
     "output_type": "display_data"
    },
    {
     "data": {
      "text/html": [],
      "text/plain": [
       "<IPython.core.display.HTML object>"
      ]
     },
     "metadata": {},
     "output_type": "display_data"
    },
    {
     "data": {
      "text/html": [],
      "text/plain": [
       "<IPython.core.display.HTML object>"
      ]
     },
     "metadata": {},
     "output_type": "display_data"
    },
    {
     "data": {
      "text/html": [],
      "text/plain": [
       "<IPython.core.display.HTML object>"
      ]
     },
     "metadata": {},
     "output_type": "display_data"
    },
    {
     "data": {
      "text/html": [],
      "text/plain": [
       "<IPython.core.display.HTML object>"
      ]
     },
     "metadata": {},
     "output_type": "display_data"
    },
    {
     "data": {
      "text/html": [],
      "text/plain": [
       "<IPython.core.display.HTML object>"
      ]
     },
     "metadata": {},
     "output_type": "display_data"
    },
    {
     "data": {
      "text/html": [],
      "text/plain": [
       "<IPython.core.display.HTML object>"
      ]
     },
     "metadata": {},
     "output_type": "display_data"
    },
    {
     "data": {
      "text/html": [],
      "text/plain": [
       "<IPython.core.display.HTML object>"
      ]
     },
     "metadata": {},
     "output_type": "display_data"
    },
    {
     "data": {
      "text/html": [],
      "text/plain": [
       "<IPython.core.display.HTML object>"
      ]
     },
     "metadata": {},
     "output_type": "display_data"
    },
    {
     "data": {
      "text/html": [],
      "text/plain": [
       "<IPython.core.display.HTML object>"
      ]
     },
     "metadata": {},
     "output_type": "display_data"
    },
    {
     "data": {
      "text/html": [],
      "text/plain": [
       "<IPython.core.display.HTML object>"
      ]
     },
     "metadata": {},
     "output_type": "display_data"
    },
    {
     "data": {
      "text/html": [],
      "text/plain": [
       "<IPython.core.display.HTML object>"
      ]
     },
     "metadata": {},
     "output_type": "display_data"
    },
    {
     "data": {
      "text/html": [],
      "text/plain": [
       "<IPython.core.display.HTML object>"
      ]
     },
     "metadata": {},
     "output_type": "display_data"
    },
    {
     "data": {
      "text/html": [],
      "text/plain": [
       "<IPython.core.display.HTML object>"
      ]
     },
     "metadata": {},
     "output_type": "display_data"
    },
    {
     "data": {
      "text/html": [],
      "text/plain": [
       "<IPython.core.display.HTML object>"
      ]
     },
     "metadata": {},
     "output_type": "display_data"
    },
    {
     "data": {
      "text/html": [],
      "text/plain": [
       "<IPython.core.display.HTML object>"
      ]
     },
     "metadata": {},
     "output_type": "display_data"
    },
    {
     "data": {
      "text/html": [],
      "text/plain": [
       "<IPython.core.display.HTML object>"
      ]
     },
     "metadata": {},
     "output_type": "display_data"
    },
    {
     "data": {
      "text/html": [],
      "text/plain": [
       "<IPython.core.display.HTML object>"
      ]
     },
     "metadata": {},
     "output_type": "display_data"
    },
    {
     "data": {
      "text/html": [],
      "text/plain": [
       "<IPython.core.display.HTML object>"
      ]
     },
     "metadata": {},
     "output_type": "display_data"
    },
    {
     "data": {
      "text/html": [],
      "text/plain": [
       "<IPython.core.display.HTML object>"
      ]
     },
     "metadata": {},
     "output_type": "display_data"
    },
    {
     "data": {
      "text/html": [],
      "text/plain": [
       "<IPython.core.display.HTML object>"
      ]
     },
     "metadata": {},
     "output_type": "display_data"
    },
    {
     "data": {
      "text/html": [],
      "text/plain": [
       "<IPython.core.display.HTML object>"
      ]
     },
     "metadata": {},
     "output_type": "display_data"
    },
    {
     "data": {
      "text/html": [],
      "text/plain": [
       "<IPython.core.display.HTML object>"
      ]
     },
     "metadata": {},
     "output_type": "display_data"
    },
    {
     "data": {
      "text/html": [],
      "text/plain": [
       "<IPython.core.display.HTML object>"
      ]
     },
     "metadata": {},
     "output_type": "display_data"
    },
    {
     "data": {
      "text/html": [],
      "text/plain": [
       "<IPython.core.display.HTML object>"
      ]
     },
     "metadata": {},
     "output_type": "display_data"
    },
    {
     "data": {
      "text/html": [],
      "text/plain": [
       "<IPython.core.display.HTML object>"
      ]
     },
     "metadata": {},
     "output_type": "display_data"
    },
    {
     "data": {
      "text/html": [],
      "text/plain": [
       "<IPython.core.display.HTML object>"
      ]
     },
     "metadata": {},
     "output_type": "display_data"
    },
    {
     "data": {
      "text/html": [],
      "text/plain": [
       "<IPython.core.display.HTML object>"
      ]
     },
     "metadata": {},
     "output_type": "display_data"
    },
    {
     "data": {
      "text/html": [],
      "text/plain": [
       "<IPython.core.display.HTML object>"
      ]
     },
     "metadata": {},
     "output_type": "display_data"
    },
    {
     "data": {
      "text/html": [],
      "text/plain": [
       "<IPython.core.display.HTML object>"
      ]
     },
     "metadata": {},
     "output_type": "display_data"
    },
    {
     "data": {
      "text/html": [],
      "text/plain": [
       "<IPython.core.display.HTML object>"
      ]
     },
     "metadata": {},
     "output_type": "display_data"
    },
    {
     "data": {
      "text/html": [],
      "text/plain": [
       "<IPython.core.display.HTML object>"
      ]
     },
     "metadata": {},
     "output_type": "display_data"
    },
    {
     "data": {
      "text/html": [],
      "text/plain": [
       "<IPython.core.display.HTML object>"
      ]
     },
     "metadata": {},
     "output_type": "display_data"
    },
    {
     "data": {
      "text/html": [],
      "text/plain": [
       "<IPython.core.display.HTML object>"
      ]
     },
     "metadata": {},
     "output_type": "display_data"
    },
    {
     "data": {
      "text/html": [],
      "text/plain": [
       "<IPython.core.display.HTML object>"
      ]
     },
     "metadata": {},
     "output_type": "display_data"
    },
    {
     "data": {
      "text/html": [],
      "text/plain": [
       "<IPython.core.display.HTML object>"
      ]
     },
     "metadata": {},
     "output_type": "display_data"
    },
    {
     "data": {
      "text/html": [],
      "text/plain": [
       "<IPython.core.display.HTML object>"
      ]
     },
     "metadata": {},
     "output_type": "display_data"
    },
    {
     "data": {
      "text/html": [],
      "text/plain": [
       "<IPython.core.display.HTML object>"
      ]
     },
     "metadata": {},
     "output_type": "display_data"
    },
    {
     "data": {
      "text/html": [],
      "text/plain": [
       "<IPython.core.display.HTML object>"
      ]
     },
     "metadata": {},
     "output_type": "display_data"
    },
    {
     "data": {
      "text/html": [],
      "text/plain": [
       "<IPython.core.display.HTML object>"
      ]
     },
     "metadata": {},
     "output_type": "display_data"
    },
    {
     "data": {
      "text/html": [],
      "text/plain": [
       "<IPython.core.display.HTML object>"
      ]
     },
     "metadata": {},
     "output_type": "display_data"
    },
    {
     "data": {
      "text/html": [],
      "text/plain": [
       "<IPython.core.display.HTML object>"
      ]
     },
     "metadata": {},
     "output_type": "display_data"
    },
    {
     "data": {
      "text/html": [],
      "text/plain": [
       "<IPython.core.display.HTML object>"
      ]
     },
     "metadata": {},
     "output_type": "display_data"
    },
    {
     "data": {
      "text/html": [],
      "text/plain": [
       "<IPython.core.display.HTML object>"
      ]
     },
     "metadata": {},
     "output_type": "display_data"
    }
   ],
   "source": [
    "tempset = metricset['text']\n",
    "metricset['RoBERTa'] = tempset.apply(RoBERTa_Classifier)"
   ]
  },
  {
   "cell_type": "code",
   "execution_count": 52,
   "id": "439045c2",
   "metadata": {
    "scrolled": true
   },
   "outputs": [
    {
     "data": {
      "text/html": [
       "<div>\n",
       "<style scoped>\n",
       "    .dataframe tbody tr th:only-of-type {\n",
       "        vertical-align: middle;\n",
       "    }\n",
       "\n",
       "    .dataframe tbody tr th {\n",
       "        vertical-align: top;\n",
       "    }\n",
       "\n",
       "    .dataframe thead th {\n",
       "        text-align: right;\n",
       "    }\n",
       "</style>\n",
       "<table border=\"1\" class=\"dataframe\">\n",
       "  <thead>\n",
       "    <tr style=\"text-align: right;\">\n",
       "      <th></th>\n",
       "      <th>sentiment</th>\n",
       "      <th>text</th>\n",
       "      <th>BERT</th>\n",
       "      <th>ELECTRA</th>\n",
       "      <th>Vader</th>\n",
       "      <th>DistilBERT</th>\n",
       "      <th>RoBERTa</th>\n",
       "    </tr>\n",
       "  </thead>\n",
       "  <tbody>\n",
       "    <tr>\n",
       "      <th>0</th>\n",
       "      <td>negative</td>\n",
       "      <td>@united On top of that I paid for 1st class and my wife got stuck in coach.</td>\n",
       "      <td>negative</td>\n",
       "      <td>negative</td>\n",
       "      <td>neutral</td>\n",
       "      <td>negative</td>\n",
       "      <td>negative</td>\n",
       "    </tr>\n",
       "    <tr>\n",
       "      <th>1</th>\n",
       "      <td>negative</td>\n",
       "      <td>@united Ph the pat answers are BS. After I was denied boarding it sat at the gate until 9:05! Your employees totally suck.</td>\n",
       "      <td>negative</td>\n",
       "      <td>negative</td>\n",
       "      <td>neutral</td>\n",
       "      <td>negative</td>\n",
       "      <td>negative</td>\n",
       "    </tr>\n",
       "    <tr>\n",
       "      <th>2</th>\n",
       "      <td>negative</td>\n",
       "      <td>@United Over the last week, United has provided me with the worst customer service experience of my life. Disgusting. #united</td>\n",
       "      <td>negative</td>\n",
       "      <td>positive</td>\n",
       "      <td>neutral</td>\n",
       "      <td>negative</td>\n",
       "      <td>negative</td>\n",
       "    </tr>\n",
       "    <tr>\n",
       "      <th>3</th>\n",
       "      <td>negative</td>\n",
       "      <td>@united 24 hrs since flight landed and ZERO info on my missing bag? rough ETA would be hugely helpful + restore some confidence</td>\n",
       "      <td>negative</td>\n",
       "      <td>negative</td>\n",
       "      <td>neutral</td>\n",
       "      <td>negative</td>\n",
       "      <td>negative</td>\n",
       "    </tr>\n",
       "    <tr>\n",
       "      <th>4</th>\n",
       "      <td>negative</td>\n",
       "      <td>@united big surprise #nogate waiting for our plane. Same fucken issues everything I fly you. #fail #worstairlineever</td>\n",
       "      <td>negative</td>\n",
       "      <td>negative</td>\n",
       "      <td>neutral</td>\n",
       "      <td>negative</td>\n",
       "      <td>negative</td>\n",
       "    </tr>\n",
       "    <tr>\n",
       "      <th>...</th>\n",
       "      <td>...</td>\n",
       "      <td>...</td>\n",
       "      <td>...</td>\n",
       "      <td>...</td>\n",
       "      <td>...</td>\n",
       "      <td>...</td>\n",
       "      <td>...</td>\n",
       "    </tr>\n",
       "    <tr>\n",
       "      <th>95</th>\n",
       "      <td>negative</td>\n",
       "      <td>@united You're trying to solve problem of your own making. Charging for checked luggage forces checking at gate. Brilliant.</td>\n",
       "      <td>negative</td>\n",
       "      <td>negative</td>\n",
       "      <td>neutral</td>\n",
       "      <td>positive</td>\n",
       "      <td>negative</td>\n",
       "    </tr>\n",
       "    <tr>\n",
       "      <th>96</th>\n",
       "      <td>negative</td>\n",
       "      <td>@united we've been waiting 45 min for a gate at SFO... Yet so many of them are free.  Your excellence in operational efficiency is showing</td>\n",
       "      <td>negative</td>\n",
       "      <td>negative</td>\n",
       "      <td>neutral</td>\n",
       "      <td>positive</td>\n",
       "      <td>negative</td>\n",
       "    </tr>\n",
       "    <tr>\n",
       "      <th>97</th>\n",
       "      <td>negative</td>\n",
       "      <td>@United \"delayed due to customer service\" Huh? http://t.co/XlTV5z6sT1</td>\n",
       "      <td>negative</td>\n",
       "      <td>neutral</td>\n",
       "      <td>neutral</td>\n",
       "      <td>negative</td>\n",
       "      <td>negative</td>\n",
       "    </tr>\n",
       "    <tr>\n",
       "      <th>98</th>\n",
       "      <td>negative</td>\n",
       "      <td>@united what about the poor customer service at checkin at Kansas KCI?!? That's it???</td>\n",
       "      <td>negative</td>\n",
       "      <td>negative</td>\n",
       "      <td>neutral</td>\n",
       "      <td>negative</td>\n",
       "      <td>negative</td>\n",
       "    </tr>\n",
       "    <tr>\n",
       "      <th>99</th>\n",
       "      <td>negative</td>\n",
       "      <td>@united except all of that delayed the flight anyway.</td>\n",
       "      <td>negative</td>\n",
       "      <td>negative</td>\n",
       "      <td>neutral</td>\n",
       "      <td>negative</td>\n",
       "      <td>negative</td>\n",
       "    </tr>\n",
       "  </tbody>\n",
       "</table>\n",
       "<p>100 rows × 7 columns</p>\n",
       "</div>"
      ],
      "text/plain": [
       "   sentiment  \\\n",
       "0   negative   \n",
       "1   negative   \n",
       "2   negative   \n",
       "3   negative   \n",
       "4   negative   \n",
       "..       ...   \n",
       "95  negative   \n",
       "96  negative   \n",
       "97  negative   \n",
       "98  negative   \n",
       "99  negative   \n",
       "\n",
       "                                                                                                                                          text  \\\n",
       "0                                                                  @united On top of that I paid for 1st class and my wife got stuck in coach.   \n",
       "1                   @united Ph the pat answers are BS. After I was denied boarding it sat at the gate until 9:05! Your employees totally suck.   \n",
       "2                @United Over the last week, United has provided me with the worst customer service experience of my life. Disgusting. #united   \n",
       "3              @united 24 hrs since flight landed and ZERO info on my missing bag? rough ETA would be hugely helpful + restore some confidence   \n",
       "4                         @united big surprise #nogate waiting for our plane. Same fucken issues everything I fly you. #fail #worstairlineever   \n",
       "..                                                                                                                                         ...   \n",
       "95                 @united You're trying to solve problem of your own making. Charging for checked luggage forces checking at gate. Brilliant.   \n",
       "96  @united we've been waiting 45 min for a gate at SFO... Yet so many of them are free.  Your excellence in operational efficiency is showing   \n",
       "97                                                                       @United \"delayed due to customer service\" Huh? http://t.co/XlTV5z6sT1   \n",
       "98                                                       @united what about the poor customer service at checkin at Kansas KCI?!? That's it???   \n",
       "99                                                                                       @united except all of that delayed the flight anyway.   \n",
       "\n",
       "        BERT   ELECTRA    Vader DistilBERT   RoBERTa  \n",
       "0   negative  negative  neutral   negative  negative  \n",
       "1   negative  negative  neutral   negative  negative  \n",
       "2   negative  positive  neutral   negative  negative  \n",
       "3   negative  negative  neutral   negative  negative  \n",
       "4   negative  negative  neutral   negative  negative  \n",
       "..       ...       ...      ...        ...       ...  \n",
       "95  negative  negative  neutral   positive  negative  \n",
       "96  negative  negative  neutral   positive  negative  \n",
       "97  negative   neutral  neutral   negative  negative  \n",
       "98  negative  negative  neutral   negative  negative  \n",
       "99  negative  negative  neutral   negative  negative  \n",
       "\n",
       "[100 rows x 7 columns]"
      ]
     },
     "execution_count": 52,
     "metadata": {},
     "output_type": "execute_result"
    }
   ],
   "source": [
    "metricset"
   ]
  },
  {
   "cell_type": "code",
   "execution_count": 53,
   "id": "1f9600ca",
   "metadata": {
    "scrolled": true
   },
   "outputs": [],
   "source": [
    "# metricset.to_excel('classification_saved.xls')\n",
    "metricset.to_csv('classification_saved.csv')"
   ]
  },
  {
   "cell_type": "code",
   "execution_count": 54,
   "id": "6200e571",
   "metadata": {},
   "outputs": [],
   "source": [
    "Model_Score = pd.DataFrame(\n",
    "    {'sentiment': [\"0.0\",\"0.0\",\"0.0\",\"0.0\"],\n",
    "     'Vader': [\"0.0\",\"0.0\",\"0.0\",\"0.0\"],\n",
    "     'BERT': [\"0.0\",\"0.0\",\"0.0\",\"0.0\"],\n",
    "     'DistilBERT': [\"0.0\",\"0.0\",\"0.0\",\"0.0\"],\n",
    "     'RoBERTa': [\"0.0\",\"0.0\",\"0.0\",\"0.0\"],\n",
    "     'ELECTRA': [\"0.0\",\"0.0\",\"0.0\",\"0.0\"]\n",
    "    },\n",
    "    index=['F1_Macro', 'F1_Macro_Neutral_Score','F1_Macro_Positive_Score','F1_Macro_Negative_Score']\n",
    ")\n",
    "# Model_Score=Model_Score.rename_axis('Dark_Side')\n",
    "Model_Score = Model_Score.astype(np.float64)"
   ]
  },
  {
   "cell_type": "code",
   "execution_count": 55,
   "id": "c3e71bdb",
   "metadata": {},
   "outputs": [
    {
     "data": {
      "text/html": [
       "<div>\n",
       "<style scoped>\n",
       "    .dataframe tbody tr th:only-of-type {\n",
       "        vertical-align: middle;\n",
       "    }\n",
       "\n",
       "    .dataframe tbody tr th {\n",
       "        vertical-align: top;\n",
       "    }\n",
       "\n",
       "    .dataframe thead th {\n",
       "        text-align: right;\n",
       "    }\n",
       "</style>\n",
       "<table border=\"1\" class=\"dataframe\">\n",
       "  <thead>\n",
       "    <tr style=\"text-align: right;\">\n",
       "      <th></th>\n",
       "      <th>sentiment</th>\n",
       "      <th>Vader</th>\n",
       "      <th>BERT</th>\n",
       "      <th>DistilBERT</th>\n",
       "      <th>RoBERTa</th>\n",
       "      <th>ELECTRA</th>\n",
       "    </tr>\n",
       "  </thead>\n",
       "  <tbody>\n",
       "    <tr>\n",
       "      <th>F1_Macro</th>\n",
       "      <td>0.0</td>\n",
       "      <td>0.0</td>\n",
       "      <td>0.0</td>\n",
       "      <td>0.0</td>\n",
       "      <td>0.0</td>\n",
       "      <td>0.0</td>\n",
       "    </tr>\n",
       "    <tr>\n",
       "      <th>F1_Macro_Neutral_Score</th>\n",
       "      <td>0.0</td>\n",
       "      <td>0.0</td>\n",
       "      <td>0.0</td>\n",
       "      <td>0.0</td>\n",
       "      <td>0.0</td>\n",
       "      <td>0.0</td>\n",
       "    </tr>\n",
       "    <tr>\n",
       "      <th>F1_Macro_Positive_Score</th>\n",
       "      <td>0.0</td>\n",
       "      <td>0.0</td>\n",
       "      <td>0.0</td>\n",
       "      <td>0.0</td>\n",
       "      <td>0.0</td>\n",
       "      <td>0.0</td>\n",
       "    </tr>\n",
       "    <tr>\n",
       "      <th>F1_Macro_Negative_Score</th>\n",
       "      <td>0.0</td>\n",
       "      <td>0.0</td>\n",
       "      <td>0.0</td>\n",
       "      <td>0.0</td>\n",
       "      <td>0.0</td>\n",
       "      <td>0.0</td>\n",
       "    </tr>\n",
       "  </tbody>\n",
       "</table>\n",
       "</div>"
      ],
      "text/plain": [
       "                         sentiment  Vader  BERT  DistilBERT  RoBERTa  ELECTRA\n",
       "F1_Macro                       0.0    0.0   0.0         0.0      0.0      0.0\n",
       "F1_Macro_Neutral_Score         0.0    0.0   0.0         0.0      0.0      0.0\n",
       "F1_Macro_Positive_Score        0.0    0.0   0.0         0.0      0.0      0.0\n",
       "F1_Macro_Negative_Score        0.0    0.0   0.0         0.0      0.0      0.0"
      ]
     },
     "execution_count": 55,
     "metadata": {},
     "output_type": "execute_result"
    }
   ],
   "source": [
    "Model_Score"
   ]
  },
  {
   "cell_type": "code",
   "execution_count": 56,
   "id": "08e86881",
   "metadata": {},
   "outputs": [
    {
     "data": {
      "text/html": [
       "<div>\n",
       "<style scoped>\n",
       "    .dataframe tbody tr th:only-of-type {\n",
       "        vertical-align: middle;\n",
       "    }\n",
       "\n",
       "    .dataframe tbody tr th {\n",
       "        vertical-align: top;\n",
       "    }\n",
       "\n",
       "    .dataframe thead th {\n",
       "        text-align: right;\n",
       "    }\n",
       "</style>\n",
       "<table border=\"1\" class=\"dataframe\">\n",
       "  <thead>\n",
       "    <tr style=\"text-align: right;\">\n",
       "      <th></th>\n",
       "      <th>sentiment</th>\n",
       "      <th>text</th>\n",
       "      <th>BERT</th>\n",
       "      <th>ELECTRA</th>\n",
       "      <th>Vader</th>\n",
       "      <th>DistilBERT</th>\n",
       "      <th>RoBERTa</th>\n",
       "    </tr>\n",
       "  </thead>\n",
       "  <tbody>\n",
       "    <tr>\n",
       "      <th>0</th>\n",
       "      <td>negative</td>\n",
       "      <td>@united On top of that I paid for 1st class and my wife got stuck in coach.</td>\n",
       "      <td>negative</td>\n",
       "      <td>negative</td>\n",
       "      <td>neutral</td>\n",
       "      <td>negative</td>\n",
       "      <td>negative</td>\n",
       "    </tr>\n",
       "    <tr>\n",
       "      <th>1</th>\n",
       "      <td>negative</td>\n",
       "      <td>@united Ph the pat answers are BS. After I was denied boarding it sat at the gate until 9:05! Your employees totally suck.</td>\n",
       "      <td>negative</td>\n",
       "      <td>negative</td>\n",
       "      <td>neutral</td>\n",
       "      <td>negative</td>\n",
       "      <td>negative</td>\n",
       "    </tr>\n",
       "    <tr>\n",
       "      <th>2</th>\n",
       "      <td>negative</td>\n",
       "      <td>@United Over the last week, United has provided me with the worst customer service experience of my life. Disgusting. #united</td>\n",
       "      <td>negative</td>\n",
       "      <td>positive</td>\n",
       "      <td>neutral</td>\n",
       "      <td>negative</td>\n",
       "      <td>negative</td>\n",
       "    </tr>\n",
       "    <tr>\n",
       "      <th>3</th>\n",
       "      <td>negative</td>\n",
       "      <td>@united 24 hrs since flight landed and ZERO info on my missing bag? rough ETA would be hugely helpful + restore some confidence</td>\n",
       "      <td>negative</td>\n",
       "      <td>negative</td>\n",
       "      <td>neutral</td>\n",
       "      <td>negative</td>\n",
       "      <td>negative</td>\n",
       "    </tr>\n",
       "    <tr>\n",
       "      <th>4</th>\n",
       "      <td>negative</td>\n",
       "      <td>@united big surprise #nogate waiting for our plane. Same fucken issues everything I fly you. #fail #worstairlineever</td>\n",
       "      <td>negative</td>\n",
       "      <td>negative</td>\n",
       "      <td>neutral</td>\n",
       "      <td>negative</td>\n",
       "      <td>negative</td>\n",
       "    </tr>\n",
       "    <tr>\n",
       "      <th>...</th>\n",
       "      <td>...</td>\n",
       "      <td>...</td>\n",
       "      <td>...</td>\n",
       "      <td>...</td>\n",
       "      <td>...</td>\n",
       "      <td>...</td>\n",
       "      <td>...</td>\n",
       "    </tr>\n",
       "    <tr>\n",
       "      <th>95</th>\n",
       "      <td>negative</td>\n",
       "      <td>@united You're trying to solve problem of your own making. Charging for checked luggage forces checking at gate. Brilliant.</td>\n",
       "      <td>negative</td>\n",
       "      <td>negative</td>\n",
       "      <td>neutral</td>\n",
       "      <td>positive</td>\n",
       "      <td>negative</td>\n",
       "    </tr>\n",
       "    <tr>\n",
       "      <th>96</th>\n",
       "      <td>negative</td>\n",
       "      <td>@united we've been waiting 45 min for a gate at SFO... Yet so many of them are free.  Your excellence in operational efficiency is showing</td>\n",
       "      <td>negative</td>\n",
       "      <td>negative</td>\n",
       "      <td>neutral</td>\n",
       "      <td>positive</td>\n",
       "      <td>negative</td>\n",
       "    </tr>\n",
       "    <tr>\n",
       "      <th>97</th>\n",
       "      <td>negative</td>\n",
       "      <td>@United \"delayed due to customer service\" Huh? http://t.co/XlTV5z6sT1</td>\n",
       "      <td>negative</td>\n",
       "      <td>neutral</td>\n",
       "      <td>neutral</td>\n",
       "      <td>negative</td>\n",
       "      <td>negative</td>\n",
       "    </tr>\n",
       "    <tr>\n",
       "      <th>98</th>\n",
       "      <td>negative</td>\n",
       "      <td>@united what about the poor customer service at checkin at Kansas KCI?!? That's it???</td>\n",
       "      <td>negative</td>\n",
       "      <td>negative</td>\n",
       "      <td>neutral</td>\n",
       "      <td>negative</td>\n",
       "      <td>negative</td>\n",
       "    </tr>\n",
       "    <tr>\n",
       "      <th>99</th>\n",
       "      <td>negative</td>\n",
       "      <td>@united except all of that delayed the flight anyway.</td>\n",
       "      <td>negative</td>\n",
       "      <td>negative</td>\n",
       "      <td>neutral</td>\n",
       "      <td>negative</td>\n",
       "      <td>negative</td>\n",
       "    </tr>\n",
       "  </tbody>\n",
       "</table>\n",
       "<p>100 rows × 7 columns</p>\n",
       "</div>"
      ],
      "text/plain": [
       "   sentiment  \\\n",
       "0   negative   \n",
       "1   negative   \n",
       "2   negative   \n",
       "3   negative   \n",
       "4   negative   \n",
       "..       ...   \n",
       "95  negative   \n",
       "96  negative   \n",
       "97  negative   \n",
       "98  negative   \n",
       "99  negative   \n",
       "\n",
       "                                                                                                                                          text  \\\n",
       "0                                                                  @united On top of that I paid for 1st class and my wife got stuck in coach.   \n",
       "1                   @united Ph the pat answers are BS. After I was denied boarding it sat at the gate until 9:05! Your employees totally suck.   \n",
       "2                @United Over the last week, United has provided me with the worst customer service experience of my life. Disgusting. #united   \n",
       "3              @united 24 hrs since flight landed and ZERO info on my missing bag? rough ETA would be hugely helpful + restore some confidence   \n",
       "4                         @united big surprise #nogate waiting for our plane. Same fucken issues everything I fly you. #fail #worstairlineever   \n",
       "..                                                                                                                                         ...   \n",
       "95                 @united You're trying to solve problem of your own making. Charging for checked luggage forces checking at gate. Brilliant.   \n",
       "96  @united we've been waiting 45 min for a gate at SFO... Yet so many of them are free.  Your excellence in operational efficiency is showing   \n",
       "97                                                                       @United \"delayed due to customer service\" Huh? http://t.co/XlTV5z6sT1   \n",
       "98                                                       @united what about the poor customer service at checkin at Kansas KCI?!? That's it???   \n",
       "99                                                                                       @united except all of that delayed the flight anyway.   \n",
       "\n",
       "        BERT   ELECTRA    Vader DistilBERT   RoBERTa  \n",
       "0   negative  negative  neutral   negative  negative  \n",
       "1   negative  negative  neutral   negative  negative  \n",
       "2   negative  positive  neutral   negative  negative  \n",
       "3   negative  negative  neutral   negative  negative  \n",
       "4   negative  negative  neutral   negative  negative  \n",
       "..       ...       ...      ...        ...       ...  \n",
       "95  negative  negative  neutral   positive  negative  \n",
       "96  negative  negative  neutral   positive  negative  \n",
       "97  negative   neutral  neutral   negative  negative  \n",
       "98  negative  negative  neutral   negative  negative  \n",
       "99  negative  negative  neutral   negative  negative  \n",
       "\n",
       "[100 rows x 7 columns]"
      ]
     },
     "execution_count": 56,
     "metadata": {},
     "output_type": "execute_result"
    }
   ],
   "source": [
    "metricset"
   ]
  },
  {
   "cell_type": "code",
   "execution_count": 57,
   "id": "a4082d39",
   "metadata": {},
   "outputs": [
    {
     "data": {
      "text/html": [
       "<div>\n",
       "<style scoped>\n",
       "    .dataframe tbody tr th:only-of-type {\n",
       "        vertical-align: middle;\n",
       "    }\n",
       "\n",
       "    .dataframe tbody tr th {\n",
       "        vertical-align: top;\n",
       "    }\n",
       "\n",
       "    .dataframe thead th {\n",
       "        text-align: right;\n",
       "    }\n",
       "</style>\n",
       "<table border=\"1\" class=\"dataframe\">\n",
       "  <thead>\n",
       "    <tr style=\"text-align: right;\">\n",
       "      <th></th>\n",
       "      <th>sentiment</th>\n",
       "      <th>Vader</th>\n",
       "      <th>BERT</th>\n",
       "      <th>DistilBERT</th>\n",
       "      <th>RoBERTa</th>\n",
       "      <th>ELECTRA</th>\n",
       "    </tr>\n",
       "  </thead>\n",
       "  <tbody>\n",
       "    <tr>\n",
       "      <th>F1_Macro</th>\n",
       "      <td>0.0</td>\n",
       "      <td>0.0</td>\n",
       "      <td>0.0</td>\n",
       "      <td>0.0</td>\n",
       "      <td>0.0</td>\n",
       "      <td>0.0</td>\n",
       "    </tr>\n",
       "    <tr>\n",
       "      <th>F1_Macro_Neutral_Score</th>\n",
       "      <td>0.0</td>\n",
       "      <td>0.0</td>\n",
       "      <td>0.0</td>\n",
       "      <td>0.0</td>\n",
       "      <td>0.0</td>\n",
       "      <td>0.0</td>\n",
       "    </tr>\n",
       "    <tr>\n",
       "      <th>F1_Macro_Positive_Score</th>\n",
       "      <td>0.0</td>\n",
       "      <td>0.0</td>\n",
       "      <td>0.0</td>\n",
       "      <td>0.0</td>\n",
       "      <td>0.0</td>\n",
       "      <td>0.0</td>\n",
       "    </tr>\n",
       "    <tr>\n",
       "      <th>F1_Macro_Negative_Score</th>\n",
       "      <td>0.0</td>\n",
       "      <td>0.0</td>\n",
       "      <td>0.0</td>\n",
       "      <td>0.0</td>\n",
       "      <td>0.0</td>\n",
       "      <td>0.0</td>\n",
       "    </tr>\n",
       "  </tbody>\n",
       "</table>\n",
       "</div>"
      ],
      "text/plain": [
       "                         sentiment  Vader  BERT  DistilBERT  RoBERTa  ELECTRA\n",
       "F1_Macro                       0.0    0.0   0.0         0.0      0.0      0.0\n",
       "F1_Macro_Neutral_Score         0.0    0.0   0.0         0.0      0.0      0.0\n",
       "F1_Macro_Positive_Score        0.0    0.0   0.0         0.0      0.0      0.0\n",
       "F1_Macro_Negative_Score        0.0    0.0   0.0         0.0      0.0      0.0"
      ]
     },
     "execution_count": 57,
     "metadata": {},
     "output_type": "execute_result"
    }
   ],
   "source": [
    "Model_Score"
   ]
  },
  {
   "cell_type": "code",
   "execution_count": 58,
   "id": "794949b3",
   "metadata": {},
   "outputs": [],
   "source": [
    "# Model_Score.loc['F1_Macro']\n",
    "# f1_score(metricset.iloc[neutralset.index]['sentiment'], neutralset.Vader, average='macro')"
   ]
  },
  {
   "cell_type": "code",
   "execution_count": 59,
   "id": "ef65bc23",
   "metadata": {},
   "outputs": [],
   "source": [
    "# f1_score(metricset.iloc[neutralset.index]['sentiment'], neutralset['BERT'], average='macro')"
   ]
  },
  {
   "cell_type": "code",
   "execution_count": 60,
   "id": "a0c53cea",
   "metadata": {},
   "outputs": [],
   "source": [
    "# metricset.iloc[neutralset.index]['sentiment']"
   ]
  },
  {
   "cell_type": "code",
   "execution_count": 61,
   "id": "84807d6f",
   "metadata": {},
   "outputs": [],
   "source": [
    "# Model_Score['Vader'].loc['F1_Macro_Neutral_Score']"
   ]
  },
  {
   "cell_type": "code",
   "execution_count": 62,
   "id": "bb7b0c3c",
   "metadata": {},
   "outputs": [],
   "source": [
    "# def tabulate_neutral_score(model,sentiment,metric):\n",
    "# #     print(\"Model: \", model, sentiment,metric)\n",
    "#     neutralset = metricset[metricset[model] == sentiment]\n",
    "# #     print(neutralset[model])\n",
    "#     Model_Score[model].loc['F1_Macro_Neutral_Score'] = f1_score(metricset.iloc[neutralset.index]['sentiment'], neutralset[model], average='macro')\n",
    "# #     f1_score(metricset.iloc[neutralset.index]['sentiment'], neutralset[model], average='macro')                                                                          \n",
    "# #     print(f1_score(metricset.iloc[neutralset.index]['sentiment'], neutralset[model], average='macro'))\n",
    "# #     Model_Score[model].loc['F1_Macro_Neutral_Score'] = f1_score(metricset['sentiment'], neutralset[model], average='macro')   "
   ]
  },
  {
   "cell_type": "code",
   "execution_count": null,
   "id": "61d48fba",
   "metadata": {},
   "outputs": [],
   "source": []
  },
  {
   "cell_type": "code",
   "execution_count": 63,
   "id": "b437d565",
   "metadata": {},
   "outputs": [],
   "source": [
    "# tabulate_neutral_score(model='Vader',senti='neutral',metric='F1_Macro_Neutral_Score')"
   ]
  },
  {
   "cell_type": "code",
   "execution_count": 64,
   "id": "30f1566c",
   "metadata": {},
   "outputs": [],
   "source": [
    "def tabulate_neutral_score(model,sentiment,metric):\n",
    "#     print(\"Model: \", model, sentiment,metric)\n",
    "    neutralset = metricset[metricset['sentiment'] == sentiment]\n",
    "#     print(neutralset)\n",
    "    Model_Score[model].loc['F1_Macro_Neutral_Score'] = f1_score(neutralset['sentiment'], neutralset[model], average='macro')"
   ]
  },
  {
   "cell_type": "code",
   "execution_count": 65,
   "id": "f48616de",
   "metadata": {},
   "outputs": [],
   "source": [
    "def tabulate_positive_score(model,sentiment,metric):\n",
    "#     print(\"Model: \", model, sentiment,metric)\n",
    "    positiveset = metricset[metricset['sentiment'] == sentiment]\n",
    "#     print(positiveset)\n",
    "    Model_Score[model].loc['F1_Macro_Positive_Score'] = f1_score(positiveset['sentiment'], positiveset[model], average='macro')"
   ]
  },
  {
   "cell_type": "code",
   "execution_count": 66,
   "id": "532714a8",
   "metadata": {},
   "outputs": [],
   "source": [
    "def tabulate_negative_score(model,sentiment,metric):\n",
    "#     print(\"Model: \", model, sentiment,metric)\n",
    "    negativeset = metricset[metricset['sentiment'] == sentiment]\n",
    "#     print(negativeset)\n",
    "    Model_Score[model].loc['F1_Macro_Negative_Score'] = f1_score(negativeset['sentiment'], negativeset[model], average='macro')"
   ]
  },
  {
   "cell_type": "code",
   "execution_count": 67,
   "id": "9b07c866",
   "metadata": {},
   "outputs": [],
   "source": [
    "# def tabulate_positive_score(model,sentiment,metric):\n",
    "# #     print(\"Model: \", model, sentiment,metric)\n",
    "#     positiveset = metricset[metricset[model] == sentiment]\n",
    "# #     print(positiveset)\n",
    "#     Model_Score[model].loc['F1_Macro_Positive_Score'] = f1_score(metricset.iloc[positiveset.index]['sentiment'], positiveset[model], average='macro')\n",
    "# #     print(f1_score(metricset.iloc[positiveset.index]['sentiment'], positiveset[model], average='macro'))\n",
    "# #     Model_Score[model].loc['F1_Macro_Positive_Score'] = f1_score(positiveset['sentiment'], positiveset[model], average='macro')"
   ]
  },
  {
   "cell_type": "code",
   "execution_count": 68,
   "id": "bb7e932e",
   "metadata": {},
   "outputs": [],
   "source": [
    "# def tabulate_negative_score(model,sentiment,metric):\n",
    "# #     print(\"Model: \", model, sentiment,metric)\n",
    "#     negativeset = metricset[metricset[model] == sentiment]\n",
    "# #     print(negativeset)\n",
    "#     Model_Score[model].loc['F1_Macro_Negative_Score'] = f1_score(metricset.iloc[negativeset.index]['sentiment'], negativeset[model], average='macro')\n",
    "# #     Model_Score[model].loc['F1_Macro_Negative_Score'] = f1_score(negativeset['sentiment'], negativeset[model], average='macro')"
   ]
  },
  {
   "cell_type": "code",
   "execution_count": 69,
   "id": "94667c59",
   "metadata": {},
   "outputs": [],
   "source": [
    "def neutral_support_count(model, sentiment):\n",
    "    neutralset = metricset[metricset[model] == sentiment]\n",
    "    return neutralset[model].count()"
   ]
  },
  {
   "cell_type": "code",
   "execution_count": 70,
   "id": "5ba88665",
   "metadata": {},
   "outputs": [],
   "source": [
    "# metricset"
   ]
  },
  {
   "cell_type": "code",
   "execution_count": 71,
   "id": "a36ee6ce",
   "metadata": {},
   "outputs": [],
   "source": [
    "# support_series=[]\n",
    "# support_series.append(neutral_support_count(model=\"sentiment\", sentiment=\"neutral\"))\n",
    "# support_series.append(neutral_support_count(model=\"Vader\", sentiment=\"neutral\"))\n",
    "# support_series.append(neutral_support_count(model=\"BERT\", sentiment=\"neutral\"))\n",
    "# support_series.append(neutral_support_count(model=\"DistilBERT\", sentiment=\"neutral\"))\n",
    "# support_series.append(neutral_support_count(model=\"RoBERTa\", sentiment=\"neutral\"))\n",
    "# support_series.append(neutral_support_count(model=\"ELECTRA\", sentiment=\"neutral\"))"
   ]
  },
  {
   "cell_type": "code",
   "execution_count": 72,
   "id": "e214f158",
   "metadata": {},
   "outputs": [],
   "source": [
    "# support_series"
   ]
  },
  {
   "cell_type": "code",
   "execution_count": 73,
   "id": "0ea5b40b",
   "metadata": {},
   "outputs": [],
   "source": [
    "# metricset"
   ]
  },
  {
   "cell_type": "code",
   "execution_count": 74,
   "id": "e345ff04",
   "metadata": {},
   "outputs": [
    {
     "data": {
      "text/html": [
       "<div>\n",
       "<style scoped>\n",
       "    .dataframe tbody tr th:only-of-type {\n",
       "        vertical-align: middle;\n",
       "    }\n",
       "\n",
       "    .dataframe tbody tr th {\n",
       "        vertical-align: top;\n",
       "    }\n",
       "\n",
       "    .dataframe thead th {\n",
       "        text-align: right;\n",
       "    }\n",
       "</style>\n",
       "<table border=\"1\" class=\"dataframe\">\n",
       "  <thead>\n",
       "    <tr style=\"text-align: right;\">\n",
       "      <th></th>\n",
       "      <th>sentiment</th>\n",
       "      <th>Vader</th>\n",
       "      <th>BERT</th>\n",
       "      <th>DistilBERT</th>\n",
       "      <th>RoBERTa</th>\n",
       "      <th>ELECTRA</th>\n",
       "    </tr>\n",
       "  </thead>\n",
       "  <tbody>\n",
       "    <tr>\n",
       "      <th>F1_Macro</th>\n",
       "      <td>0.0</td>\n",
       "      <td>0.0</td>\n",
       "      <td>0.0</td>\n",
       "      <td>0.0</td>\n",
       "      <td>0.0</td>\n",
       "      <td>0.0</td>\n",
       "    </tr>\n",
       "    <tr>\n",
       "      <th>F1_Macro_Neutral_Score</th>\n",
       "      <td>0.0</td>\n",
       "      <td>0.0</td>\n",
       "      <td>0.0</td>\n",
       "      <td>0.0</td>\n",
       "      <td>0.0</td>\n",
       "      <td>0.0</td>\n",
       "    </tr>\n",
       "    <tr>\n",
       "      <th>F1_Macro_Positive_Score</th>\n",
       "      <td>0.0</td>\n",
       "      <td>0.0</td>\n",
       "      <td>0.0</td>\n",
       "      <td>0.0</td>\n",
       "      <td>0.0</td>\n",
       "      <td>0.0</td>\n",
       "    </tr>\n",
       "    <tr>\n",
       "      <th>F1_Macro_Negative_Score</th>\n",
       "      <td>0.0</td>\n",
       "      <td>0.0</td>\n",
       "      <td>0.0</td>\n",
       "      <td>0.0</td>\n",
       "      <td>0.0</td>\n",
       "      <td>0.0</td>\n",
       "    </tr>\n",
       "  </tbody>\n",
       "</table>\n",
       "</div>"
      ],
      "text/plain": [
       "                         sentiment  Vader  BERT  DistilBERT  RoBERTa  ELECTRA\n",
       "F1_Macro                       0.0    0.0   0.0         0.0      0.0      0.0\n",
       "F1_Macro_Neutral_Score         0.0    0.0   0.0         0.0      0.0      0.0\n",
       "F1_Macro_Positive_Score        0.0    0.0   0.0         0.0      0.0      0.0\n",
       "F1_Macro_Negative_Score        0.0    0.0   0.0         0.0      0.0      0.0"
      ]
     },
     "execution_count": 74,
     "metadata": {},
     "output_type": "execute_result"
    }
   ],
   "source": [
    "Model_Score"
   ]
  },
  {
   "cell_type": "code",
   "execution_count": 75,
   "id": "793d964c",
   "metadata": {},
   "outputs": [],
   "source": [
    "# Model_Score['Grounding'].loc['F1_Macro']"
   ]
  },
  {
   "cell_type": "code",
   "execution_count": 76,
   "id": "d9b37972",
   "metadata": {},
   "outputs": [],
   "source": [
    "# Model_Score['Grounding'].loc['F1_Macro'] = f1_score(metricset['sentiment'], metricset['sentiment'], average='macro')"
   ]
  },
  {
   "cell_type": "code",
   "execution_count": 77,
   "id": "817e7df4",
   "metadata": {},
   "outputs": [
    {
     "data": {
      "text/html": [
       "<div>\n",
       "<style scoped>\n",
       "    .dataframe tbody tr th:only-of-type {\n",
       "        vertical-align: middle;\n",
       "    }\n",
       "\n",
       "    .dataframe tbody tr th {\n",
       "        vertical-align: top;\n",
       "    }\n",
       "\n",
       "    .dataframe thead th {\n",
       "        text-align: right;\n",
       "    }\n",
       "</style>\n",
       "<table border=\"1\" class=\"dataframe\">\n",
       "  <thead>\n",
       "    <tr style=\"text-align: right;\">\n",
       "      <th></th>\n",
       "      <th>Grounding</th>\n",
       "      <th>Vader</th>\n",
       "      <th>BERT</th>\n",
       "      <th>DistilBERT</th>\n",
       "      <th>RoBERTa</th>\n",
       "      <th>ELECTRA</th>\n",
       "    </tr>\n",
       "  </thead>\n",
       "  <tbody>\n",
       "    <tr>\n",
       "      <th>F1_Macro</th>\n",
       "      <td>1.0</td>\n",
       "      <td>0.240355</td>\n",
       "      <td>0.928849</td>\n",
       "      <td>0.504527</td>\n",
       "      <td>0.300366</td>\n",
       "      <td>0.508014</td>\n",
       "    </tr>\n",
       "    <tr>\n",
       "      <th>F1_Macro_Neutral_Score</th>\n",
       "      <td>1.0</td>\n",
       "      <td>0.466667</td>\n",
       "      <td>0.428571</td>\n",
       "      <td>0.000000</td>\n",
       "      <td>0.000000</td>\n",
       "      <td>0.111111</td>\n",
       "    </tr>\n",
       "    <tr>\n",
       "      <th>F1_Macro_Positive_Score</th>\n",
       "      <td>1.0</td>\n",
       "      <td>0.333333</td>\n",
       "      <td>0.473684</td>\n",
       "      <td>0.473684</td>\n",
       "      <td>0.000000</td>\n",
       "      <td>0.222222</td>\n",
       "    </tr>\n",
       "    <tr>\n",
       "      <th>F1_Macro_Negative_Score</th>\n",
       "      <td>1.0</td>\n",
       "      <td>0.008032</td>\n",
       "      <td>1.000000</td>\n",
       "      <td>0.474359</td>\n",
       "      <td>1.000000</td>\n",
       "      <td>0.311688</td>\n",
       "    </tr>\n",
       "  </tbody>\n",
       "</table>\n",
       "</div>"
      ],
      "text/plain": [
       "                         Grounding     Vader      BERT  DistilBERT   RoBERTa  \\\n",
       "F1_Macro                       1.0  0.240355  0.928849    0.504527  0.300366   \n",
       "F1_Macro_Neutral_Score         1.0  0.466667  0.428571    0.000000  0.000000   \n",
       "F1_Macro_Positive_Score        1.0  0.333333  0.473684    0.473684  0.000000   \n",
       "F1_Macro_Negative_Score        1.0  0.008032  1.000000    0.474359  1.000000   \n",
       "\n",
       "                          ELECTRA  \n",
       "F1_Macro                 0.508014  \n",
       "F1_Macro_Neutral_Score   0.111111  \n",
       "F1_Macro_Positive_Score  0.222222  \n",
       "F1_Macro_Negative_Score  0.311688  "
      ]
     },
     "execution_count": 77,
     "metadata": {},
     "output_type": "execute_result"
    }
   ],
   "source": [
    "Model_Score['sentiment'].loc['F1_Macro'] = f1_score(metricset['sentiment'], metricset['sentiment'], average='macro')\n",
    "Model_Score['Vader'].loc['F1_Macro'] = f1_score(metricset.sentiment, metricset.Vader, average='macro')\n",
    "Model_Score['BERT'].loc['F1_Macro'] = f1_score(metricset.sentiment, metricset.BERT, average='macro')\n",
    "Model_Score['DistilBERT'].loc['F1_Macro'] = f1_score(metricset.sentiment, metricset.DistilBERT, average='macro')\n",
    "Model_Score['RoBERTa'].loc['F1_Macro'] = f1_score(metricset.sentiment, metricset.RoBERTa, average='macro')\n",
    "Model_Score['ELECTRA'].loc['F1_Macro'] = f1_score(metricset.sentiment, metricset.ELECTRA, average='macro')\n",
    "\n",
    "tabulate_neutral_score(model=\"sentiment\", sentiment=\"neutral\", metric=\"F1_Macro_Neutral_Score\")\n",
    "tabulate_neutral_score(model=\"Vader\", sentiment=\"neutral\", metric=\"F1_Macro_Neutral_Score\")\n",
    "tabulate_neutral_score(model=\"BERT\", sentiment=\"neutral\", metric=\"F1_Macro_Neutral_Score\")\n",
    "tabulate_neutral_score(model=\"DistilBERT\", sentiment=\"neutral\", metric=\"F1_Macro_Neutral_Score\")\n",
    "tabulate_neutral_score(model=\"RoBERTa\", sentiment=\"neutral\", metric=\"F1_Macro_Neutral_Score\")\n",
    "tabulate_neutral_score(model=\"ELECTRA\", sentiment=\"neutral\", metric=\"F1_Macro_Neutral_Score\")\n",
    "\n",
    "tabulate_positive_score(model=\"sentiment\", sentiment=\"positive\", metric=\"F1_Macro_Positive_Score\")\n",
    "tabulate_positive_score(model=\"Vader\", sentiment=\"positive\", metric=\"F1_Macro_Positive_Score\")\n",
    "tabulate_positive_score(model=\"BERT\", sentiment=\"positive\", metric=\"F1_Macro_Positive_Score\")\n",
    "tabulate_positive_score(model=\"DistilBERT\", sentiment=\"positive\", metric=\"F1_Macro_Positive_Score\")\n",
    "tabulate_positive_score(model=\"RoBERTa\", sentiment=\"positive\", metric=\"F1_Macro_Positive_Score\")\n",
    "tabulate_positive_score(model=\"ELECTRA\", sentiment=\"positive\", metric=\"F1_Macro_Positive_Score\")\n",
    "\n",
    "tabulate_negative_score(model=\"sentiment\", sentiment=\"negative\", metric=\"F1_Macro_Negative_Score\")\n",
    "tabulate_negative_score(model=\"Vader\", sentiment=\"negative\", metric=\"F1_Macro_Negative_Score\")\n",
    "tabulate_negative_score(model=\"BERT\", sentiment=\"negative\", metric=\"F1_Macro_Negative_Score\")\n",
    "tabulate_negative_score(model=\"DistilBERT\", sentiment=\"negative\", metric=\"F1_Macro_Negative_Score\")\n",
    "tabulate_negative_score(model=\"RoBERTa\", sentiment=\"negative\", metric=\"F1_Macro_Negative_Score\")\n",
    "tabulate_negative_score(model=\"ELECTRA\", sentiment=\"negative\", metric=\"F1_Macro_Negative_Score\")\n",
    "\n",
    "Model_Score = Model_Score.fillna(0)\n",
    "Model_Score.rename(columns = {'sentiment':'Grounding'}, inplace = True)\n",
    "Model_Score"
   ]
  },
  {
   "cell_type": "code",
   "execution_count": 78,
   "id": "61a3954a",
   "metadata": {},
   "outputs": [
    {
     "data": {
      "image/png": "[encoded data removed]",
      "text/plain": [
       "<Figure size 640x480 with 1 Axes>"
      ]
     },
     "metadata": {},
     "output_type": "display_data"
    }
   ],
   "source": [
    "ax = sns.lineplot(data=Model_Score.loc['F1_Macro'], label='F1 Macro')\n",
    "ax.set_ylabel ('Score', fontsize = 10)\n",
    "ax = sns.lineplot(data=Model_Score.loc['F1_Macro_Neutral_Score'], label='F1_Macro_Neutral')"
   ]
  },
  {
   "cell_type": "code",
   "execution_count": 79,
   "id": "0108f01b",
   "metadata": {},
   "outputs": [
    {
     "data": {
      "image/png": "[encoded data removed]",
      "text/plain": [
       "<Figure size 640x480 with 1 Axes>"
      ]
     },
     "metadata": {},
     "output_type": "display_data"
    }
   ],
   "source": [
    "plt.xticks(rotation=90)\n",
    "ax = sns.lineplot(data=Model_Score['Grounding'], label='Score')\n",
    "ax = sns.lineplot(data=Model_Score['Vader'], label='Vader')"
   ]
  },
  {
   "cell_type": "code",
   "execution_count": 80,
   "id": "2588fac8",
   "metadata": {},
   "outputs": [
    {
     "data": {
      "image/png": "[encoded data removed]",
      "text/plain": [
       "<Figure size 640x480 with 1 Axes>"
      ]
     },
     "metadata": {},
     "output_type": "display_data"
    }
   ],
   "source": [
    "plt.xticks(rotation=90)\n",
    "ax = sns.lineplot(data=Model_Score['Grounding'], label='Grounding')\n",
    "# ax = sns.lineplot(data=Model_Score['Vader'], label='Vader')\n",
    "ax = sns.lineplot(data=Model_Score['BERT'], label='BERT')\n",
    "ax = sns.lineplot(data=Model_Score['DistilBERT'], label='DistilBERT')\n",
    "ax = sns.lineplot(data=Model_Score['RoBERTa'], label='RoBERTa')\n",
    "ax = sns.lineplot(data=Model_Score['ELECTRA'], label='ELECTRA')"
   ]
  },
  {
   "cell_type": "markdown",
   "id": "6574ec49",
   "metadata": {},
   "source": [
    "### Neutral Counts"
   ]
  },
  {
   "cell_type": "code",
   "execution_count": 81,
   "id": "3c03cd94",
   "metadata": {},
   "outputs": [
    {
     "data": {
      "text/html": [
       "<div>\n",
       "<style scoped>\n",
       "    .dataframe tbody tr th:only-of-type {\n",
       "        vertical-align: middle;\n",
       "    }\n",
       "\n",
       "    .dataframe tbody tr th {\n",
       "        vertical-align: top;\n",
       "    }\n",
       "\n",
       "    .dataframe thead th {\n",
       "        text-align: right;\n",
       "    }\n",
       "</style>\n",
       "<table border=\"1\" class=\"dataframe\">\n",
       "  <thead>\n",
       "    <tr style=\"text-align: right;\">\n",
       "      <th></th>\n",
       "      <th>sentiment</th>\n",
       "      <th>text</th>\n",
       "      <th>BERT</th>\n",
       "      <th>ELECTRA</th>\n",
       "      <th>Vader</th>\n",
       "      <th>DistilBERT</th>\n",
       "      <th>RoBERTa</th>\n",
       "    </tr>\n",
       "  </thead>\n",
       "  <tbody>\n",
       "    <tr>\n",
       "      <th>0</th>\n",
       "      <td>negative</td>\n",
       "      <td>@united On top of that I paid for 1st class and my wife got stuck in coach.</td>\n",
       "      <td>negative</td>\n",
       "      <td>negative</td>\n",
       "      <td>neutral</td>\n",
       "      <td>negative</td>\n",
       "      <td>negative</td>\n",
       "    </tr>\n",
       "    <tr>\n",
       "      <th>1</th>\n",
       "      <td>negative</td>\n",
       "      <td>@united Ph the pat answers are BS. After I was denied boarding it sat at the gate until 9:05! Your employees totally suck.</td>\n",
       "      <td>negative</td>\n",
       "      <td>negative</td>\n",
       "      <td>neutral</td>\n",
       "      <td>negative</td>\n",
       "      <td>negative</td>\n",
       "    </tr>\n",
       "    <tr>\n",
       "      <th>2</th>\n",
       "      <td>negative</td>\n",
       "      <td>@United Over the last week, United has provided me with the worst customer service experience of my life. Disgusting. #united</td>\n",
       "      <td>negative</td>\n",
       "      <td>positive</td>\n",
       "      <td>neutral</td>\n",
       "      <td>negative</td>\n",
       "      <td>negative</td>\n",
       "    </tr>\n",
       "    <tr>\n",
       "      <th>3</th>\n",
       "      <td>negative</td>\n",
       "      <td>@united 24 hrs since flight landed and ZERO info on my missing bag? rough ETA would be hugely helpful + restore some confidence</td>\n",
       "      <td>negative</td>\n",
       "      <td>negative</td>\n",
       "      <td>neutral</td>\n",
       "      <td>negative</td>\n",
       "      <td>negative</td>\n",
       "    </tr>\n",
       "    <tr>\n",
       "      <th>4</th>\n",
       "      <td>negative</td>\n",
       "      <td>@united big surprise #nogate waiting for our plane. Same fucken issues everything I fly you. #fail #worstairlineever</td>\n",
       "      <td>negative</td>\n",
       "      <td>negative</td>\n",
       "      <td>neutral</td>\n",
       "      <td>negative</td>\n",
       "      <td>negative</td>\n",
       "    </tr>\n",
       "    <tr>\n",
       "      <th>...</th>\n",
       "      <td>...</td>\n",
       "      <td>...</td>\n",
       "      <td>...</td>\n",
       "      <td>...</td>\n",
       "      <td>...</td>\n",
       "      <td>...</td>\n",
       "      <td>...</td>\n",
       "    </tr>\n",
       "    <tr>\n",
       "      <th>95</th>\n",
       "      <td>negative</td>\n",
       "      <td>@united You're trying to solve problem of your own making. Charging for checked luggage forces checking at gate. Brilliant.</td>\n",
       "      <td>negative</td>\n",
       "      <td>negative</td>\n",
       "      <td>neutral</td>\n",
       "      <td>positive</td>\n",
       "      <td>negative</td>\n",
       "    </tr>\n",
       "    <tr>\n",
       "      <th>96</th>\n",
       "      <td>negative</td>\n",
       "      <td>@united we've been waiting 45 min for a gate at SFO... Yet so many of them are free.  Your excellence in operational efficiency is showing</td>\n",
       "      <td>negative</td>\n",
       "      <td>negative</td>\n",
       "      <td>neutral</td>\n",
       "      <td>positive</td>\n",
       "      <td>negative</td>\n",
       "    </tr>\n",
       "    <tr>\n",
       "      <th>97</th>\n",
       "      <td>negative</td>\n",
       "      <td>@United \"delayed due to customer service\" Huh? http://t.co/XlTV5z6sT1</td>\n",
       "      <td>negative</td>\n",
       "      <td>neutral</td>\n",
       "      <td>neutral</td>\n",
       "      <td>negative</td>\n",
       "      <td>negative</td>\n",
       "    </tr>\n",
       "    <tr>\n",
       "      <th>98</th>\n",
       "      <td>negative</td>\n",
       "      <td>@united what about the poor customer service at checkin at Kansas KCI?!? That's it???</td>\n",
       "      <td>negative</td>\n",
       "      <td>negative</td>\n",
       "      <td>neutral</td>\n",
       "      <td>negative</td>\n",
       "      <td>negative</td>\n",
       "    </tr>\n",
       "    <tr>\n",
       "      <th>99</th>\n",
       "      <td>negative</td>\n",
       "      <td>@united except all of that delayed the flight anyway.</td>\n",
       "      <td>negative</td>\n",
       "      <td>negative</td>\n",
       "      <td>neutral</td>\n",
       "      <td>negative</td>\n",
       "      <td>negative</td>\n",
       "    </tr>\n",
       "  </tbody>\n",
       "</table>\n",
       "<p>100 rows × 7 columns</p>\n",
       "</div>"
      ],
      "text/plain": [
       "   sentiment  \\\n",
       "0   negative   \n",
       "1   negative   \n",
       "2   negative   \n",
       "3   negative   \n",
       "4   negative   \n",
       "..       ...   \n",
       "95  negative   \n",
       "96  negative   \n",
       "97  negative   \n",
       "98  negative   \n",
       "99  negative   \n",
       "\n",
       "                                                                                                                                          text  \\\n",
       "0                                                                  @united On top of that I paid for 1st class and my wife got stuck in coach.   \n",
       "1                   @united Ph the pat answers are BS. After I was denied boarding it sat at the gate until 9:05! Your employees totally suck.   \n",
       "2                @United Over the last week, United has provided me with the worst customer service experience of my life. Disgusting. #united   \n",
       "3              @united 24 hrs since flight landed and ZERO info on my missing bag? rough ETA would be hugely helpful + restore some confidence   \n",
       "4                         @united big surprise #nogate waiting for our plane. Same fucken issues everything I fly you. #fail #worstairlineever   \n",
       "..                                                                                                                                         ...   \n",
       "95                 @united You're trying to solve problem of your own making. Charging for checked luggage forces checking at gate. Brilliant.   \n",
       "96  @united we've been waiting 45 min for a gate at SFO... Yet so many of them are free.  Your excellence in operational efficiency is showing   \n",
       "97                                                                       @United \"delayed due to customer service\" Huh? http://t.co/XlTV5z6sT1   \n",
       "98                                                       @united what about the poor customer service at checkin at Kansas KCI?!? That's it???   \n",
       "99                                                                                       @united except all of that delayed the flight anyway.   \n",
       "\n",
       "        BERT   ELECTRA    Vader DistilBERT   RoBERTa  \n",
       "0   negative  negative  neutral   negative  negative  \n",
       "1   negative  negative  neutral   negative  negative  \n",
       "2   negative  positive  neutral   negative  negative  \n",
       "3   negative  negative  neutral   negative  negative  \n",
       "4   negative  negative  neutral   negative  negative  \n",
       "..       ...       ...      ...        ...       ...  \n",
       "95  negative  negative  neutral   positive  negative  \n",
       "96  negative  negative  neutral   positive  negative  \n",
       "97  negative   neutral  neutral   negative  negative  \n",
       "98  negative  negative  neutral   negative  negative  \n",
       "99  negative  negative  neutral   negative  negative  \n",
       "\n",
       "[100 rows x 7 columns]"
      ]
     },
     "execution_count": 81,
     "metadata": {},
     "output_type": "execute_result"
    }
   ],
   "source": [
    "metricset"
   ]
  },
  {
   "cell_type": "code",
   "execution_count": 82,
   "id": "c8d64418",
   "metadata": {
    "scrolled": true
   },
   "outputs": [
    {
     "data": {
      "image/png": "[encoded data removed]",
      "text/plain": [
       "<Figure size 1000x400 with 6 Axes>"
      ]
     },
     "metadata": {},
     "output_type": "display_data"
    }
   ],
   "source": [
    "import matplotlib.pylab as plt \n",
    "sns.set(rc={\"figure.figsize\":(10, 4)})\n",
    "f, (ax1, ax2,ax3,ax4,ax5,ax6) = plt.subplots(1, 6, sharey=True)\n",
    "# ax1.set_ylabel ('Support', fontsize = 10)\n",
    "ax2.set_ylabel ('Polarization %', fontsize = 10)\n",
    "subplot1 = sns.countplot(metricset.sentiment, label='Support',ax=ax1,order = metricset['sentiment'].value_counts().index)\n",
    "subplot2 = sns.countplot(metricset.Vader, label='Support',ax=ax2,order = metricset['sentiment'].value_counts().index)\n",
    "subplot3 = sns.countplot(metricset.BERT, label='Support',ax=ax3,order = metricset['sentiment'].value_counts().index)\n",
    "subplot4 = sns.countplot(metricset.DistilBERT, label='Support',ax=ax4,order = metricset['sentiment'].value_counts().index)\n",
    "subplot5 = sns.countplot(metricset.RoBERTa, label='Support',ax=ax5,order = metricset['sentiment'].value_counts().index)\n",
    "subplot6 = sns.countplot(metricset.ELECTRA, label='Support',ax=ax6,order = metricset['sentiment'].value_counts().index)\n",
    "subplot1.set_xticklabels(labels=[\"negative\", \"neutral\", \"positive\"],rotation=90)\n",
    "subplot2.set_xticklabels(labels=[\"negative\", \"neutral\", \"positive\"],rotation=90)\n",
    "subplot3.set_xticklabels(labels=[\"negative\", \"neutral\", \"positive\"],rotation=90)\n",
    "subplot4.set_xticklabels(labels=[\"negative\", \"neutral\", \"positive\"],rotation=90)\n",
    "subplot5.set_xticklabels(labels=[\"negative\", \"neutral\", \"positive\"],rotation=90)\n",
    "subplot6.set_xticklabels(labels=[\"negative\", \"neutral\", \"positive\"],rotation=90)\n",
    "ax2.set_ylabel ('', fontsize = 10)\n",
    "ax3.set_ylabel ('', fontsize = 10)\n",
    "ax4.set_ylabel ('', fontsize = 10)\n",
    "ax5.set_ylabel ('', fontsize = 10)\n",
    "ax6.set_ylabel ('', fontsize = 10)\n",
    "# ax4.set_ylabel ('Support', fontsize = 10)\n",
    "ax1.set_ylabel ('Polarization %', fontsize = 12)\n",
    "\n",
    "vals = ax1.get_yticks()\n",
    "# print(vals)\n",
    "# ax1.set_yticklabels(['{:,%}'.format(x/17) for x in vals])\n",
    "# ax1.yaxis.set_major_formatter(FuncFormatter(lambda y, _: '{:.0%}'.format(y))) \n",
    "plt.gca().set_yticklabels(['{:.0f}%'.format(100*x/vals[-2]) for x in plt.gca().get_yticks()]) \n",
    "plt.show()"
   ]
  },
  {
   "cell_type": "code",
   "execution_count": 83,
   "id": "4c4d3fc6",
   "metadata": {},
   "outputs": [],
   "source": [
    "Polarity_Tabulation = pd.DataFrame(\n",
    "    {'sentiment': [\"0.0\",\"0.0\",\"0.0\"],\n",
    "     'Vader': [\"0.0\",\"0.0\",\"0.0\"],\n",
    "     'BERT': [\"0.0\",\"0.0\",\"0.0\",],\n",
    "     'DistilBERT': [\"0.0\",\"0.0\",\"0.0\",],\n",
    "     'RoBERTa': [\"0.0\",\"0.0\",\"0.0\",],\n",
    "     'ELECTRA': [\"0.0\",\"0.0\",\"0.0\",]\n",
    "    },\n",
    "    index=['negative(%)', 'neutral(%)','positive(%)']\n",
    ")\n",
    "Polarity_Tabulation = Polarity_Tabulation.astype(np.float64)"
   ]
  },
  {
   "cell_type": "code",
   "execution_count": 84,
   "id": "bc1ff74b",
   "metadata": {},
   "outputs": [],
   "source": [
    "# metricset"
   ]
  },
  {
   "cell_type": "code",
   "execution_count": 85,
   "id": "966ea55f",
   "metadata": {},
   "outputs": [],
   "source": [
    "per_df = metricset\n",
    "percentage_table = per_df"
   ]
  },
  {
   "cell_type": "code",
   "execution_count": 86,
   "id": "d780000d",
   "metadata": {},
   "outputs": [],
   "source": [
    "Percentage_Tabulation = pd.DataFrame(\n",
    "    {'sentiment': [\"0.0\",\"0.0\",\"0.0\"],\n",
    "     'Vader': [\"0.0\",\"0.0\",\"0.0\"],\n",
    "     'BERT': [\"0.0\",\"0.0\",\"0.0\",],\n",
    "     'DistilBERT': [\"0.0\",\"0.0\",\"0.0\",],\n",
    "     'RoBERTa': [\"0.0\",\"0.0\",\"0.0\",],\n",
    "     'ELECTRA': [\"0.0\",\"0.0\",\"0.0\",]\n",
    "    },\n",
    "    index=['negative(%)', 'neutral(%)','positive(%)']\n",
    ")\n",
    "Percentage_Tabulation = Percentage_Tabulation.astype(np.float64)"
   ]
  },
  {
   "cell_type": "code",
   "execution_count": 87,
   "id": "8a9f9430",
   "metadata": {},
   "outputs": [
    {
     "data": {
      "text/html": [
       "<div>\n",
       "<style scoped>\n",
       "    .dataframe tbody tr th:only-of-type {\n",
       "        vertical-align: middle;\n",
       "    }\n",
       "\n",
       "    .dataframe tbody tr th {\n",
       "        vertical-align: top;\n",
       "    }\n",
       "\n",
       "    .dataframe thead th {\n",
       "        text-align: right;\n",
       "    }\n",
       "</style>\n",
       "<table border=\"1\" class=\"dataframe\">\n",
       "  <thead>\n",
       "    <tr style=\"text-align: right;\">\n",
       "      <th></th>\n",
       "      <th>sentiment</th>\n",
       "      <th>Vader</th>\n",
       "      <th>BERT</th>\n",
       "      <th>DistilBERT</th>\n",
       "      <th>RoBERTa</th>\n",
       "      <th>ELECTRA</th>\n",
       "    </tr>\n",
       "  </thead>\n",
       "  <tbody>\n",
       "    <tr>\n",
       "      <th>negative(%)</th>\n",
       "      <td>0.0</td>\n",
       "      <td>0.0</td>\n",
       "      <td>0.0</td>\n",
       "      <td>0.0</td>\n",
       "      <td>0.0</td>\n",
       "      <td>0.0</td>\n",
       "    </tr>\n",
       "    <tr>\n",
       "      <th>neutral(%)</th>\n",
       "      <td>0.0</td>\n",
       "      <td>0.0</td>\n",
       "      <td>0.0</td>\n",
       "      <td>0.0</td>\n",
       "      <td>0.0</td>\n",
       "      <td>0.0</td>\n",
       "    </tr>\n",
       "    <tr>\n",
       "      <th>positive(%)</th>\n",
       "      <td>0.0</td>\n",
       "      <td>0.0</td>\n",
       "      <td>0.0</td>\n",
       "      <td>0.0</td>\n",
       "      <td>0.0</td>\n",
       "      <td>0.0</td>\n",
       "    </tr>\n",
       "  </tbody>\n",
       "</table>\n",
       "</div>"
      ],
      "text/plain": [
       "             sentiment  Vader  BERT  DistilBERT  RoBERTa  ELECTRA\n",
       "negative(%)        0.0    0.0   0.0         0.0      0.0      0.0\n",
       "neutral(%)         0.0    0.0   0.0         0.0      0.0      0.0\n",
       "positive(%)        0.0    0.0   0.0         0.0      0.0      0.0"
      ]
     },
     "execution_count": 87,
     "metadata": {},
     "output_type": "execute_result"
    }
   ],
   "source": [
    "Percentage_Tabulation"
   ]
  },
  {
   "cell_type": "code",
   "execution_count": 88,
   "id": "2abca60c",
   "metadata": {},
   "outputs": [
    {
     "data": {
      "text/html": [
       "<div>\n",
       "<style scoped>\n",
       "    .dataframe tbody tr th:only-of-type {\n",
       "        vertical-align: middle;\n",
       "    }\n",
       "\n",
       "    .dataframe tbody tr th {\n",
       "        vertical-align: top;\n",
       "    }\n",
       "\n",
       "    .dataframe thead th {\n",
       "        text-align: right;\n",
       "    }\n",
       "</style>\n",
       "<table border=\"1\" class=\"dataframe\">\n",
       "  <thead>\n",
       "    <tr style=\"text-align: right;\">\n",
       "      <th></th>\n",
       "      <th>sentiment</th>\n",
       "      <th>text</th>\n",
       "      <th>BERT</th>\n",
       "      <th>ELECTRA</th>\n",
       "      <th>Vader</th>\n",
       "      <th>DistilBERT</th>\n",
       "      <th>RoBERTa</th>\n",
       "    </tr>\n",
       "  </thead>\n",
       "  <tbody>\n",
       "    <tr>\n",
       "      <th>0</th>\n",
       "      <td>negative</td>\n",
       "      <td>@united On top of that I paid for 1st class and my wife got stuck in coach.</td>\n",
       "      <td>negative</td>\n",
       "      <td>negative</td>\n",
       "      <td>neutral</td>\n",
       "      <td>negative</td>\n",
       "      <td>negative</td>\n",
       "    </tr>\n",
       "    <tr>\n",
       "      <th>1</th>\n",
       "      <td>negative</td>\n",
       "      <td>@united Ph the pat answers are BS. After I was denied boarding it sat at the gate until 9:05! Your employees totally suck.</td>\n",
       "      <td>negative</td>\n",
       "      <td>negative</td>\n",
       "      <td>neutral</td>\n",
       "      <td>negative</td>\n",
       "      <td>negative</td>\n",
       "    </tr>\n",
       "    <tr>\n",
       "      <th>2</th>\n",
       "      <td>negative</td>\n",
       "      <td>@United Over the last week, United has provided me with the worst customer service experience of my life. Disgusting. #united</td>\n",
       "      <td>negative</td>\n",
       "      <td>positive</td>\n",
       "      <td>neutral</td>\n",
       "      <td>negative</td>\n",
       "      <td>negative</td>\n",
       "    </tr>\n",
       "    <tr>\n",
       "      <th>3</th>\n",
       "      <td>negative</td>\n",
       "      <td>@united 24 hrs since flight landed and ZERO info on my missing bag? rough ETA would be hugely helpful + restore some confidence</td>\n",
       "      <td>negative</td>\n",
       "      <td>negative</td>\n",
       "      <td>neutral</td>\n",
       "      <td>negative</td>\n",
       "      <td>negative</td>\n",
       "    </tr>\n",
       "    <tr>\n",
       "      <th>4</th>\n",
       "      <td>negative</td>\n",
       "      <td>@united big surprise #nogate waiting for our plane. Same fucken issues everything I fly you. #fail #worstairlineever</td>\n",
       "      <td>negative</td>\n",
       "      <td>negative</td>\n",
       "      <td>neutral</td>\n",
       "      <td>negative</td>\n",
       "      <td>negative</td>\n",
       "    </tr>\n",
       "    <tr>\n",
       "      <th>...</th>\n",
       "      <td>...</td>\n",
       "      <td>...</td>\n",
       "      <td>...</td>\n",
       "      <td>...</td>\n",
       "      <td>...</td>\n",
       "      <td>...</td>\n",
       "      <td>...</td>\n",
       "    </tr>\n",
       "    <tr>\n",
       "      <th>95</th>\n",
       "      <td>negative</td>\n",
       "      <td>@united You're trying to solve problem of your own making. Charging for checked luggage forces checking at gate. Brilliant.</td>\n",
       "      <td>negative</td>\n",
       "      <td>negative</td>\n",
       "      <td>neutral</td>\n",
       "      <td>positive</td>\n",
       "      <td>negative</td>\n",
       "    </tr>\n",
       "    <tr>\n",
       "      <th>96</th>\n",
       "      <td>negative</td>\n",
       "      <td>@united we've been waiting 45 min for a gate at SFO... Yet so many of them are free.  Your excellence in operational efficiency is showing</td>\n",
       "      <td>negative</td>\n",
       "      <td>negative</td>\n",
       "      <td>neutral</td>\n",
       "      <td>positive</td>\n",
       "      <td>negative</td>\n",
       "    </tr>\n",
       "    <tr>\n",
       "      <th>97</th>\n",
       "      <td>negative</td>\n",
       "      <td>@United \"delayed due to customer service\" Huh? http://t.co/XlTV5z6sT1</td>\n",
       "      <td>negative</td>\n",
       "      <td>neutral</td>\n",
       "      <td>neutral</td>\n",
       "      <td>negative</td>\n",
       "      <td>negative</td>\n",
       "    </tr>\n",
       "    <tr>\n",
       "      <th>98</th>\n",
       "      <td>negative</td>\n",
       "      <td>@united what about the poor customer service at checkin at Kansas KCI?!? That's it???</td>\n",
       "      <td>negative</td>\n",
       "      <td>negative</td>\n",
       "      <td>neutral</td>\n",
       "      <td>negative</td>\n",
       "      <td>negative</td>\n",
       "    </tr>\n",
       "    <tr>\n",
       "      <th>99</th>\n",
       "      <td>negative</td>\n",
       "      <td>@united except all of that delayed the flight anyway.</td>\n",
       "      <td>negative</td>\n",
       "      <td>negative</td>\n",
       "      <td>neutral</td>\n",
       "      <td>negative</td>\n",
       "      <td>negative</td>\n",
       "    </tr>\n",
       "  </tbody>\n",
       "</table>\n",
       "<p>100 rows × 7 columns</p>\n",
       "</div>"
      ],
      "text/plain": [
       "   sentiment  \\\n",
       "0   negative   \n",
       "1   negative   \n",
       "2   negative   \n",
       "3   negative   \n",
       "4   negative   \n",
       "..       ...   \n",
       "95  negative   \n",
       "96  negative   \n",
       "97  negative   \n",
       "98  negative   \n",
       "99  negative   \n",
       "\n",
       "                                                                                                                                          text  \\\n",
       "0                                                                  @united On top of that I paid for 1st class and my wife got stuck in coach.   \n",
       "1                   @united Ph the pat answers are BS. After I was denied boarding it sat at the gate until 9:05! Your employees totally suck.   \n",
       "2                @United Over the last week, United has provided me with the worst customer service experience of my life. Disgusting. #united   \n",
       "3              @united 24 hrs since flight landed and ZERO info on my missing bag? rough ETA would be hugely helpful + restore some confidence   \n",
       "4                         @united big surprise #nogate waiting for our plane. Same fucken issues everything I fly you. #fail #worstairlineever   \n",
       "..                                                                                                                                         ...   \n",
       "95                 @united You're trying to solve problem of your own making. Charging for checked luggage forces checking at gate. Brilliant.   \n",
       "96  @united we've been waiting 45 min for a gate at SFO... Yet so many of them are free.  Your excellence in operational efficiency is showing   \n",
       "97                                                                       @United \"delayed due to customer service\" Huh? http://t.co/XlTV5z6sT1   \n",
       "98                                                       @united what about the poor customer service at checkin at Kansas KCI?!? That's it???   \n",
       "99                                                                                       @united except all of that delayed the flight anyway.   \n",
       "\n",
       "        BERT   ELECTRA    Vader DistilBERT   RoBERTa  \n",
       "0   negative  negative  neutral   negative  negative  \n",
       "1   negative  negative  neutral   negative  negative  \n",
       "2   negative  positive  neutral   negative  negative  \n",
       "3   negative  negative  neutral   negative  negative  \n",
       "4   negative  negative  neutral   negative  negative  \n",
       "..       ...       ...      ...        ...       ...  \n",
       "95  negative  negative  neutral   positive  negative  \n",
       "96  negative  negative  neutral   positive  negative  \n",
       "97  negative   neutral  neutral   negative  negative  \n",
       "98  negative  negative  neutral   negative  negative  \n",
       "99  negative  negative  neutral   negative  negative  \n",
       "\n",
       "[100 rows x 7 columns]"
      ]
     },
     "execution_count": 88,
     "metadata": {},
     "output_type": "execute_result"
    }
   ],
   "source": [
    "per_df"
   ]
  },
  {
   "cell_type": "code",
   "execution_count": 89,
   "id": "6b7e22f6",
   "metadata": {},
   "outputs": [],
   "source": [
    "# # label = \"DistilBERT\"\n",
    "label = \"sentiment\""
   ]
  },
  {
   "cell_type": "code",
   "execution_count": 90,
   "id": "c3e2b087",
   "metadata": {},
   "outputs": [],
   "source": [
    "# percentage_table = metricset[label].value_counts()/metricset[label].count()"
   ]
  },
  {
   "cell_type": "code",
   "execution_count": 91,
   "id": "8e088e09",
   "metadata": {},
   "outputs": [],
   "source": [
    "percentage_table = per_df[label].value_counts()/metricset[label].count()"
   ]
  },
  {
   "cell_type": "code",
   "execution_count": 92,
   "id": "548c7795",
   "metadata": {},
   "outputs": [
    {
     "data": {
      "text/plain": [
       "negative    0.82\n",
       "positive    0.10\n",
       "neutral     0.08\n",
       "Name: sentiment, dtype: float64"
      ]
     },
     "execution_count": 92,
     "metadata": {},
     "output_type": "execute_result"
    }
   ],
   "source": [
    "percentage_table"
   ]
  },
  {
   "cell_type": "code",
   "execution_count": 93,
   "id": "34b0c00f",
   "metadata": {},
   "outputs": [],
   "source": [
    "# sentiment= sentiment+\"(%)\""
   ]
  },
  {
   "cell_type": "code",
   "execution_count": 94,
   "id": "7bdfd886",
   "metadata": {},
   "outputs": [],
   "source": [
    "def func_tabulate(per_df, label, sentiment):\n",
    "    try :\n",
    "        sentiment_tag = sentiment+\"(%)\"\n",
    "        percentage_table = per_df[label].value_counts()/metricset[label].count()\n",
    "        Percentage_Tabulation[label].loc[sentiment_tag] = round(percentage_table.loc[sentiment],2)*100\n",
    "    except Exception:\n",
    "        pass\n",
    "    return "
   ]
  },
  {
   "cell_type": "code",
   "execution_count": 95,
   "id": "9ac8697d",
   "metadata": {},
   "outputs": [
    {
     "data": {
      "text/plain": [
       "82.0"
      ]
     },
     "execution_count": 95,
     "metadata": {},
     "output_type": "execute_result"
    }
   ],
   "source": [
    "round(percentage_table.loc[\"negative\"],2)*100"
   ]
  },
  {
   "cell_type": "code",
   "execution_count": 96,
   "id": "2553f76c",
   "metadata": {},
   "outputs": [],
   "source": [
    "func_tabulate(percentage_table, label=\"sentiment\", sentiment=\"negative\")\n",
    "func_tabulate(percentage_table, label=\"sentiment\", sentiment=\"neutral\")\n",
    "func_tabulate(percentage_table, label=\"sentiment\", sentiment=\"positive\")\n",
    "func_tabulate(percentage_table, label=\"Vader\", sentiment=\"negative\")\n",
    "func_tabulate(percentage_table, label=\"Vader\", sentiment=\"neutral\")\n",
    "func_tabulate(percentage_table, label=\"Vader\", sentiment=\"positive\")\n",
    "func_tabulate(percentage_table, label=\"BERT\", sentiment=\"negative\")\n",
    "func_tabulate(percentage_table, label=\"BERT\", sentiment=\"neutral\")\n",
    "func_tabulate(percentage_table, label=\"BERT\", sentiment=\"positive\")\n",
    "func_tabulate(percentage_table, label=\"DistilBERT\", sentiment=\"negative\")\n",
    "func_tabulate(percentage_table, label=\"DistilBERT\", sentiment=\"neutral\")\n",
    "func_tabulate(percentage_table, label=\"DistilBERT\", sentiment=\"positive\")\n",
    "func_tabulate(percentage_table, label=\"RoBERTa\", sentiment=\"negative\")\n",
    "func_tabulate(percentage_table, label=\"RoBERTa\", sentiment=\"neutral\")\n",
    "func_tabulate(percentage_table, label=\"RoBERTa\", sentiment=\"positive\")\n",
    "func_tabulate(percentage_table, label=\"ELECTRA\", sentiment=\"negative\")\n",
    "func_tabulate(percentage_table, label=\"ELECTRA\", sentiment=\"neutral\")\n",
    "func_tabulate(percentage_table, label=\"ELECTRA\", sentiment=\"positive\")"
   ]
  },
  {
   "cell_type": "code",
   "execution_count": 97,
   "id": "5ef64c71",
   "metadata": {},
   "outputs": [
    {
     "data": {
      "text/html": [
       "<div>\n",
       "<style scoped>\n",
       "    .dataframe tbody tr th:only-of-type {\n",
       "        vertical-align: middle;\n",
       "    }\n",
       "\n",
       "    .dataframe tbody tr th {\n",
       "        vertical-align: top;\n",
       "    }\n",
       "\n",
       "    .dataframe thead th {\n",
       "        text-align: right;\n",
       "    }\n",
       "</style>\n",
       "<table border=\"1\" class=\"dataframe\">\n",
       "  <thead>\n",
       "    <tr style=\"text-align: right;\">\n",
       "      <th></th>\n",
       "      <th>sentiment</th>\n",
       "      <th>Vader</th>\n",
       "      <th>BERT</th>\n",
       "      <th>DistilBERT</th>\n",
       "      <th>RoBERTa</th>\n",
       "      <th>ELECTRA</th>\n",
       "    </tr>\n",
       "  </thead>\n",
       "  <tbody>\n",
       "    <tr>\n",
       "      <th>negative(%)</th>\n",
       "      <td>0.0</td>\n",
       "      <td>0.0</td>\n",
       "      <td>0.0</td>\n",
       "      <td>0.0</td>\n",
       "      <td>0.0</td>\n",
       "      <td>0.0</td>\n",
       "    </tr>\n",
       "    <tr>\n",
       "      <th>neutral(%)</th>\n",
       "      <td>0.0</td>\n",
       "      <td>0.0</td>\n",
       "      <td>0.0</td>\n",
       "      <td>0.0</td>\n",
       "      <td>0.0</td>\n",
       "      <td>0.0</td>\n",
       "    </tr>\n",
       "    <tr>\n",
       "      <th>positive(%)</th>\n",
       "      <td>0.0</td>\n",
       "      <td>0.0</td>\n",
       "      <td>0.0</td>\n",
       "      <td>0.0</td>\n",
       "      <td>0.0</td>\n",
       "      <td>0.0</td>\n",
       "    </tr>\n",
       "  </tbody>\n",
       "</table>\n",
       "</div>"
      ],
      "text/plain": [
       "             sentiment  Vader  BERT  DistilBERT  RoBERTa  ELECTRA\n",
       "negative(%)        0.0    0.0   0.0         0.0      0.0      0.0\n",
       "neutral(%)         0.0    0.0   0.0         0.0      0.0      0.0\n",
       "positive(%)        0.0    0.0   0.0         0.0      0.0      0.0"
      ]
     },
     "execution_count": 97,
     "metadata": {},
     "output_type": "execute_result"
    }
   ],
   "source": [
    "Percentage_Tabulation"
   ]
  },
  {
   "cell_type": "code",
   "execution_count": 98,
   "id": "2863daff",
   "metadata": {},
   "outputs": [],
   "source": [
    "# try :\n",
    "#     Percentage_Tabulation[label].loc['neutral(%)'] = round(percentage_table.loc['neutral'],2)*100\n",
    "# except Exception:\n",
    "#     pass"
   ]
  },
  {
   "cell_type": "code",
   "execution_count": 99,
   "id": "ac8ffd4d",
   "metadata": {},
   "outputs": [],
   "source": [
    "# try :\n",
    "#     Percentage_Tabulation[label].loc['positive(%)'] = round(percentage_table.loc['positive'],2)*100\n",
    "# except Exception:\n",
    "#     pass"
   ]
  },
  {
   "cell_type": "code",
   "execution_count": 100,
   "id": "6b083007",
   "metadata": {},
   "outputs": [
    {
     "data": {
      "text/plain": [
       "negative    0.82\n",
       "positive    0.10\n",
       "neutral     0.08\n",
       "Name: sentiment, dtype: float64"
      ]
     },
     "execution_count": 100,
     "metadata": {},
     "output_type": "execute_result"
    }
   ],
   "source": [
    "percentage_table"
   ]
  },
  {
   "cell_type": "code",
   "execution_count": 101,
   "id": "effd389b",
   "metadata": {},
   "outputs": [
    {
     "data": {
      "text/plain": [
       "negative    0.41\n",
       "positive    0.05\n",
       "neutral     0.04\n",
       "Name: sentiment, dtype: float64"
      ]
     },
     "execution_count": 101,
     "metadata": {},
     "output_type": "execute_result"
    }
   ],
   "source": [
    "percentage_table/2"
   ]
  },
  {
   "cell_type": "code",
   "execution_count": 102,
   "id": "b027b1b3",
   "metadata": {},
   "outputs": [],
   "source": [
    "# round(percentage_table[label],2)"
   ]
  },
  {
   "cell_type": "code",
   "execution_count": 103,
   "id": "55e9b149",
   "metadata": {},
   "outputs": [],
   "source": [
    "# percentage_table[label] = round(percentage_table[label],2)\n",
    "# percentage_table[label]"
   ]
  },
  {
   "cell_type": "code",
   "execution_count": 104,
   "id": "7d6c7ff7",
   "metadata": {},
   "outputs": [],
   "source": [
    "percentage_table['negative']=0.0\n",
    "percentage_table['neutral']=0.0\n",
    "percentage_table['positive']=0.0"
   ]
  },
  {
   "cell_type": "code",
   "execution_count": 105,
   "id": "1a6acf8e",
   "metadata": {},
   "outputs": [
    {
     "data": {
      "text/plain": [
       "negative    0.82\n",
       "positive    0.10\n",
       "neutral     0.08\n",
       "Name: sentiment, dtype: float64"
      ]
     },
     "execution_count": 105,
     "metadata": {},
     "output_type": "execute_result"
    }
   ],
   "source": [
    "per_df[label].value_counts()/metricset[label].count()"
   ]
  },
  {
   "cell_type": "code",
   "execution_count": 106,
   "id": "338bcb45",
   "metadata": {},
   "outputs": [],
   "source": [
    "def percentage_df(df,label):\n",
    "#     print(per_df)\n",
    "#     print(label)\n",
    "    per_table = pd.DataFrame()\n",
    "#     per_table['negative']=0\n",
    "#     per_table['neutral']=0\n",
    "#     per_table['positive']=0\n",
    "    try:\n",
    "        if label in df.columns:\n",
    "#             print(label)\n",
    "            per_table = df[label].value_counts()/metricset[label].count()\n",
    "            per_table[label] = round(per_table,2)*100\n",
    "#             temp =  per_table[label]\n",
    "            if \"neutral\" not in per_table.index:\n",
    "#                 print(\"neutral does not exist\")\n",
    "                per_table[label]['neutral']=0\n",
    "#                 print (per_table)\n",
    "            elif \"positive\" not in per_table.index:\n",
    "#                 print(\"positive does not exist\")\n",
    "                per_table[label]['positive']=0\n",
    "            elif \"negative\" not in per_table.index:\n",
    "#                 print(\"negative does not exist\")\n",
    "                per_table[label]['negative']=0\n",
    "            else:\n",
    "                pass\n",
    "            \n",
    "#             print(per_table)\n",
    "        else:\n",
    "            pass\n",
    "        \n",
    "#         print(per_table[label])\n",
    "        return per_table[label]  \n",
    "    except Exception:     \n",
    "        pass   "
   ]
  },
  {
   "cell_type": "code",
   "execution_count": 107,
   "id": "8a5cc75b",
   "metadata": {},
   "outputs": [
    {
     "data": {
      "text/plain": [
       "negative    80.0\n",
       "positive    20.0\n",
       "neutral      0.0\n",
       "Name: DistilBERT, dtype: float64"
      ]
     },
     "execution_count": 107,
     "metadata": {},
     "output_type": "execute_result"
    }
   ],
   "source": [
    "percentage_df(per_df,\"DistilBERT\")"
   ]
  },
  {
   "cell_type": "code",
   "execution_count": 108,
   "id": "d473dcb8",
   "metadata": {},
   "outputs": [],
   "source": [
    "a1 = per_df['DistilBERT'].value_counts()"
   ]
  },
  {
   "cell_type": "code",
   "execution_count": 109,
   "id": "ef5a8b72",
   "metadata": {},
   "outputs": [
    {
     "name": "stdout",
     "output_type": "stream",
     "text": [
      "neutral1 does not exist\n"
     ]
    }
   ],
   "source": [
    "if \"neutral1\" not in a1.index:\n",
    "    print(\"neutral1 does not exist\")"
   ]
  },
  {
   "cell_type": "code",
   "execution_count": 110,
   "id": "80e11fc5",
   "metadata": {},
   "outputs": [],
   "source": [
    "a1['neutral']=0"
   ]
  },
  {
   "cell_type": "code",
   "execution_count": 111,
   "id": "c0e76199",
   "metadata": {},
   "outputs": [
    {
     "data": {
      "text/plain": [
       "negative    80\n",
       "positive    20\n",
       "neutral      0\n",
       "Name: DistilBERT, dtype: int64"
      ]
     },
     "execution_count": 111,
     "metadata": {},
     "output_type": "execute_result"
    }
   ],
   "source": [
    "a1"
   ]
  },
  {
   "cell_type": "code",
   "execution_count": 112,
   "id": "7e502370",
   "metadata": {},
   "outputs": [],
   "source": [
    "ddf= percentage_df(per_df,\"sentiment\")"
   ]
  },
  {
   "cell_type": "code",
   "execution_count": 113,
   "id": "6af9ee43",
   "metadata": {},
   "outputs": [
    {
     "data": {
      "text/plain": [
       "negative    82.0\n",
       "positive    10.0\n",
       "neutral      8.0\n",
       "Name: sentiment, dtype: float64"
      ]
     },
     "execution_count": 113,
     "metadata": {},
     "output_type": "execute_result"
    }
   ],
   "source": [
    "ddf"
   ]
  },
  {
   "cell_type": "code",
   "execution_count": 114,
   "id": "080a0b05",
   "metadata": {
    "scrolled": true
   },
   "outputs": [],
   "source": [
    "try:\n",
    "    Polarity_Tabulation['sentiment'].loc['negative(%)'] = percentage_df(per_df,\"sentiment\").loc['negative']\n",
    "    Polarity_Tabulation['sentiment'].loc['neutral(%)'] = percentage_df(per_df,\"sentiment\").loc['neutral']\n",
    "    Polarity_Tabulation['sentiment'].loc['positive(%)'] = percentage_df(per_df,\"sentiment\").loc['positive']\n",
    "except Exception:\n",
    "    pass"
   ]
  },
  {
   "cell_type": "code",
   "execution_count": 115,
   "id": "9df4d91d",
   "metadata": {},
   "outputs": [
    {
     "data": {
      "text/html": [
       "<div>\n",
       "<style scoped>\n",
       "    .dataframe tbody tr th:only-of-type {\n",
       "        vertical-align: middle;\n",
       "    }\n",
       "\n",
       "    .dataframe tbody tr th {\n",
       "        vertical-align: top;\n",
       "    }\n",
       "\n",
       "    .dataframe thead th {\n",
       "        text-align: right;\n",
       "    }\n",
       "</style>\n",
       "<table border=\"1\" class=\"dataframe\">\n",
       "  <thead>\n",
       "    <tr style=\"text-align: right;\">\n",
       "      <th></th>\n",
       "      <th>sentiment</th>\n",
       "      <th>Vader</th>\n",
       "      <th>BERT</th>\n",
       "      <th>DistilBERT</th>\n",
       "      <th>RoBERTa</th>\n",
       "      <th>ELECTRA</th>\n",
       "    </tr>\n",
       "  </thead>\n",
       "  <tbody>\n",
       "    <tr>\n",
       "      <th>negative(%)</th>\n",
       "      <td>82.0</td>\n",
       "      <td>0.0</td>\n",
       "      <td>0.0</td>\n",
       "      <td>0.0</td>\n",
       "      <td>0.0</td>\n",
       "      <td>0.0</td>\n",
       "    </tr>\n",
       "    <tr>\n",
       "      <th>neutral(%)</th>\n",
       "      <td>8.0</td>\n",
       "      <td>0.0</td>\n",
       "      <td>0.0</td>\n",
       "      <td>0.0</td>\n",
       "      <td>0.0</td>\n",
       "      <td>0.0</td>\n",
       "    </tr>\n",
       "    <tr>\n",
       "      <th>positive(%)</th>\n",
       "      <td>10.0</td>\n",
       "      <td>0.0</td>\n",
       "      <td>0.0</td>\n",
       "      <td>0.0</td>\n",
       "      <td>0.0</td>\n",
       "      <td>0.0</td>\n",
       "    </tr>\n",
       "  </tbody>\n",
       "</table>\n",
       "</div>"
      ],
      "text/plain": [
       "             sentiment  Vader  BERT  DistilBERT  RoBERTa  ELECTRA\n",
       "negative(%)       82.0    0.0   0.0         0.0      0.0      0.0\n",
       "neutral(%)         8.0    0.0   0.0         0.0      0.0      0.0\n",
       "positive(%)       10.0    0.0   0.0         0.0      0.0      0.0"
      ]
     },
     "execution_count": 115,
     "metadata": {},
     "output_type": "execute_result"
    }
   ],
   "source": [
    "Polarity_Tabulation"
   ]
  },
  {
   "cell_type": "code",
   "execution_count": 116,
   "id": "37448fae",
   "metadata": {},
   "outputs": [],
   "source": [
    "try:\n",
    "    Polarity_Tabulation['Vader'].loc['negative(%)'] = percentage_df(per_df,\"Vader\").loc['negative']\n",
    "    Polarity_Tabulation['Vader'].loc['neutral(%)'] = percentage_df(per_df,\"Vader\").loc['neutral']\n",
    "    Polarity_Tabulation['Vader'].loc['positive(%)'] = percentage_df(per_df,\"Vader\").loc['positive']\n",
    "except Exception:\n",
    "    pass"
   ]
  },
  {
   "cell_type": "code",
   "execution_count": 117,
   "id": "68c965fd",
   "metadata": {},
   "outputs": [
    {
     "data": {
      "text/html": [
       "<div>\n",
       "<style scoped>\n",
       "    .dataframe tbody tr th:only-of-type {\n",
       "        vertical-align: middle;\n",
       "    }\n",
       "\n",
       "    .dataframe tbody tr th {\n",
       "        vertical-align: top;\n",
       "    }\n",
       "\n",
       "    .dataframe thead th {\n",
       "        text-align: right;\n",
       "    }\n",
       "</style>\n",
       "<table border=\"1\" class=\"dataframe\">\n",
       "  <thead>\n",
       "    <tr style=\"text-align: right;\">\n",
       "      <th></th>\n",
       "      <th>sentiment</th>\n",
       "      <th>Vader</th>\n",
       "      <th>BERT</th>\n",
       "      <th>DistilBERT</th>\n",
       "      <th>RoBERTa</th>\n",
       "      <th>ELECTRA</th>\n",
       "    </tr>\n",
       "  </thead>\n",
       "  <tbody>\n",
       "    <tr>\n",
       "      <th>negative(%)</th>\n",
       "      <td>82.0</td>\n",
       "      <td>1.0</td>\n",
       "      <td>0.0</td>\n",
       "      <td>0.0</td>\n",
       "      <td>0.0</td>\n",
       "      <td>0.0</td>\n",
       "    </tr>\n",
       "    <tr>\n",
       "      <th>neutral(%)</th>\n",
       "      <td>8.0</td>\n",
       "      <td>91.0</td>\n",
       "      <td>0.0</td>\n",
       "      <td>0.0</td>\n",
       "      <td>0.0</td>\n",
       "      <td>0.0</td>\n",
       "    </tr>\n",
       "    <tr>\n",
       "      <th>positive(%)</th>\n",
       "      <td>10.0</td>\n",
       "      <td>8.0</td>\n",
       "      <td>0.0</td>\n",
       "      <td>0.0</td>\n",
       "      <td>0.0</td>\n",
       "      <td>0.0</td>\n",
       "    </tr>\n",
       "  </tbody>\n",
       "</table>\n",
       "</div>"
      ],
      "text/plain": [
       "             sentiment  Vader  BERT  DistilBERT  RoBERTa  ELECTRA\n",
       "negative(%)       82.0    1.0   0.0         0.0      0.0      0.0\n",
       "neutral(%)         8.0   91.0   0.0         0.0      0.0      0.0\n",
       "positive(%)       10.0    8.0   0.0         0.0      0.0      0.0"
      ]
     },
     "execution_count": 117,
     "metadata": {},
     "output_type": "execute_result"
    }
   ],
   "source": [
    "Polarity_Tabulation"
   ]
  },
  {
   "cell_type": "code",
   "execution_count": 118,
   "id": "a1e44493",
   "metadata": {},
   "outputs": [],
   "source": [
    "try:\n",
    "    Polarity_Tabulation['BERT'].loc['negative(%)'] = percentage_df(per_df,\"BERT\").loc['negative']\n",
    "    Polarity_Tabulation['BERT'].loc['neutral(%)'] = percentage_df(per_df,\"BERT\").loc['neutral']\n",
    "    Polarity_Tabulation['BERT'].loc['positive(%)'] = percentage_df(per_df,\"BERT\").loc['positive']\n",
    "\n",
    "except Exception:\n",
    "    pass"
   ]
  },
  {
   "cell_type": "code",
   "execution_count": 119,
   "id": "9d8bf5a7",
   "metadata": {},
   "outputs": [
    {
     "data": {
      "text/plain": [
       "85.0"
      ]
     },
     "execution_count": 119,
     "metadata": {},
     "output_type": "execute_result"
    }
   ],
   "source": [
    "percentage_df(per_df,\"BERT\").loc['negative']"
   ]
  },
  {
   "cell_type": "code",
   "execution_count": 120,
   "id": "9bd22691",
   "metadata": {},
   "outputs": [
    {
     "data": {
      "text/html": [
       "<div>\n",
       "<style scoped>\n",
       "    .dataframe tbody tr th:only-of-type {\n",
       "        vertical-align: middle;\n",
       "    }\n",
       "\n",
       "    .dataframe tbody tr th {\n",
       "        vertical-align: top;\n",
       "    }\n",
       "\n",
       "    .dataframe thead th {\n",
       "        text-align: right;\n",
       "    }\n",
       "</style>\n",
       "<table border=\"1\" class=\"dataframe\">\n",
       "  <thead>\n",
       "    <tr style=\"text-align: right;\">\n",
       "      <th></th>\n",
       "      <th>sentiment</th>\n",
       "      <th>Vader</th>\n",
       "      <th>BERT</th>\n",
       "      <th>DistilBERT</th>\n",
       "      <th>RoBERTa</th>\n",
       "      <th>ELECTRA</th>\n",
       "    </tr>\n",
       "  </thead>\n",
       "  <tbody>\n",
       "    <tr>\n",
       "      <th>negative(%)</th>\n",
       "      <td>82.0</td>\n",
       "      <td>1.0</td>\n",
       "      <td>85.0</td>\n",
       "      <td>0.0</td>\n",
       "      <td>0.0</td>\n",
       "      <td>0.0</td>\n",
       "    </tr>\n",
       "    <tr>\n",
       "      <th>neutral(%)</th>\n",
       "      <td>8.0</td>\n",
       "      <td>91.0</td>\n",
       "      <td>6.0</td>\n",
       "      <td>0.0</td>\n",
       "      <td>0.0</td>\n",
       "      <td>0.0</td>\n",
       "    </tr>\n",
       "    <tr>\n",
       "      <th>positive(%)</th>\n",
       "      <td>10.0</td>\n",
       "      <td>8.0</td>\n",
       "      <td>9.0</td>\n",
       "      <td>0.0</td>\n",
       "      <td>0.0</td>\n",
       "      <td>0.0</td>\n",
       "    </tr>\n",
       "  </tbody>\n",
       "</table>\n",
       "</div>"
      ],
      "text/plain": [
       "             sentiment  Vader  BERT  DistilBERT  RoBERTa  ELECTRA\n",
       "negative(%)       82.0    1.0  85.0         0.0      0.0      0.0\n",
       "neutral(%)         8.0   91.0   6.0         0.0      0.0      0.0\n",
       "positive(%)       10.0    8.0   9.0         0.0      0.0      0.0"
      ]
     },
     "execution_count": 120,
     "metadata": {},
     "output_type": "execute_result"
    }
   ],
   "source": [
    "Polarity_Tabulation"
   ]
  },
  {
   "cell_type": "code",
   "execution_count": 121,
   "id": "665a95d4",
   "metadata": {},
   "outputs": [],
   "source": [
    "try:\n",
    "    Polarity_Tabulation['DistilBERT'].loc['negative(%)'] = percentage_df(per_df,\"DistilBERT\").loc['negative']\n",
    "    Polarity_Tabulation['DistilBERT'].loc['neutral(%)'] = percentage_df(per_df,\"DistilBERT\").loc['neutral']\n",
    "    Polarity_Tabulation['DistilBERT'].loc['positive(%)'] = percentage_df(per_df,\"DistilBERT\").loc['positive']\n",
    "except Exception:\n",
    "    pass"
   ]
  },
  {
   "cell_type": "code",
   "execution_count": 122,
   "id": "f17212fd",
   "metadata": {},
   "outputs": [],
   "source": [
    "Polarity_Tabulation['DistilBERT'].loc['neutral(%)'] = percentage_df(per_df,\"DistilBERT\").loc['neutral']"
   ]
  },
  {
   "cell_type": "code",
   "execution_count": 123,
   "id": "3fd8e651",
   "metadata": {
    "scrolled": false
   },
   "outputs": [
    {
     "data": {
      "text/html": [
       "<div>\n",
       "<style scoped>\n",
       "    .dataframe tbody tr th:only-of-type {\n",
       "        vertical-align: middle;\n",
       "    }\n",
       "\n",
       "    .dataframe tbody tr th {\n",
       "        vertical-align: top;\n",
       "    }\n",
       "\n",
       "    .dataframe thead th {\n",
       "        text-align: right;\n",
       "    }\n",
       "</style>\n",
       "<table border=\"1\" class=\"dataframe\">\n",
       "  <thead>\n",
       "    <tr style=\"text-align: right;\">\n",
       "      <th></th>\n",
       "      <th>Grounding</th>\n",
       "      <th>Vader</th>\n",
       "      <th>BERT</th>\n",
       "      <th>DistilBERT</th>\n",
       "      <th>RoBERTa</th>\n",
       "      <th>ELECTRA</th>\n",
       "    </tr>\n",
       "  </thead>\n",
       "  <tbody>\n",
       "    <tr>\n",
       "      <th>negative(%)</th>\n",
       "      <td>82.0</td>\n",
       "      <td>1.0</td>\n",
       "      <td>85.0</td>\n",
       "      <td>80.0</td>\n",
       "      <td>0.0</td>\n",
       "      <td>0.0</td>\n",
       "    </tr>\n",
       "    <tr>\n",
       "      <th>neutral(%)</th>\n",
       "      <td>8.0</td>\n",
       "      <td>91.0</td>\n",
       "      <td>6.0</td>\n",
       "      <td>0.0</td>\n",
       "      <td>0.0</td>\n",
       "      <td>0.0</td>\n",
       "    </tr>\n",
       "    <tr>\n",
       "      <th>positive(%)</th>\n",
       "      <td>10.0</td>\n",
       "      <td>8.0</td>\n",
       "      <td>9.0</td>\n",
       "      <td>20.0</td>\n",
       "      <td>0.0</td>\n",
       "      <td>0.0</td>\n",
       "    </tr>\n",
       "  </tbody>\n",
       "</table>\n",
       "</div>"
      ],
      "text/plain": [
       "             Grounding  Vader  BERT  DistilBERT  RoBERTa  ELECTRA\n",
       "negative(%)       82.0    1.0  85.0        80.0      0.0      0.0\n",
       "neutral(%)         8.0   91.0   6.0         0.0      0.0      0.0\n",
       "positive(%)       10.0    8.0   9.0        20.0      0.0      0.0"
      ]
     },
     "execution_count": 123,
     "metadata": {},
     "output_type": "execute_result"
    }
   ],
   "source": [
    "Polarity_Tabulation.rename(columns = {'sentiment':'Grounding'}, inplace = True)\n",
    "Polarity_Tabulation"
   ]
  },
  {
   "cell_type": "code",
   "execution_count": 124,
   "id": "6b3eb3cc",
   "metadata": {},
   "outputs": [],
   "source": [
    "try:\n",
    "    Polarity_Tabulation['RoBERTa'].loc['negative(%)'] = percentage_df(per_df,\"RoBERTa\").loc['negative']\n",
    "    Polarity_Tabulation['RoBERTa'].loc['neutral(%)'] = percentage_df(per_df,\"RoBERTa\").loc['neutral']\n",
    "    Polarity_Tabulation['RoBERTa'].loc['positive(%)'] = percentage_df(per_df,\"RoBERTa\").loc['positive']\n",
    "    \n",
    "except Exception:\n",
    "    pass"
   ]
  },
  {
   "cell_type": "code",
   "execution_count": 125,
   "id": "b14c4f75",
   "metadata": {},
   "outputs": [
    {
     "data": {
      "text/html": [
       "<div>\n",
       "<style scoped>\n",
       "    .dataframe tbody tr th:only-of-type {\n",
       "        vertical-align: middle;\n",
       "    }\n",
       "\n",
       "    .dataframe tbody tr th {\n",
       "        vertical-align: top;\n",
       "    }\n",
       "\n",
       "    .dataframe thead th {\n",
       "        text-align: right;\n",
       "    }\n",
       "</style>\n",
       "<table border=\"1\" class=\"dataframe\">\n",
       "  <thead>\n",
       "    <tr style=\"text-align: right;\">\n",
       "      <th></th>\n",
       "      <th>Grounding</th>\n",
       "      <th>Vader</th>\n",
       "      <th>BERT</th>\n",
       "      <th>DistilBERT</th>\n",
       "      <th>RoBERTa</th>\n",
       "      <th>ELECTRA</th>\n",
       "    </tr>\n",
       "  </thead>\n",
       "  <tbody>\n",
       "    <tr>\n",
       "      <th>negative(%)</th>\n",
       "      <td>82.0</td>\n",
       "      <td>1.0</td>\n",
       "      <td>85.0</td>\n",
       "      <td>80.0</td>\n",
       "      <td>100.0</td>\n",
       "      <td>0.0</td>\n",
       "    </tr>\n",
       "    <tr>\n",
       "      <th>neutral(%)</th>\n",
       "      <td>8.0</td>\n",
       "      <td>91.0</td>\n",
       "      <td>6.0</td>\n",
       "      <td>0.0</td>\n",
       "      <td>0.0</td>\n",
       "      <td>0.0</td>\n",
       "    </tr>\n",
       "    <tr>\n",
       "      <th>positive(%)</th>\n",
       "      <td>10.0</td>\n",
       "      <td>8.0</td>\n",
       "      <td>9.0</td>\n",
       "      <td>20.0</td>\n",
       "      <td>0.0</td>\n",
       "      <td>0.0</td>\n",
       "    </tr>\n",
       "  </tbody>\n",
       "</table>\n",
       "</div>"
      ],
      "text/plain": [
       "             Grounding  Vader  BERT  DistilBERT  RoBERTa  ELECTRA\n",
       "negative(%)       82.0    1.0  85.0        80.0    100.0      0.0\n",
       "neutral(%)         8.0   91.0   6.0         0.0      0.0      0.0\n",
       "positive(%)       10.0    8.0   9.0        20.0      0.0      0.0"
      ]
     },
     "execution_count": 125,
     "metadata": {},
     "output_type": "execute_result"
    }
   ],
   "source": [
    "Polarity_Tabulation"
   ]
  },
  {
   "cell_type": "code",
   "execution_count": 126,
   "id": "20643479",
   "metadata": {},
   "outputs": [],
   "source": [
    "try:\n",
    "    Polarity_Tabulation['ELECTRA'].loc['negative(%)'] = percentage_df(per_df,\"ELECTRA\").loc['negative']\n",
    "    Polarity_Tabulation['ELECTRA'].loc['neutral(%)'] = percentage_df(per_df,\"ELECTRA\").loc['neutral']\n",
    "    Polarity_Tabulation['ELECTRA'].loc['positive(%)'] = percentage_df(per_df,\"ELECTRA\").loc['positive']\n",
    "    \n",
    "except Exception:\n",
    "    pass"
   ]
  },
  {
   "cell_type": "code",
   "execution_count": 127,
   "id": "4f0eef86",
   "metadata": {},
   "outputs": [
    {
     "data": {
      "text/html": [
       "<div>\n",
       "<style scoped>\n",
       "    .dataframe tbody tr th:only-of-type {\n",
       "        vertical-align: middle;\n",
       "    }\n",
       "\n",
       "    .dataframe tbody tr th {\n",
       "        vertical-align: top;\n",
       "    }\n",
       "\n",
       "    .dataframe thead th {\n",
       "        text-align: right;\n",
       "    }\n",
       "</style>\n",
       "<table border=\"1\" class=\"dataframe\">\n",
       "  <thead>\n",
       "    <tr style=\"text-align: right;\">\n",
       "      <th></th>\n",
       "      <th>Grounding</th>\n",
       "      <th>Vader</th>\n",
       "      <th>BERT</th>\n",
       "      <th>DistilBERT</th>\n",
       "      <th>RoBERTa</th>\n",
       "      <th>ELECTRA</th>\n",
       "    </tr>\n",
       "  </thead>\n",
       "  <tbody>\n",
       "    <tr>\n",
       "      <th>negative(%)</th>\n",
       "      <td>82.0</td>\n",
       "      <td>1.0</td>\n",
       "      <td>85.0</td>\n",
       "      <td>80.0</td>\n",
       "      <td>100.0</td>\n",
       "      <td>83.0</td>\n",
       "    </tr>\n",
       "    <tr>\n",
       "      <th>neutral(%)</th>\n",
       "      <td>8.0</td>\n",
       "      <td>91.0</td>\n",
       "      <td>6.0</td>\n",
       "      <td>0.0</td>\n",
       "      <td>0.0</td>\n",
       "      <td>8.0</td>\n",
       "    </tr>\n",
       "    <tr>\n",
       "      <th>positive(%)</th>\n",
       "      <td>10.0</td>\n",
       "      <td>8.0</td>\n",
       "      <td>9.0</td>\n",
       "      <td>20.0</td>\n",
       "      <td>0.0</td>\n",
       "      <td>9.0</td>\n",
       "    </tr>\n",
       "  </tbody>\n",
       "</table>\n",
       "</div>"
      ],
      "text/plain": [
       "             Grounding  Vader  BERT  DistilBERT  RoBERTa  ELECTRA\n",
       "negative(%)       82.0    1.0  85.0        80.0    100.0     83.0\n",
       "neutral(%)         8.0   91.0   6.0         0.0      0.0      8.0\n",
       "positive(%)       10.0    8.0   9.0        20.0      0.0      9.0"
      ]
     },
     "execution_count": 127,
     "metadata": {},
     "output_type": "execute_result"
    }
   ],
   "source": [
    "Polarity_Tabulation"
   ]
  },
  {
   "cell_type": "code",
   "execution_count": 128,
   "id": "27f8409d",
   "metadata": {
    "scrolled": true
   },
   "outputs": [
    {
     "data": {
      "text/plain": [
       "neutral     91.0\n",
       "positive     8.0\n",
       "negative     1.0\n",
       "Name: Vader, dtype: float64"
      ]
     },
     "execution_count": 128,
     "metadata": {},
     "output_type": "execute_result"
    }
   ],
   "source": [
    "percentage_df(per_df,\"Vader\")"
   ]
  },
  {
   "cell_type": "code",
   "execution_count": 129,
   "id": "734422ef",
   "metadata": {},
   "outputs": [],
   "source": [
    "BERT_Polarity = percentage_df(per_df,\"BERT\")"
   ]
  },
  {
   "cell_type": "code",
   "execution_count": 130,
   "id": "4bd2ad0c",
   "metadata": {},
   "outputs": [
    {
     "data": {
      "text/plain": [
       "negative    85.0\n",
       "positive     9.0\n",
       "neutral      6.0\n",
       "Name: BERT, dtype: float64"
      ]
     },
     "execution_count": 130,
     "metadata": {},
     "output_type": "execute_result"
    }
   ],
   "source": [
    "BERT_Polarity"
   ]
  },
  {
   "cell_type": "code",
   "execution_count": 131,
   "id": "080703e9",
   "metadata": {},
   "outputs": [],
   "source": [
    "# percentage_table = percentage_df['Grounding'].value_counts()/metricset['Grounding'].count()\n",
    "# percentage_table['Grounding_percentage'] = round(percentage_table,2)*100\n",
    "# percentage_table['Grounding_percentage']"
   ]
  },
  {
   "cell_type": "code",
   "execution_count": 132,
   "id": "44efa6c6",
   "metadata": {},
   "outputs": [],
   "source": [
    "# f, (ax4, ax5) = plt.subplots(1, 2, sharey=True)\n",
    "# ax4.set_ylabel ('Support', fontsize = 10)\n",
    "# ax5.set_ylabel ('Polarization Count', fontsize = 10)\n",
    "# subplot1 = sns.countplot(metricset.DistilBERT, label='Support',ax=ax4,order = metricset['Grounding'].value_counts().index)\n",
    "# subplot2 = sns.countplot(metricset.ELECTRA, label='Support',ax=ax5,order = metricset['Grounding'].value_counts().index)\n",
    "# subplot1.set_xticklabels(labels=[\"negative\", \"neutral\", \"positive\"],rotation=30)\n",
    "# subplot2.set_xticklabels(labels=[\"negative\", \"neutral\", \"positive\"],rotation=30)\n",
    "# plt.show()"
   ]
  },
  {
   "cell_type": "code",
   "execution_count": 133,
   "id": "68e8344a",
   "metadata": {},
   "outputs": [
    {
     "data": {
      "image/png": "[encoded data removed]",
      "text/plain": [
       "<Figure size 1000x400 with 1 Axes>"
      ]
     },
     "metadata": {},
     "output_type": "display_data"
    }
   ],
   "source": [
    "# plt.xticks(rotation=90)\n",
    "ax = sns.lineplot(data=Model_Score['Grounding'], label='Grounding')\n",
    "ax.set_ylabel ('Score', fontsize = 10)\n",
    "ax.set_xticklabels(labels=[\"F1 Macro\", \"F1 Macro neutral\", \"F1 Macro positive\", \"F1 Macro negative\"],rotation=30)\n",
    "ax = sns.lineplot(data=Model_Score['DistilBERT'], label='DistilBERT')\n"
   ]
  },
  {
   "cell_type": "code",
   "execution_count": 134,
   "id": "1c054fec",
   "metadata": {},
   "outputs": [
    {
     "data": {
      "image/png": "[encoded data removed]",
      "text/plain": [
       "<Figure size 1000x400 with 1 Axes>"
      ]
     },
     "metadata": {},
     "output_type": "display_data"
    }
   ],
   "source": [
    "# plt.xticks(rotation=90)\n",
    "sns.lineplot(data=Model_Score['Grounding'], label='Grounding')\n",
    "ax.set_ylabel ('Score', fontsize = 10)\n",
    "ax.set_xticklabels(labels=[\"F1 Macro\", \"F1 Macro neutral\", \"F1 Macro positive\", \"F1 Macro negative\"],rotation=30)\n",
    "ax = sns.lineplot(data=Model_Score['BERT'], label='Vader')\n",
    "ax.set_ylabel ('Score', fontsize = 10)\n",
    "ax = sns.lineplot(data=Model_Score['ELECTRA'], label='ELECTRA')\n"
   ]
  },
  {
   "cell_type": "code",
   "execution_count": 135,
   "id": "b6b71f88",
   "metadata": {},
   "outputs": [
    {
     "data": {
      "image/png": "[encoded data removed]",
      "text/plain": [
       "<Figure size 1000x400 with 1 Axes>"
      ]
     },
     "metadata": {},
     "output_type": "display_data"
    }
   ],
   "source": [
    "# plt.xticks(rotation=90)\n",
    "sns.set(font_scale=1)\n",
    "ax = sns.lineplot(data=Model_Score['Grounding'], label='Grounding')\n",
    "ax.set_ylabel ('Score', fontsize = 12)\n",
    "\n",
    "ax.set_xticklabels(labels=[\"F1 Macro\", \"F1 Macro neutral\", \"F1 Macro positive\", \"F1 Macro negative\"],rotation=30)\n",
    "ax = sns.lineplot(data=Model_Score['ELECTRA'], label='ELECTRA')\n"
   ]
  },
  {
   "cell_type": "code",
   "execution_count": 136,
   "id": "2aa5b9f1",
   "metadata": {},
   "outputs": [
    {
     "data": {
      "text/html": [
       "<div>\n",
       "<style scoped>\n",
       "    .dataframe tbody tr th:only-of-type {\n",
       "        vertical-align: middle;\n",
       "    }\n",
       "\n",
       "    .dataframe tbody tr th {\n",
       "        vertical-align: top;\n",
       "    }\n",
       "\n",
       "    .dataframe thead th {\n",
       "        text-align: right;\n",
       "    }\n",
       "</style>\n",
       "<table border=\"1\" class=\"dataframe\">\n",
       "  <thead>\n",
       "    <tr style=\"text-align: right;\">\n",
       "      <th></th>\n",
       "      <th>Grounding</th>\n",
       "      <th>Vader</th>\n",
       "      <th>BERT</th>\n",
       "      <th>DistilBERT</th>\n",
       "      <th>RoBERTa</th>\n",
       "      <th>ELECTRA</th>\n",
       "    </tr>\n",
       "  </thead>\n",
       "  <tbody>\n",
       "    <tr>\n",
       "      <th>F1_Macro</th>\n",
       "      <td>1.0</td>\n",
       "      <td>0.240355</td>\n",
       "      <td>0.928849</td>\n",
       "      <td>0.504527</td>\n",
       "      <td>0.300366</td>\n",
       "      <td>0.508014</td>\n",
       "    </tr>\n",
       "    <tr>\n",
       "      <th>F1_Macro_Neutral_Score</th>\n",
       "      <td>1.0</td>\n",
       "      <td>0.466667</td>\n",
       "      <td>0.428571</td>\n",
       "      <td>0.000000</td>\n",
       "      <td>0.000000</td>\n",
       "      <td>0.111111</td>\n",
       "    </tr>\n",
       "    <tr>\n",
       "      <th>F1_Macro_Positive_Score</th>\n",
       "      <td>1.0</td>\n",
       "      <td>0.333333</td>\n",
       "      <td>0.473684</td>\n",
       "      <td>0.473684</td>\n",
       "      <td>0.000000</td>\n",
       "      <td>0.222222</td>\n",
       "    </tr>\n",
       "    <tr>\n",
       "      <th>F1_Macro_Negative_Score</th>\n",
       "      <td>1.0</td>\n",
       "      <td>0.008032</td>\n",
       "      <td>1.000000</td>\n",
       "      <td>0.474359</td>\n",
       "      <td>1.000000</td>\n",
       "      <td>0.311688</td>\n",
       "    </tr>\n",
       "  </tbody>\n",
       "</table>\n",
       "</div>"
      ],
      "text/plain": [
       "                         Grounding     Vader      BERT  DistilBERT   RoBERTa  \\\n",
       "F1_Macro                       1.0  0.240355  0.928849    0.504527  0.300366   \n",
       "F1_Macro_Neutral_Score         1.0  0.466667  0.428571    0.000000  0.000000   \n",
       "F1_Macro_Positive_Score        1.0  0.333333  0.473684    0.473684  0.000000   \n",
       "F1_Macro_Negative_Score        1.0  0.008032  1.000000    0.474359  1.000000   \n",
       "\n",
       "                          ELECTRA  \n",
       "F1_Macro                 0.508014  \n",
       "F1_Macro_Neutral_Score   0.111111  \n",
       "F1_Macro_Positive_Score  0.222222  \n",
       "F1_Macro_Negative_Score  0.311688  "
      ]
     },
     "execution_count": 136,
     "metadata": {},
     "output_type": "execute_result"
    }
   ],
   "source": [
    "Model_Score"
   ]
  },
  {
   "cell_type": "code",
   "execution_count": 137,
   "id": "8d4aec34",
   "metadata": {
    "scrolled": true
   },
   "outputs": [
    {
     "data": {
      "image/png": "[encoded data removed]",
      "text/plain": [
       "<Figure size 1000x400 with 1 Axes>"
      ]
     },
     "metadata": {},
     "output_type": "display_data"
    }
   ],
   "source": [
    "plt = sns.lineplot(data=Model_Score.loc['F1_Macro'], label='F1 Macro')\n",
    "plt = sns.lineplot(data=Model_Score.loc['F1_Macro_Neutral_Score'], label='F1_Macro_Neutral')\n",
    "plt = sns.lineplot(data=Model_Score.loc['F1_Macro_Positive_Score'],label='F1_Macro_Positive')\n",
    "plt = sns.lineplot(data=Model_Score.loc['F1_Macro_Negative_Score'],label='F1_Macro_Negative')"
   ]
  },
  {
   "cell_type": "markdown",
   "id": "a765bf17",
   "metadata": {},
   "source": [
    "## Business Rule"
   ]
  },
  {
   "cell_type": "code",
   "execution_count": 138,
   "id": "84792800",
   "metadata": {},
   "outputs": [],
   "source": [
    "# If positive : Print \"you are happy with our service\"\n",
    "#                  Retweet (Customer Campaign)\n",
    "# if negative : Print \"i'm sorry you feel this way\"\n",
    "#                    Direct_Message (Customer Service_Ticket)\n",
    "# if neutral : Print \"\" exit"
   ]
  },
  {
   "cell_type": "code",
   "execution_count": 139,
   "id": "e6c8287c",
   "metadata": {},
   "outputs": [],
   "source": [
    "customer_tweet = \"My flight is delayed, I need a good explanation\""
   ]
  },
  {
   "cell_type": "code",
   "execution_count": 140,
   "id": "d001776b",
   "metadata": {},
   "outputs": [
    {
     "name": "stdout",
     "output_type": "stream",
     "text": [
      "{'neg': 0.161, 'neu': 0.593, 'pos': 0.246, 'compound': 0.25}\n"
     ]
    }
   ],
   "source": [
    "score=sa.polarity_scores(customer_tweet)\n",
    "print(score)"
   ]
  },
  {
   "cell_type": "code",
   "execution_count": 141,
   "id": "3db1f138",
   "metadata": {
    "scrolled": true
   },
   "outputs": [],
   "source": [
    "# summary_text = summarizer(customer_tweet, max_length=50, min_length=20)"
   ]
  },
  {
   "cell_type": "code",
   "execution_count": 142,
   "id": "83d19a14",
   "metadata": {},
   "outputs": [],
   "source": [
    "# tweet_summary = str(summary_text[0]).split(\"\\\"\")[1]\n",
    "# print(tweet_summary)"
   ]
  },
  {
   "cell_type": "code",
   "execution_count": 143,
   "id": "c34b046e",
   "metadata": {
    "scrolled": true
   },
   "outputs": [],
   "source": [
    "# score=sa.polarity_scores(tweet_summary)\n",
    "# print(score.get('neg'))\n",
    "# print(score.get('neu'))"
   ]
  },
  {
   "cell_type": "code",
   "execution_count": 144,
   "id": "e73af2e5",
   "metadata": {},
   "outputs": [],
   "source": [
    "score_1=sa.polarity_scores(customer_tweet)\n",
    "idx_customer_tweet = np.argmax([score_1.get('neg'),score_1.get('neu'),score_1.get('pos')],0)"
   ]
  },
  {
   "cell_type": "code",
   "execution_count": 145,
   "id": "9337708f",
   "metadata": {},
   "outputs": [],
   "source": [
    "# score_2=sa.polarity_scores(tweet_summary)\n",
    "# idx_tweet_summary = np.argmax([score_2.get('neg'),score_2.get('neu'),score_2.get('pos')],0)"
   ]
  },
  {
   "cell_type": "markdown",
   "id": "01575b2b",
   "metadata": {},
   "source": [
    "## Sentiment Contradictions & Differentiated Response "
   ]
  },
  {
   "cell_type": "code",
   "execution_count": 146,
   "id": "c771b7c7",
   "metadata": {},
   "outputs": [
    {
     "name": "stdout",
     "output_type": "stream",
     "text": [
      "Customer Tweet:  My flight is delayed, I need a good explanation\n",
      "Bot:(Neutral Sentiment)  --no response--\n"
     ]
    }
   ],
   "source": [
    "print(Customer_Service_Business_Rule(customer_tweet,idx_customer_tweet))"
   ]
  },
  {
   "cell_type": "code",
   "execution_count": 147,
   "id": "12d7dd6c",
   "metadata": {},
   "outputs": [],
   "source": [
    "# print(Customer_Service_Business_Rule_Transformer(tweet_summary,idx_tweet_summary))"
   ]
  },
  {
   "cell_type": "code",
   "execution_count": 148,
   "id": "75306cca",
   "metadata": {},
   "outputs": [],
   "source": [
    "customer_tweet = \"My flight is delayed, what the fcuk\""
   ]
  },
  {
   "cell_type": "code",
   "execution_count": 149,
   "id": "8ab0961b",
   "metadata": {},
   "outputs": [],
   "source": [
    "# from transformers import pipeline"
   ]
  },
  {
   "cell_type": "code",
   "execution_count": 150,
   "id": "5d1022ed",
   "metadata": {
    "scrolled": true
   },
   "outputs": [
    {
     "data": {
      "text/plain": [
       "'siebert/sentiment-roberta-large-english'"
      ]
     },
     "execution_count": 150,
     "metadata": {},
     "output_type": "execute_result"
    }
   ],
   "source": [
    "model_name"
   ]
  },
  {
   "cell_type": "code",
   "execution_count": 151,
   "id": "23a076b3",
   "metadata": {},
   "outputs": [],
   "source": [
    "# summarizer = pipeline(\"sentiment-analysis\", model=model_name)\n",
    "# sentiment_dict = summarizer(customer_tweet, max_length=50, min_length=20)"
   ]
  },
  {
   "cell_type": "code",
   "execution_count": null,
   "id": "e7e93c54",
   "metadata": {},
   "outputs": [],
   "source": [
    "from transformers import pipeline\n",
    "sentiment_analysis = pipeline(\"sentiment-analysis\",model=\"siebert/sentiment-roberta-large-english\")\n",
    "print(sentiment_analysis(\"I love this!\"))"
   ]
  },
  {
   "cell_type": "code",
   "execution_count": null,
   "id": "73ec7691",
   "metadata": {},
   "outputs": [],
   "source": [
    "sentiment_dict=sentiment_analysis"
   ]
  },
  {
   "cell_type": "code",
   "execution_count": null,
   "id": "34430e6a",
   "metadata": {},
   "outputs": [],
   "source": [
    "score_3=sa.polarity_scores(customer_tweet)\n",
    "idx_customer_tweet = np.argmax([score_3.get('neg'),score_3.get('neu'),score_3.get('pos')],0)"
   ]
  },
  {
   "cell_type": "code",
   "execution_count": null,
   "id": "7c5c6423",
   "metadata": {},
   "outputs": [],
   "source": [
    "score_3"
   ]
  },
  {
   "cell_type": "code",
   "execution_count": null,
   "id": "e7b1462a",
   "metadata": {},
   "outputs": [],
   "source": [
    "idx_customer_tweet"
   ]
  },
  {
   "cell_type": "code",
   "execution_count": null,
   "id": "8319b3e5",
   "metadata": {},
   "outputs": [],
   "source": [
    "# score_4=sa.polarity_scores(summary_text)\n",
    "# idx_tweet_summary = np.argmax([score_4.get('neg'),score_4.get('neu'),score_4.get('pos')],0)"
   ]
  },
  {
   "cell_type": "code",
   "execution_count": null,
   "id": "03bbf0fd",
   "metadata": {},
   "outputs": [],
   "source": [
    "print(Customer_Service_Business_Rule(customer_tweet,idx_customer_tweet))"
   ]
  },
  {
   "cell_type": "code",
   "execution_count": null,
   "id": "df8d3d2c",
   "metadata": {
    "scrolled": true
   },
   "outputs": [],
   "source": [
    "# print(Customer_Service_Business_Rule_Transformer(tweet_summary,idx_tweet_summary))"
   ]
  },
  {
   "cell_type": "code",
   "execution_count": null,
   "id": "476bb705",
   "metadata": {},
   "outputs": [],
   "source": [
    "text=TextBlob(customer_tweet) # neutral\n",
    "print(text.sentiment)"
   ]
  },
  {
   "cell_type": "code",
   "execution_count": null,
   "id": "ccc27369",
   "metadata": {},
   "outputs": [],
   "source": [
    "score=sa.polarity_scores(customer_tweet)\n",
    "print(score)"
   ]
  },
  {
   "cell_type": "code",
   "execution_count": null,
   "id": "2edaee7b",
   "metadata": {
    "scrolled": true
   },
   "outputs": [],
   "source": [
    "# score=sa.polarity_scores(tweet_summary)\n",
    "# print(score.get('neu'))\n",
    "# print(score.get('neg'))"
   ]
  },
  {
   "cell_type": "code",
   "execution_count": null,
   "id": "004ef8f9",
   "metadata": {},
   "outputs": [],
   "source": []
  },
  {
   "cell_type": "code",
   "execution_count": null,
   "id": "c40d8c4d",
   "metadata": {},
   "outputs": [],
   "source": []
  }
 ],
 "metadata": {
  "kernelspec": {
   "display_name": "conda_pytorch_p39",
   "language": "python",
   "name": "conda_pytorch_p39"
  },
  "language_info": {
   "codemirror_mode": {
    "name": "ipython",
    "version": 3
   },
   "file_extension": ".py",
   "mimetype": "text/x-python",
   "name": "python",
   "nbconvert_exporter": "python",
   "pygments_lexer": "ipython3",
   "version": "3.9.15"
  }
 },
 "nbformat": 4,
 "nbformat_minor": 5
}
