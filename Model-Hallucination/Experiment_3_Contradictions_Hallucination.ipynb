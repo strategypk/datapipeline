{
 "cells": [
  {
   "cell_type": "code",
   "execution_count": 109,
   "id": "b7294f60",
   "metadata": {},
   "outputs": [],
   "source": [
    "from transformers import pipeline\n",
    "from transformers import AutoModelWithLMHead, AutoTokenizer, AutoModelForSeq2SeqLM\n",
    "import torch\n",
    "from textblob import TextBlob\n",
    "from vaderSentiment.vaderSentiment import SentimentIntensityAnalyzer\n",
    "import numpy as np\n",
    "model_name = \"yjernite/bart_eli5\""
   ]
  },
  {
   "cell_type": "code",
   "execution_count": 110,
   "id": "8239f5fa",
   "metadata": {},
   "outputs": [],
   "source": [
    "tokenizer = AutoTokenizer.from_pretrained(model_name)\n",
    "model = AutoModelForSeq2SeqLM.from_pretrained(model_name)"
   ]
  },
  {
   "cell_type": "markdown",
   "id": "81fb0eb2",
   "metadata": {},
   "source": [
    "## Unit Testing : Tweet"
   ]
  },
  {
   "cell_type": "code",
   "execution_count": 111,
   "id": "b9bd65d4",
   "metadata": {},
   "outputs": [],
   "source": [
    "# customer_tweet = \"My flight is delayed, I need a good explanation\"\n",
    "customer_tweet = \"really bad.\""
   ]
  },
  {
   "cell_type": "code",
   "execution_count": 112,
   "id": "92edc4f1",
   "metadata": {},
   "outputs": [
    {
     "name": "stdout",
     "output_type": "stream",
     "text": [
      "Sentiment(polarity=-0.6999999999999998, subjectivity=0.6666666666666666)\n"
     ]
    }
   ],
   "source": [
    "text=TextBlob(customer_tweet) # neutral\n",
    "print(text.sentiment)"
   ]
  },
  {
   "cell_type": "code",
   "execution_count": 113,
   "id": "4c8bcc90",
   "metadata": {},
   "outputs": [
    {
     "name": "stdout",
     "output_type": "stream",
     "text": [
      "{'neg': 0.791, 'neu': 0.209, 'pos': 0.0, 'compound': -0.5849}\n"
     ]
    }
   ],
   "source": [
    "score=sa.polarity_scores(customer_tweet)\n",
    "print(score)"
   ]
  },
  {
   "cell_type": "markdown",
   "id": "cc503cda",
   "metadata": {},
   "source": [
    "## NLP Pipeline Transformation & Summarization"
   ]
  },
  {
   "cell_type": "code",
   "execution_count": 114,
   "id": "ceeb6ea1",
   "metadata": {},
   "outputs": [],
   "source": [
    "summarizer = pipeline(\"summarization\", model=model_name)"
   ]
  },
  {
   "cell_type": "code",
   "execution_count": 115,
   "id": "f8e56506",
   "metadata": {},
   "outputs": [
    {
     "name": "stderr",
     "output_type": "stream",
     "text": [
      "Your min_length is set to 20, but you input_length is only 5. You might consider decreasing min_length manually, e.g. summarizer('...', min_length=10)\n",
      "Your max_length is set to 50, but you input_length is only 5. You might consider decreasing max_length manually, e.g. summarizer('...', max_length=50)\n"
     ]
    }
   ],
   "source": [
    "summary_text = summarizer(customer_tweet, max_length=50, min_length=20)"
   ]
  },
  {
   "cell_type": "markdown",
   "id": "951c6291",
   "metadata": {},
   "source": [
    "## Model Hallucination"
   ]
  },
  {
   "cell_type": "code",
   "execution_count": 116,
   "id": "750c24d1",
   "metadata": {},
   "outputs": [
    {
     "data": {
      "text/plain": [
       "{'summary_text': \" I'm not a doctor, but I'm pretty sure it's not a good idea to drink a lot of alcohol.\"}"
      ]
     },
     "execution_count": 116,
     "metadata": {},
     "output_type": "execute_result"
    }
   ],
   "source": [
    "summary_text[0]"
   ]
  },
  {
   "cell_type": "markdown",
   "id": "df0468c0",
   "metadata": {},
   "source": [
    "## Sentiment Analysis : Mis-Classification"
   ]
  },
  {
   "cell_type": "code",
   "execution_count": 117,
   "id": "e1cfa694",
   "metadata": {
    "scrolled": true
   },
   "outputs": [
    {
     "name": "stdout",
     "output_type": "stream",
     "text": [
      "{'neg': 0.0, 'neu': 1.0, 'pos': 0.0, 'compound': 0.0}\n"
     ]
    }
   ],
   "source": [
    "sa=SentimentIntensityAnalyzer()\n",
    "score=sa.polarity_scores(summary_text[0])\n",
    "print(score)"
   ]
  },
  {
   "cell_type": "code",
   "execution_count": 118,
   "id": "6106dbc3",
   "metadata": {},
   "outputs": [
    {
     "name": "stdout",
     "output_type": "stream",
     "text": [
      " I'm not a doctor, but I'm pretty sure it's not a good idea to drink a lot of alcohol.\n"
     ]
    }
   ],
   "source": [
    "print(str(summary_text[0]).split(\"\\\"\")[1])"
   ]
  },
  {
   "cell_type": "code",
   "execution_count": 119,
   "id": "43241e33",
   "metadata": {},
   "outputs": [],
   "source": [
    "# If positive : Print \"you are happy with our service\"\n",
    "#                  Retweet (Customer Campaign)\n",
    "# if negative : Print \"i'm sorry you feel this way\"\n",
    "#                    Direct_Message (Customer Service_Ticket)\n",
    "# if neutral : Print \"\" exit"
   ]
  },
  {
   "cell_type": "code",
   "execution_count": 120,
   "id": "edb460bb",
   "metadata": {},
   "outputs": [],
   "source": [
    "def Customer_Service_Business_Rule(tweet_str, idx):\n",
    "    print(\"Customer Tweet: \", tweet_str)\n",
    "    if idx == 0:\n",
    "        return (\"Bot (Negative Sentiment): I'm sorry you feel this way\")\n",
    "    elif idx ==1:\n",
    "        return (\"Bot:(Neutral Sentiment)  --no response--\")\n",
    "    elif idx ==2:\n",
    "        return (\"Bot: Glad, you are happy with our service\")"
   ]
  },
  {
   "cell_type": "code",
   "execution_count": 121,
   "id": "f15722c7",
   "metadata": {},
   "outputs": [],
   "source": [
    "def Customer_Service_Business_Rule_Transformer(tweet_str, idx):\n",
    "    print(\"Tweet Summarization: \", tweet_str)\n",
    "    if idx == 0:\n",
    "        return (\"Bot (Negative Sentiment): I'm sorry you feel this way\")\n",
    "    elif idx ==1:\n",
    "        return (\"Bot:(Neutral Sentiment)  --no response--\")\n",
    "    elif idx ==2:\n",
    "        return (\"Bot: Glad, you are happy with our service\")"
   ]
  },
  {
   "cell_type": "code",
   "execution_count": 122,
   "id": "513937ca",
   "metadata": {},
   "outputs": [],
   "source": [
    "customer_tweet = \"My flight is delayed, I need a good explanation\""
   ]
  },
  {
   "cell_type": "code",
   "execution_count": 133,
   "id": "c89ad917",
   "metadata": {},
   "outputs": [
    {
     "name": "stdout",
     "output_type": "stream",
     "text": [
      "{'neg': 0.161, 'neu': 0.593, 'pos': 0.246, 'compound': 0.25}\n"
     ]
    }
   ],
   "source": [
    "score=sa.polarity_scores(customer_tweet)\n",
    "print(score)"
   ]
  },
  {
   "cell_type": "code",
   "execution_count": 123,
   "id": "5a6c5e7f",
   "metadata": {
    "scrolled": true
   },
   "outputs": [
    {
     "name": "stderr",
     "output_type": "stream",
     "text": [
      "Your max_length is set to 50, but you input_length is only 12. You might consider decreasing max_length manually, e.g. summarizer('...', max_length=50)\n"
     ]
    }
   ],
   "source": [
    "summary_text = summarizer(customer_tweet, max_length=50, min_length=20)"
   ]
  },
  {
   "cell_type": "code",
   "execution_count": 124,
   "id": "775589e9",
   "metadata": {},
   "outputs": [
    {
     "name": "stdout",
     "output_type": "stream",
     "text": [
      " It's not that my flight is delayed, it's that the flight is *delayed*. If you're going to be delayed, you have to be *very* delayed. If you don't, you're not going to make it\n"
     ]
    }
   ],
   "source": [
    "tweet_summary = str(summary_text[0]).split(\"\\\"\")[1]\n",
    "print(tweet_summary)"
   ]
  },
  {
   "cell_type": "code",
   "execution_count": 139,
   "id": "f858deb2",
   "metadata": {
    "scrolled": true
   },
   "outputs": [
    {
     "name": "stdout",
     "output_type": "stream",
     "text": [
      "0.208\n",
      "0.792\n"
     ]
    }
   ],
   "source": [
    "score=sa.polarity_scores(tweet_summary)\n",
    "print(score.get('neg'))\n",
    "print(score.get('neu'))"
   ]
  },
  {
   "cell_type": "code",
   "execution_count": 135,
   "id": "3a4a1513",
   "metadata": {},
   "outputs": [],
   "source": [
    "score_1=sa.polarity_scores(customer_tweet)\n",
    "idx_customer_tweet = np.argmax([score_1.get('neg'),score_1.get('neu'),score_1.get('pos')],0)"
   ]
  },
  {
   "cell_type": "code",
   "execution_count": 136,
   "id": "b3d8d36a",
   "metadata": {},
   "outputs": [],
   "source": [
    "score_2=sa.polarity_scores(tweet_summary)\n",
    "idx_tweet_summary = np.argmax([score_2.get('neg'),score_2.get('neu'),score_2.get('pos')],0)"
   ]
  },
  {
   "cell_type": "markdown",
   "id": "38cfef96",
   "metadata": {},
   "source": [
    "## Sentiment Contradictions & Differentiated Response "
   ]
  },
  {
   "cell_type": "code",
   "execution_count": 137,
   "id": "3a18aff8",
   "metadata": {},
   "outputs": [
    {
     "name": "stdout",
     "output_type": "stream",
     "text": [
      "Customer Tweet:  My flight is delayed, I need a good explanation\n",
      "Bot:(Neutral Sentiment)  --no response--\n"
     ]
    }
   ],
   "source": [
    "print(Customer_Service_Business_Rule(customer_tweet,idx_customer_tweet))"
   ]
  },
  {
   "cell_type": "code",
   "execution_count": 174,
   "id": "61aea23d",
   "metadata": {},
   "outputs": [
    {
     "name": "stdout",
     "output_type": "stream",
     "text": [
      "Tweet Summarization:   It's not that my flight is delayed, it's that the flight is *delayed*. If you're going to be delayed, you have to be *very* delayed. If you don't, you're not going to make it\n",
      "Bot:(Neutral Sentiment)  --no response--\n"
     ]
    }
   ],
   "source": [
    "print(Customer_Service_Business_Rule_Transformer(tweet_summary,idx_tweet_summary))"
   ]
  },
  {
   "cell_type": "code",
   "execution_count": 216,
   "id": "4502de82",
   "metadata": {},
   "outputs": [],
   "source": [
    "customer_tweet = \"My flight is delayed, what the fuck\""
   ]
  },
  {
   "cell_type": "code",
   "execution_count": 217,
   "id": "da32baa7",
   "metadata": {},
   "outputs": [
    {
     "name": "stderr",
     "output_type": "stream",
     "text": [
      "Your max_length is set to 50, but you input_length is only 10. You might consider decreasing max_length manually, e.g. summarizer('...', max_length=50)\n"
     ]
    }
   ],
   "source": [
    "summary_text = summarizer(customer_tweet, max_length=50, min_length=20)"
   ]
  },
  {
   "cell_type": "code",
   "execution_count": 218,
   "id": "c7d508fa",
   "metadata": {},
   "outputs": [],
   "source": [
    "score_3=sa.polarity_scores(customer_tweet)\n",
    "idx_customer_tweet = np.argmax([score_3.get('neg'),score_3.get('neu'),score_3.get('pos')],0)"
   ]
  },
  {
   "cell_type": "code",
   "execution_count": 219,
   "id": "f9c1c684",
   "metadata": {},
   "outputs": [],
   "source": [
    "score_4=sa.polarity_scores(tweet_summary)\n",
    "idx_tweet_summary = np.argmax([score_4.get('neg'),score_4.get('neu'),score_4.get('pos')],0)"
   ]
  },
  {
   "cell_type": "code",
   "execution_count": 220,
   "id": "0d7a97ca",
   "metadata": {},
   "outputs": [
    {
     "name": "stdout",
     "output_type": "stream",
     "text": [
      "Customer Tweet:  My flight is delayed, what the fuck\n",
      "Bot (Negative Sentiment): I'm sorry you feel this way\n"
     ]
    }
   ],
   "source": [
    "print(Customer_Service_Business_Rule(customer_tweet,idx_customer_tweet))"
   ]
  },
  {
   "cell_type": "code",
   "execution_count": 221,
   "id": "f2e93643",
   "metadata": {
    "scrolled": true
   },
   "outputs": [
    {
     "name": "stdout",
     "output_type": "stream",
     "text": [
      "Tweet Summarization:   It's not that my flight is delayed, it's that the flight is *delayed*. If you're going to be delayed, you have to be *very* delayed. If you don't, you're not going to make it\n",
      "Bot:(Neutral Sentiment)  --no response--\n"
     ]
    }
   ],
   "source": [
    "print(Customer_Service_Business_Rule_Transformer(tweet_summary,idx_tweet_summary))"
   ]
  },
  {
   "cell_type": "code",
   "execution_count": 173,
   "id": "9159e1ed",
   "metadata": {},
   "outputs": [
    {
     "name": "stdout",
     "output_type": "stream",
     "text": [
      "Sentiment(polarity=5.551115123125783e-17, subjectivity=0.6333333333333333)\n"
     ]
    }
   ],
   "source": [
    "text=TextBlob(customer_tweet) # neutral\n",
    "print(text.sentiment)"
   ]
  },
  {
   "cell_type": "code",
   "execution_count": 131,
   "id": "974e5522",
   "metadata": {},
   "outputs": [
    {
     "name": "stdout",
     "output_type": "stream",
     "text": [
      "{'neg': 0.161, 'neu': 0.593, 'pos': 0.246, 'compound': 0.25}\n"
     ]
    }
   ],
   "source": [
    "score=sa.polarity_scores(customer_tweet)\n",
    "print(score)"
   ]
  },
  {
   "cell_type": "code",
   "execution_count": 132,
   "id": "8f0f0526",
   "metadata": {
    "scrolled": true
   },
   "outputs": [
    {
     "name": "stdout",
     "output_type": "stream",
     "text": [
      "0.792\n",
      "0.208\n"
     ]
    }
   ],
   "source": [
    "score=sa.polarity_scores(tweet_summary)\n",
    "print(score.get('neu'))\n",
    "print(score.get('neg'))"
   ]
  },
  {
   "cell_type": "code",
   "execution_count": 222,
   "id": "f1a2dfa7",
   "metadata": {},
   "outputs": [],
   "source": [
    "import re, string, unicodedata\n",
    "import pandas as pd\n",
    "import numpy as np\n",
    "import nltk\n",
    "from nltk.corpus import stopwords\n",
    "import pandas as pd\n",
    "import matplotlib.pyplot as plt                                        \n",
    "import seaborn as sns                                                  \n",
    "from collections import Counter                                           \n",
    "from nltk.tokenize.toktok import ToktokTokenizer\n",
    "import spacy\n",
    "# import contractions\n",
    "from wordcloud import WordCloud, STOPWORDS, ImageColorGenerator         \n",
    "import nltk                                                            \n",
    "\n",
    "from nltk.corpus import wordnet\n",
    "import warnings                                                           \n",
    "warnings.filterwarnings(\"ignore\")\n",
    "from nltk.stem.porter import PorterStemmer  \n",
    "from bs4 import BeautifulSoup\n",
    "from spacy import displacy\n",
    "from sklearn.feature_extraction.text import CountVectorizer"
   ]
  },
  {
   "cell_type": "code",
   "execution_count": 223,
   "id": "fff28de5",
   "metadata": {},
   "outputs": [],
   "source": [
    "from sklearn.feature_extraction.text import TfidfTransformer\n",
    "from sklearn.feature_extraction.text import TfidfVectorizer\n",
    "from sklearn.svm import LinearSVC\n",
    "from sklearn.model_selection import cross_val_score\n",
    "from scipy.sparse import hstack"
   ]
  },
  {
   "cell_type": "code",
   "execution_count": 224,
   "id": "99d7e7b9",
   "metadata": {},
   "outputs": [],
   "source": [
    "from sklearn.model_selection import train_test_split\n",
    "from sklearn.ensemble import RandomForestClassifier\n",
    "from sklearn.metrics import confusion_matrix"
   ]
  },
  {
   "cell_type": "code",
   "execution_count": 225,
   "id": "3089219e",
   "metadata": {},
   "outputs": [],
   "source": [
    "from nltk.tokenize.treebank import TreebankWordTokenizer\n",
    "from nltk.tokenize import WordPunctTokenizer\n",
    "import emoji\n",
    "from nltk.stem import WordNetLemmatizer"
   ]
  },
  {
   "cell_type": "code",
   "execution_count": 226,
   "id": "489f8a20",
   "metadata": {},
   "outputs": [
    {
     "data": {
      "text/html": [
       "<style>.container { width:95% !important; }</style>"
      ],
      "text/plain": [
       "<IPython.core.display.HTML object>"
      ]
     },
     "execution_count": 226,
     "metadata": {},
     "output_type": "execute_result"
    }
   ],
   "source": [
    "pd.set_option('display.max_colwidth', None) #to display all data of a dataframe column without truncation\n",
    "\n",
    "import warnings #import warning module\n",
    "warnings.filterwarnings('ignore') #set to ignore any warning \n",
    "from IPython.core.display import HTML #import HTML module\n",
    "HTML(\"<style>.container { width:95% !important; }</style>\") #set HTML style to get more space in notebook"
   ]
  },
  {
   "cell_type": "code",
   "execution_count": 228,
   "id": "7abe62ec",
   "metadata": {},
   "outputs": [],
   "source": [
    "from sklearn import metrics\n",
    "from sklearn.metrics import classification_report, confusion_matrix\n",
    "from sklearn.metrics import mean_absolute_error, mean_squared_error, r2_score\n",
    "from sklearn.metrics import roc_auc_score\n",
    "from sklearn.metrics import roc_curve\n",
    "from sklearn.metrics import r2_score\n",
    "from sklearn.metrics import mean_squared_error\n",
    "\n",
    "# imported sklearn mertrics for classification report and error calculation"
   ]
  },
  {
   "cell_type": "code",
   "execution_count": 277,
   "id": "4f530cee",
   "metadata": {},
   "outputs": [],
   "source": [
    "Checklist = pd.DataFrame(\n",
    "    {'VADER': [\"0.80\", \"0.99\", \"0.80\", \"0.0\",\"-\"],\n",
    "     'BERT': [\"0.98\", \"0.90\", \"0.80\", \"0.15\",\"**\"],\n",
    "     'GPT_BART_ELI5': [\"0.95\", \"0.90\", \"0.80\", \"0.30\",\"***\"],\n",
    "    'GPT2': [\"0.95\", \"0.90\", \"0.80\", \"0.30\",\"****\"]},\n",
    "                  \n",
    "    index=['Neutral Exclusion', 'Contradiction', 'Error Amplification', 'Hallucination','Polarization'])\n",
    "Checklist=Checklist.rename_axis('Dark Side')"
   ]
  },
  {
   "cell_type": "code",
   "execution_count": 278,
   "id": "19d1dbda",
   "metadata": {},
   "outputs": [
    {
     "data": {
      "text/html": [
       "<div>\n",
       "<style scoped>\n",
       "    .dataframe tbody tr th:only-of-type {\n",
       "        vertical-align: middle;\n",
       "    }\n",
       "\n",
       "    .dataframe tbody tr th {\n",
       "        vertical-align: top;\n",
       "    }\n",
       "\n",
       "    .dataframe thead th {\n",
       "        text-align: right;\n",
       "    }\n",
       "</style>\n",
       "<table border=\"1\" class=\"dataframe\">\n",
       "  <thead>\n",
       "    <tr style=\"text-align: right;\">\n",
       "      <th></th>\n",
       "      <th>VADER</th>\n",
       "      <th>BERT</th>\n",
       "      <th>GPT_BART_ELI5</th>\n",
       "      <th>GPT2</th>\n",
       "    </tr>\n",
       "    <tr>\n",
       "      <th>Dark Side</th>\n",
       "      <th></th>\n",
       "      <th></th>\n",
       "      <th></th>\n",
       "      <th></th>\n",
       "    </tr>\n",
       "  </thead>\n",
       "  <tbody>\n",
       "    <tr>\n",
       "      <th>Neutral Exclusion</th>\n",
       "      <td>0.80</td>\n",
       "      <td>0.98</td>\n",
       "      <td>0.95</td>\n",
       "      <td>0.95</td>\n",
       "    </tr>\n",
       "    <tr>\n",
       "      <th>Contradiction</th>\n",
       "      <td>0.99</td>\n",
       "      <td>0.90</td>\n",
       "      <td>0.90</td>\n",
       "      <td>0.90</td>\n",
       "    </tr>\n",
       "    <tr>\n",
       "      <th>Error Amplification</th>\n",
       "      <td>0.80</td>\n",
       "      <td>0.80</td>\n",
       "      <td>0.80</td>\n",
       "      <td>0.80</td>\n",
       "    </tr>\n",
       "    <tr>\n",
       "      <th>Hallucination</th>\n",
       "      <td>0.0</td>\n",
       "      <td>0.15</td>\n",
       "      <td>0.30</td>\n",
       "      <td>0.30</td>\n",
       "    </tr>\n",
       "    <tr>\n",
       "      <th>Polarization</th>\n",
       "      <td>-</td>\n",
       "      <td>**</td>\n",
       "      <td>***</td>\n",
       "      <td>****</td>\n",
       "    </tr>\n",
       "  </tbody>\n",
       "</table>\n",
       "</div>"
      ],
      "text/plain": [
       "                    VADER  BERT GPT_BART_ELI5  GPT2\n",
       "Dark Side                                          \n",
       "Neutral Exclusion    0.80  0.98          0.95  0.95\n",
       "Contradiction        0.99  0.90          0.90  0.90\n",
       "Error Amplification  0.80  0.80          0.80  0.80\n",
       "Hallucination         0.0  0.15          0.30  0.30\n",
       "Polarization            -    **           ***  ****"
      ]
     },
     "execution_count": 278,
     "metadata": {},
     "output_type": "execute_result"
    }
   ],
   "source": [
    "Checklist"
   ]
  },
  {
   "cell_type": "code",
   "execution_count": null,
   "id": "6d711533",
   "metadata": {},
   "outputs": [],
   "source": []
  },
  {
   "cell_type": "code",
   "execution_count": null,
   "id": "7307764f",
   "metadata": {},
   "outputs": [],
   "source": []
  }
 ],
 "metadata": {
  "kernelspec": {
   "display_name": "Python 3 (ipykernel)",
   "language": "python",
   "name": "python3"
  },
  "language_info": {
   "codemirror_mode": {
    "name": "ipython",
    "version": 3
   },
   "file_extension": ".py",
   "mimetype": "text/x-python",
   "name": "python",
   "nbconvert_exporter": "python",
   "pygments_lexer": "ipython3",
   "version": "3.8.8"
  }
 },
 "nbformat": 4,
 "nbformat_minor": 5
}
