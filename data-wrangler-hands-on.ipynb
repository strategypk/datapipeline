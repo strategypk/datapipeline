{
 "cells": [
  {
   "cell_type": "code",
   "execution_count": 1,
   "id": "1886bff6",
   "metadata": {},
   "outputs": [],
   "source": [
    "from sagemaker.s3 import S3Uploader\n",
    "import sagemaker"
   ]
  },
  {
   "cell_type": "code",
   "execution_count": 3,
   "id": "5c2d415f",
   "metadata": {},
   "outputs": [],
   "source": [
    "sagemaker_session = sagemaker.Session()\n",
    "bucket = sagemaker_session.default_bucket()\n",
    "prefix = 'data-wrangler-demo'"
   ]
  },
  {
   "cell_type": "code",
   "execution_count": 5,
   "id": "25044be7",
   "metadata": {},
   "outputs": [
    {
     "name": "stdout",
     "output_type": "stream",
     "text": [
      "--2023-06-10 21:50:42--  https://sagemaker-sample-files.s3.amazonaws.com/datasets/tabular/uci_statlog_german_credit_data/german_credit_data.csv\n",
      "Resolving sagemaker-sample-files.s3.amazonaws.com (sagemaker-sample-files.s3.amazonaws.com)... 52.217.206.137, 54.231.232.81, 52.216.211.129, ...\n",
      "Connecting to sagemaker-sample-files.s3.amazonaws.com (sagemaker-sample-files.s3.amazonaws.com)|52.217.206.137|:443... connected.\n",
      "HTTP request sent, awaiting response... 200 OK\n",
      "Length: 99589 (97K) [text/csv]\n",
      "Saving to: ‘german_credit_data.csv’\n",
      "\n",
      "100%[======================================>] 99,589      --.-K/s   in 0.002s  \n",
      "\n",
      "2023-06-10 21:50:42 (40.9 MB/s) - ‘german_credit_data.csv’ saved [99589/99589]\n",
      "\n"
     ]
    }
   ],
   "source": [
    "!wget https://sagemaker-sample-files.s3.amazonaws.com/datasets/tabular/uci_statlog_german_credit_data/german_credit_data.csv\n"
   ]
  },
  {
   "cell_type": "code",
   "execution_count": 6,
   "id": "c3a7b038",
   "metadata": {},
   "outputs": [
    {
     "name": "stdout",
     "output_type": "stream",
     "text": [
      "Data uploaded to: s3://sagemaker-us-east-1-348693786573/data-wrangler-demo/german_credit_data.csv\n"
     ]
    }
   ],
   "source": [
    "dataset_uri = S3Uploader.upload('german_credit_data.csv', 's3://{}/{}'.format(bucket,prefix))\n",
    "print('Data uploaded to: {}'.format(dataset_uri))"
   ]
  },
  {
   "cell_type": "code",
   "execution_count": 7,
   "id": "1c86b352",
   "metadata": {},
   "outputs": [
    {
     "data": {
      "text/plain": [
       "'sagemaker-us-east-1-348693786573'"
      ]
     },
     "execution_count": 7,
     "metadata": {},
     "output_type": "execute_result"
    }
   ],
   "source": [
    "bucket"
   ]
  },
  {
   "cell_type": "code",
   "execution_count": 8,
   "id": "29d1a258",
   "metadata": {},
   "outputs": [
    {
     "name": "stdout",
     "output_type": "stream",
     "text": [
      "total 7268\r\n",
      "-rw-rw-r-- 1 ec2-user ec2-user    3274 Jun  8 04:52 002 - Sessions.ipynb\r\n",
      "-rw-rw-r-- 1 ec2-user ec2-user   18730 Jun  8 04:52 005 - Glue Catalog.ipynb\r\n",
      "-rw-rw-r-- 1 ec2-user ec2-user   17501 Jun  9 13:09 01-prep_data.ipynb\r\n",
      "-rw-rw-r-- 1 ec2-user ec2-user 3391420 Jun  7 23:11 adult.csv\r\n",
      "-rw-rw-r-- 1 ec2-user ec2-user  969287 Feb 16  2021 bucket\r\n",
      "-rw-rw-r-- 1 ec2-user ec2-user  970457 Jun  7 23:11 churn.csv\r\n",
      "-rw-rw-r-- 1 ec2-user ec2-user  969287 Feb 16  2021 churn.txt\r\n",
      "-rw-rw-r-- 1 ec2-user ec2-user    3361 Jun 10 21:52 data-wrangler-hands-on.ipynb\r\n",
      "-rw-rw-r-- 1 ec2-user ec2-user   99589 Apr 16  2021 german_credit_data.csv\r\n",
      "drwxrwxr-x 5 ec2-user ec2-user    4096 Jun 10 04:53 \u001b[0m\u001b[01;34mModel-Hallucination\u001b[0m/\r\n",
      "-rw-rw-r-- 1 ec2-user ec2-user      13 Jun  7 23:11 README.md\r\n",
      "drwxrwxr-x 5 ec2-user ec2-user    4096 Jun  8 20:49 \u001b[01;34msagemaker\u001b[0m/\r\n",
      "-rw-rw-r-- 1 ec2-user ec2-user    3274 Jun  8 04:52 tutorial\r\n",
      "-rw-rw-r-- 1 ec2-user ec2-user  970457 Jun  7 23:11 WA_Fn-UseC_-Telco-Customer-Churn.csv\r\n"
     ]
    }
   ],
   "source": [
    "ls -l"
   ]
  },
  {
   "cell_type": "code",
   "execution_count": 10,
   "id": "1a03ba10",
   "metadata": {},
   "outputs": [
    {
     "name": "stdout",
     "output_type": "stream",
     "text": [
      "warning: adding embedded git repository: sagemaker\r\n",
      "\u001b[33mhint: You've added another git repository inside your current repository.\u001b[m\r\n",
      "\u001b[33mhint: Clones of the outer repository will not contain the contents of\u001b[m\r\n",
      "\u001b[33mhint: the embedded repository and will not know how to obtain it.\u001b[m\r\n",
      "\u001b[33mhint: If you meant to add a submodule, use:\u001b[m\r\n",
      "\u001b[33mhint: \u001b[m\r\n",
      "\u001b[33mhint: \tgit submodule add <url> sagemaker\u001b[m\r\n",
      "\u001b[33mhint: \u001b[m\r\n",
      "\u001b[33mhint: If you added this path by mistake, you can remove it from the\u001b[m\r\n",
      "\u001b[33mhint: index with:\u001b[m\r\n",
      "\u001b[33mhint: \u001b[m\r\n",
      "\u001b[33mhint: \tgit rm --cached sagemaker\u001b[m\r\n",
      "\u001b[33mhint: \u001b[m\r\n",
      "\u001b[33mhint: See \"git help submodule\" for more information.\u001b[m\r\n"
     ]
    }
   ],
   "source": [
    "!git add ."
   ]
  },
  {
   "cell_type": "markdown",
   "id": "6fdb7dec",
   "metadata": {},
   "source": [
    "!git commit -m \"sagemaker-june10\""
   ]
  },
  {
   "cell_type": "code",
   "execution_count": 76,
   "id": "202c811a",
   "metadata": {},
   "outputs": [],
   "source": [
    "!git config --global user.name \"strategypk\""
   ]
  },
  {
   "cell_type": "code",
   "execution_count": 77,
   "id": "69d2f7a8",
   "metadata": {},
   "outputs": [],
   "source": [
    "# !git config --global pk.gmail strategypk@gmail.com\n",
    "!git config --global user.email strategypk@gmail.com"
   ]
  },
  {
   "cell_type": "code",
   "execution_count": 80,
   "id": "82c56824",
   "metadata": {},
   "outputs": [
    {
     "name": "stdout",
     "output_type": "stream",
     "text": [
      "fatal: The current branch master has no upstream branch.\r\n",
      "To push the current branch and set the remote as upstream, use\r\n",
      "\r\n",
      "    git push --set-upstream origin master\r\n",
      "\r\n",
      "To have this happen automatically for branches without a tracking\r\n",
      "upstream, see 'push.autoSetupRemote' in 'git help config'.\r\n",
      "\r\n"
     ]
    }
   ],
   "source": [
    "!git push\n"
   ]
  },
  {
   "cell_type": "code",
   "execution_count": 79,
   "id": "2578e78e",
   "metadata": {},
   "outputs": [
    {
     "name": "stdout",
     "output_type": "stream",
     "text": [
      "Username for 'https://github.com/strategypk/sagemaker.git': ^C\n"
     ]
    }
   ],
   "source": [
    "!git push --set-upstream origin master"
   ]
  },
  {
   "cell_type": "code",
   "execution_count": 20,
   "id": "b2388b32",
   "metadata": {},
   "outputs": [
    {
     "name": "stdout",
     "output_type": "stream",
     "text": [
      "total 7448\r\n",
      "-rw-rw-r-- 1 ec2-user ec2-user    3274 Jun  8 04:52 002 - Sessions.ipynb\r\n",
      "-rw-rw-r-- 1 ec2-user ec2-user   18730 Jun  8 04:52 005 - Glue Catalog.ipynb\r\n",
      "-rw-rw-r-- 1 ec2-user ec2-user   17501 Jun  9 13:09 01-prep_data.ipynb\r\n",
      "-rw-rw-r-- 1 ec2-user ec2-user 3391420 Jun  7 23:11 adult.csv\r\n",
      "-rw-rw-r-- 1 ec2-user ec2-user  969287 Feb 16  2021 bucket\r\n",
      "-rw-rw-r-- 1 ec2-user ec2-user  970457 Jun  7 23:11 churn.csv\r\n",
      "-rw-rw-r-- 1 ec2-user ec2-user  969287 Feb 16  2021 churn.txt\r\n",
      "-rw-rw-r-- 1 ec2-user ec2-user  184983 Jun 10 21:58 data-wrangler-hands-on.ipynb\r\n",
      "-rw-rw-r-- 1 ec2-user ec2-user   99589 Apr 16  2021 german_credit_data.csv\r\n",
      "drwxrwxr-x 5 ec2-user ec2-user    4096 Jun 10 04:53 \u001b[0m\u001b[01;34mModel-Hallucination\u001b[0m/\r\n",
      "-rw-rw-r-- 1 ec2-user ec2-user      13 Jun  7 23:11 README.md\r\n",
      "drwxrwxr-x 5 ec2-user ec2-user    4096 Jun  8 20:49 \u001b[01;34msagemaker\u001b[0m/\r\n",
      "-rw-rw-r-- 1 ec2-user ec2-user    3274 Jun  8 04:52 tutorial\r\n",
      "-rw-rw-r-- 1 ec2-user ec2-user  970457 Jun  7 23:11 WA_Fn-UseC_-Telco-Customer-Churn.csv\r\n"
     ]
    }
   ],
   "source": [
    "ls -l"
   ]
  },
  {
   "cell_type": "code",
   "execution_count": 21,
   "id": "84ca43e0",
   "metadata": {},
   "outputs": [],
   "source": [
    "mkdir wrangler"
   ]
  },
  {
   "cell_type": "code",
   "execution_count": 22,
   "id": "bb27b853",
   "metadata": {},
   "outputs": [
    {
     "data": {
      "text/plain": [
       "<function dir>"
      ]
     },
     "execution_count": 22,
     "metadata": {},
     "output_type": "execute_result"
    }
   ],
   "source": [
    "dir\n"
   ]
  },
  {
   "cell_type": "code",
   "execution_count": 23,
   "id": "07d47f29",
   "metadata": {},
   "outputs": [
    {
     "name": "stdout",
     "output_type": "stream",
     "text": [
      "002 - Sessions.ipynb          german_credit_data.csv\r\n",
      "005 - Glue Catalog.ipynb      \u001b[0m\u001b[01;34mModel-Hallucination\u001b[0m/\r\n",
      "01-prep_data.ipynb            README.md\r\n",
      "adult.csv                     \u001b[01;34msagemaker\u001b[0m/\r\n",
      "bucket                        tutorial\r\n",
      "churn.csv                     WA_Fn-UseC_-Telco-Customer-Churn.csv\r\n",
      "churn.txt                     \u001b[01;34mwrangler\u001b[0m/\r\n",
      "data-wrangler-hands-on.ipynb\r\n"
     ]
    }
   ],
   "source": [
    "ls"
   ]
  },
  {
   "cell_type": "code",
   "execution_count": 24,
   "id": "f6e5342f",
   "metadata": {},
   "outputs": [],
   "source": [
    "mv ger*.* ./wrangler"
   ]
  },
  {
   "cell_type": "code",
   "execution_count": 25,
   "id": "decc7e76",
   "metadata": {},
   "outputs": [
    {
     "name": "stdout",
     "output_type": "stream",
     "text": [
      "total 7352\r\n",
      "-rw-rw-r-- 1 ec2-user ec2-user    3274 Jun  8 04:52 002 - Sessions.ipynb\r\n",
      "-rw-rw-r-- 1 ec2-user ec2-user   18730 Jun  8 04:52 005 - Glue Catalog.ipynb\r\n",
      "-rw-rw-r-- 1 ec2-user ec2-user   17501 Jun  9 13:09 01-prep_data.ipynb\r\n",
      "-rw-rw-r-- 1 ec2-user ec2-user 3391420 Jun  7 23:11 adult.csv\r\n",
      "-rw-rw-r-- 1 ec2-user ec2-user  969287 Feb 16  2021 bucket\r\n",
      "-rw-rw-r-- 1 ec2-user ec2-user  970457 Jun  7 23:11 churn.csv\r\n",
      "-rw-rw-r-- 1 ec2-user ec2-user  969287 Feb 16  2021 churn.txt\r\n",
      "-rw-rw-r-- 1 ec2-user ec2-user  186307 Jun 10 22:00 data-wrangler-hands-on.ipynb\r\n",
      "drwxrwxr-x 5 ec2-user ec2-user    4096 Jun 10 04:53 \u001b[0m\u001b[01;34mModel-Hallucination\u001b[0m/\r\n",
      "-rw-rw-r-- 1 ec2-user ec2-user      13 Jun  7 23:11 README.md\r\n",
      "drwxrwxr-x 5 ec2-user ec2-user    4096 Jun  8 20:49 \u001b[01;34msagemaker\u001b[0m/\r\n",
      "-rw-rw-r-- 1 ec2-user ec2-user    3274 Jun  8 04:52 tutorial\r\n",
      "-rw-rw-r-- 1 ec2-user ec2-user  970457 Jun  7 23:11 WA_Fn-UseC_-Telco-Customer-Churn.csv\r\n",
      "drwxrwxr-x 2 ec2-user ec2-user    4096 Jun 10 22:02 \u001b[01;34mwrangler\u001b[0m/\r\n"
     ]
    }
   ],
   "source": [
    "ls -l\n"
   ]
  },
  {
   "cell_type": "code",
   "execution_count": 26,
   "id": "99203621",
   "metadata": {},
   "outputs": [],
   "source": [
    "mv data-wr*.* ./wrangler"
   ]
  },
  {
   "cell_type": "code",
   "execution_count": 81,
   "id": "5ed676d8",
   "metadata": {},
   "outputs": [
    {
     "name": "stdout",
     "output_type": "stream",
     "text": [
      "data-wrangler-hands-on.ipynb  german_credit_data.csv\r\n"
     ]
    }
   ],
   "source": [
    "ls"
   ]
  },
  {
   "cell_type": "code",
   "execution_count": 67,
   "id": "3062b804",
   "metadata": {},
   "outputs": [
    {
     "name": "stdout",
     "output_type": "stream",
     "text": [
      "[Errno 2] No such file or directory: 'wrangler'\n",
      "/home/ec2-user/SageMaker/sagemaker/wrangler\n"
     ]
    }
   ],
   "source": [
    "cd wrangler"
   ]
  },
  {
   "cell_type": "code",
   "execution_count": 69,
   "id": "da2eb3f4",
   "metadata": {},
   "outputs": [
    {
     "name": "stdout",
     "output_type": "stream",
     "text": [
      "total 112\r\n",
      "-rw-rw-r-- 1 ec2-user ec2-user 11037 Jun 10 22:02 data-wrangler-hands-on.ipynb\r\n",
      "-rw-rw-r-- 1 ec2-user ec2-user 99589 Apr 16  2021 german_credit_data.csv\r\n"
     ]
    }
   ],
   "source": [
    "ls -l\n"
   ]
  },
  {
   "cell_type": "code",
   "execution_count": 74,
   "id": "d0f184ae",
   "metadata": {},
   "outputs": [],
   "source": [
    "!git add ."
   ]
  },
  {
   "cell_type": "code",
   "execution_count": 75,
   "id": "1e05b0c7",
   "metadata": {},
   "outputs": [
    {
     "name": "stdout",
     "output_type": "stream",
     "text": [
      "On branch master\r\n",
      "nothing to commit, working tree clean\r\n"
     ]
    }
   ],
   "source": [
    "!git status"
   ]
  },
  {
   "cell_type": "code",
   "execution_count": 72,
   "id": "09959466",
   "metadata": {},
   "outputs": [
    {
     "name": "stdout",
     "output_type": "stream",
     "text": [
      "git: 'discard' is not a git command. See 'git --help'.\r\n"
     ]
    }
   ],
   "source": [
    "!git discard"
   ]
  },
  {
   "cell_type": "code",
   "execution_count": 73,
   "id": "60c42f8a",
   "metadata": {},
   "outputs": [
    {
     "name": "stdout",
     "output_type": "stream",
     "text": [
      "Reinitialized existing Git repository in /home/ec2-user/SageMaker/sagemaker/wrangler/.git/\r\n"
     ]
    }
   ],
   "source": [
    "!git init"
   ]
  },
  {
   "cell_type": "code",
   "execution_count": 48,
   "id": "99114b2a",
   "metadata": {},
   "outputs": [
    {
     "name": "stdout",
     "output_type": "stream",
     "text": [
      "On branch master\r\n",
      "nothing to commit, working tree clean\r\n"
     ]
    }
   ],
   "source": [
    "!git status"
   ]
  },
  {
   "cell_type": "code",
   "execution_count": 49,
   "id": "23e96c28",
   "metadata": {},
   "outputs": [
    {
     "name": "stdout",
     "output_type": "stream",
     "text": [
      "/home/ec2-user/SageMaker/sagemaker/wrangler\r\n"
     ]
    }
   ],
   "source": [
    "!pwd"
   ]
  },
  {
   "cell_type": "code",
   "execution_count": 56,
   "id": "8c863f97",
   "metadata": {},
   "outputs": [],
   "source": [
    "!git add ."
   ]
  },
  {
   "cell_type": "code",
   "execution_count": 51,
   "id": "b269da35",
   "metadata": {},
   "outputs": [
    {
     "name": "stdout",
     "output_type": "stream",
     "text": [
      "On branch master\r\n",
      "nothing to commit, working tree clean\r\n"
     ]
    }
   ],
   "source": [
    "!git commit -m \"wrangler\""
   ]
  },
  {
   "cell_type": "code",
   "execution_count": 57,
   "id": "bd614f9c",
   "metadata": {},
   "outputs": [
    {
     "name": "stdout",
     "output_type": "stream",
     "text": [
      "On branch master\r\n",
      "nothing to commit, working tree clean\r\n"
     ]
    }
   ],
   "source": [
    "!git status"
   ]
  },
  {
   "cell_type": "code",
   "execution_count": 53,
   "id": "2bd4dbbe",
   "metadata": {},
   "outputs": [
    {
     "name": "stdout",
     "output_type": "stream",
     "text": [
      "fatal: The current branch master has no upstream branch.\r\n",
      "To push the current branch and set the remote as upstream, use\r\n",
      "\r\n",
      "    git push --set-upstream origin master\r\n",
      "\r\n",
      "To have this happen automatically for branches without a tracking\r\n",
      "upstream, see 'push.autoSetupRemote' in 'git help config'.\r\n",
      "\r\n"
     ]
    }
   ],
   "source": [
    "!git push"
   ]
  },
  {
   "cell_type": "code",
   "execution_count": 82,
   "id": "186a7a10",
   "metadata": {},
   "outputs": [
    {
     "name": "stdout",
     "output_type": "stream",
     "text": [
      "error: remote origin already exists.\r\n"
     ]
    }
   ],
   "source": [
    "!git remote add origin https://github.com/strategypk/sagemaker.git"
   ]
  },
  {
   "cell_type": "code",
   "execution_count": 43,
   "id": "43951937",
   "metadata": {},
   "outputs": [
    {
     "name": "stdout",
     "output_type": "stream",
     "text": [
      "Username for 'https://github.com/strategypk/sagemaker.git': ^C\n"
     ]
    }
   ],
   "source": [
    "!git push --set-upstream origin master"
   ]
  },
  {
   "cell_type": "code",
   "execution_count": 62,
   "id": "742f88c0",
   "metadata": {},
   "outputs": [],
   "source": [
    "!git add ."
   ]
  },
  {
   "cell_type": "code",
   "execution_count": 61,
   "id": "36105e3b",
   "metadata": {},
   "outputs": [
    {
     "name": "stdout",
     "output_type": "stream",
     "text": [
      "On branch master\r\n",
      "nothing to commit, working tree clean\r\n"
     ]
    }
   ],
   "source": [
    "!git status"
   ]
  },
  {
   "cell_type": "code",
   "execution_count": 83,
   "id": "953cd250",
   "metadata": {},
   "outputs": [],
   "source": [
    "!git fetch"
   ]
  },
  {
   "cell_type": "code",
   "execution_count": 84,
   "id": "02aebadb",
   "metadata": {},
   "outputs": [
    {
     "name": "stdout",
     "output_type": "stream",
     "text": [
      "total 112\r\n",
      "-rw-rw-r-- 1 ec2-user ec2-user 11037 Jun 10 22:02 data-wrangler-hands-on.ipynb\r\n",
      "-rw-rw-r-- 1 ec2-user ec2-user 99589 Apr 16  2021 german_credit_data.csv\r\n"
     ]
    }
   ],
   "source": [
    "ls -l"
   ]
  },
  {
   "cell_type": "code",
   "execution_count": 65,
   "id": "4a66fa49",
   "metadata": {},
   "outputs": [
    {
     "name": "stdout",
     "output_type": "stream",
     "text": [
      "Username for 'https://github.com/strategypk/sagemaker.git': ^C\n"
     ]
    }
   ],
   "source": [
    "!git push -u -f origin master"
   ]
  },
  {
   "cell_type": "code",
   "execution_count": 60,
   "id": "bc58e02c",
   "metadata": {},
   "outputs": [
    {
     "ename": "NameError",
     "evalue": "name 'strategypk' is not defined",
     "output_type": "error",
     "traceback": [
      "\u001b[0;31m---------------------------------------------------------------------------\u001b[0m",
      "\u001b[0;31mNameError\u001b[0m                                 Traceback (most recent call last)",
      "Cell \u001b[0;32mIn[60], line 1\u001b[0m\n\u001b[0;32m----> 1\u001b[0m \u001b[43mstrategypk\u001b[49m\n",
      "\u001b[0;31mNameError\u001b[0m: name 'strategypk' is not defined"
     ]
    }
   ],
   "source": [
    "strategypk"
   ]
  },
  {
   "cell_type": "code",
   "execution_count": null,
   "id": "738ae999",
   "metadata": {},
   "outputs": [],
   "source": []
  }
 ],
 "metadata": {
  "kernelspec": {
   "display_name": "conda_python3",
   "language": "python",
   "name": "conda_python3"
  },
  "language_info": {
   "codemirror_mode": {
    "name": "ipython",
    "version": 3
   },
   "file_extension": ".py",
   "mimetype": "text/x-python",
   "name": "python",
   "nbconvert_exporter": "python",
   "pygments_lexer": "ipython3",
   "version": "3.10.8"
  }
 },
 "nbformat": 4,
 "nbformat_minor": 5
}
