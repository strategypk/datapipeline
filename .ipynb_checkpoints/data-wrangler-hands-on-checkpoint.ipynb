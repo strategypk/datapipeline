{
 "cells": [
  {
   "cell_type": "code",
   "execution_count": 1,
   "id": "939a6431",
   "metadata": {},
   "outputs": [],
   "source": [
    "from sagemaker.s3 import S3Uploader\n",
    "import sagemaker"
   ]
  },
  {
   "cell_type": "code",
   "execution_count": 3,
   "id": "1f3e4138",
   "metadata": {},
   "outputs": [],
   "source": [
    "sagemaker_session = sagemaker.Session()\n",
    "bucket = sagemaker_session.default_bucket()\n",
    "prefix = 'data-wrangler-demo'"
   ]
  },
  {
   "cell_type": "code",
   "execution_count": 5,
   "id": "fd1909d8",
   "metadata": {},
   "outputs": [
    {
     "name": "stdout",
     "output_type": "stream",
     "text": [
      "--2023-06-10 21:50:42--  https://sagemaker-sample-files.s3.amazonaws.com/datasets/tabular/uci_statlog_german_credit_data/german_credit_data.csv\n",
      "Resolving sagemaker-sample-files.s3.amazonaws.com (sagemaker-sample-files.s3.amazonaws.com)... 52.217.206.137, 54.231.232.81, 52.216.211.129, ...\n",
      "Connecting to sagemaker-sample-files.s3.amazonaws.com (sagemaker-sample-files.s3.amazonaws.com)|52.217.206.137|:443... connected.\n",
      "HTTP request sent, awaiting response... 200 OK\n",
      "Length: 99589 (97K) [text/csv]\n",
      "Saving to: ‘german_credit_data.csv’\n",
      "\n",
      "100%[======================================>] 99,589      --.-K/s   in 0.002s  \n",
      "\n",
      "2023-06-10 21:50:42 (40.9 MB/s) - ‘german_credit_data.csv’ saved [99589/99589]\n",
      "\n"
     ]
    }
   ],
   "source": [
    "!wget https://sagemaker-sample-files.s3.amazonaws.com/datasets/tabular/uci_statlog_german_credit_data/german_credit_data.csv\n"
   ]
  },
  {
   "cell_type": "code",
   "execution_count": 6,
   "id": "00d0a56c",
   "metadata": {},
   "outputs": [
    {
     "name": "stdout",
     "output_type": "stream",
     "text": [
      "Data uploaded to: s3://sagemaker-us-east-1-348693786573/data-wrangler-demo/german_credit_data.csv\n"
     ]
    }
   ],
   "source": [
    "dataset_uri = S3Uploader.upload('german_credit_data.csv', 's3://{}/{}'.format(bucket,prefix))\n",
    "print('Data uploaded to: {}'.format(dataset_uri))"
   ]
  },
  {
   "cell_type": "code",
   "execution_count": 7,
   "id": "9ba2f816",
   "metadata": {},
   "outputs": [
    {
     "data": {
      "text/plain": [
       "'sagemaker-us-east-1-348693786573'"
      ]
     },
     "execution_count": 7,
     "metadata": {},
     "output_type": "execute_result"
    }
   ],
   "source": [
    "bucket"
   ]
  },
  {
   "cell_type": "code",
   "execution_count": null,
   "id": "fbcc71d4",
   "metadata": {},
   "outputs": [],
   "source": []
  },
  {
   "cell_type": "code",
   "execution_count": null,
   "id": "6889e8d8",
   "metadata": {},
   "outputs": [],
   "source": []
  },
  {
   "cell_type": "code",
   "execution_count": null,
   "id": "fb972186",
   "metadata": {},
   "outputs": [],
   "source": []
  }
 ],
 "metadata": {
  "kernelspec": {
   "display_name": "conda_python3",
   "language": "python",
   "name": "conda_python3"
  },
  "language_info": {
   "codemirror_mode": {
    "name": "ipython",
    "version": 3
   },
   "file_extension": ".py",
   "mimetype": "text/x-python",
   "name": "python",
   "nbconvert_exporter": "python",
   "pygments_lexer": "ipython3",
   "version": "3.10.8"
  }
 },
 "nbformat": 4,
 "nbformat_minor": 5
}
